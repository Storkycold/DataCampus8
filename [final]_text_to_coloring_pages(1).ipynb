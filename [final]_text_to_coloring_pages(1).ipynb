{
  "nbformat": 4,
  "nbformat_minor": 0,
  "metadata": {
    "colab": {
      "name": "[final] text-to-coloring_pages(1).ipynb",
      "provenance": [],
      "collapsed_sections": [
        "EMe5iouupslk",
        "cVuZBr_cqG5I",
        "UPJADWKtqOcU"
      ]
    },
    "kernelspec": {
      "name": "python3",
      "display_name": "Python 3"
    },
    "language_info": {
      "name": "python"
    },
    "accelerator": "GPU",
    "gpuClass": "standard"
  },
  "cells": [
    {
      "cell_type": "markdown",
      "source": [
        "# [final] text-to-coloring_pages(1)\n",
        "\n",
        "[![Open In Colab](https://colab.research.google.com/assets/colab-badge.svg)](https://colab.research.google.com/drive/1fGAo6fKv1T266lw12RLB1gA7WXY-74i8?usp=sharing)\n",
        "\n",
        "\n",
        "코드 수정 없이 진행하려면 구글 드라이브 내부에 'pix2pix'폴더가 있고,  'pix2pix'폴더 내부에는 Pix2Pix_Generator_V1(100e).pt와 Pix2Pix_Generator_V2(125e).pt 2개의 모델이 들어있는 'trained_model' 폴더가 있어야 함.\n",
        "\n",
        "해당 trained model은 https://github.com/juneshuai/DataProject/tree/main/pix2pix/trained_model 혹은 https://drive.google.com/drive/folders/1W0SsokziLlcHnCmOSAg9Ns55uS5iQQTj?usp=sharing 에서 다운로드 할 수 있음. \n"
      ],
      "metadata": {
        "id": "C4hFLbwip1dI"
      }
    },
    {
      "cell_type": "markdown",
      "source": [
        "# 0.구글 드라이브 마운트\n"
      ],
      "metadata": {
        "id": "EMe5iouupslk"
      }
    },
    {
      "cell_type": "code",
      "source": [
        "from google.colab import drive\n",
        "drive.mount('/content/drive') "
      ],
      "metadata": {
        "colab": {
          "base_uri": "https://localhost:8080/"
        },
        "id": "JKX7g4cbbIYn",
        "outputId": "6b6979db-1092-4e90-c865-308fcc2715a0"
      },
      "execution_count": null,
      "outputs": [
        {
          "output_type": "stream",
          "name": "stdout",
          "text": [
            "Drive already mounted at /content/drive; to attempt to forcibly remount, call drive.mount(\"/content/drive\", force_remount=True).\n"
          ]
        }
      ]
    },
    {
      "cell_type": "markdown",
      "source": [
        "# 1.필요 라이브러리 install"
      ],
      "metadata": {
        "id": "cVuZBr_cqG5I"
      }
    },
    {
      "cell_type": "code",
      "execution_count": null,
      "metadata": {
        "colab": {
          "base_uri": "https://localhost:8080/"
        },
        "id": "8u87CqcUYkQW",
        "outputId": "bd411f71-8b8c-47bc-d33d-0d1724842c5d"
      },
      "outputs": [
        {
          "output_type": "stream",
          "name": "stdout",
          "text": [
            "Looking in indexes: https://pypi.org/simple, https://us-python.pkg.dev/colab-wheels/public/simple/\n",
            "Requirement already satisfied: sentence_transformers in /usr/local/lib/python3.7/dist-packages (2.2.2)\n",
            "Requirement already satisfied: huggingface-hub>=0.4.0 in /usr/local/lib/python3.7/dist-packages (from sentence_transformers) (0.9.0)\n",
            "Requirement already satisfied: tqdm in /usr/local/lib/python3.7/dist-packages (from sentence_transformers) (4.64.0)\n",
            "Requirement already satisfied: scipy in /usr/local/lib/python3.7/dist-packages (from sentence_transformers) (1.7.3)\n",
            "Requirement already satisfied: scikit-learn in /usr/local/lib/python3.7/dist-packages (from sentence_transformers) (1.0.2)\n",
            "Requirement already satisfied: sentencepiece in /usr/local/lib/python3.7/dist-packages (from sentence_transformers) (0.1.97)\n",
            "Requirement already satisfied: numpy in /usr/local/lib/python3.7/dist-packages (from sentence_transformers) (1.21.6)\n",
            "Requirement already satisfied: nltk in /usr/local/lib/python3.7/dist-packages (from sentence_transformers) (3.7)\n",
            "Requirement already satisfied: torchvision in /usr/local/lib/python3.7/dist-packages (from sentence_transformers) (0.13.1+cu113)\n",
            "Requirement already satisfied: transformers<5.0.0,>=4.6.0 in /usr/local/lib/python3.7/dist-packages (from sentence_transformers) (4.21.1)\n",
            "Requirement already satisfied: torch>=1.6.0 in /usr/local/lib/python3.7/dist-packages (from sentence_transformers) (1.12.1+cu113)\n",
            "Requirement already satisfied: pyyaml>=5.1 in /usr/local/lib/python3.7/dist-packages (from huggingface-hub>=0.4.0->sentence_transformers) (6.0)\n",
            "Requirement already satisfied: packaging>=20.9 in /usr/local/lib/python3.7/dist-packages (from huggingface-hub>=0.4.0->sentence_transformers) (21.3)\n",
            "Requirement already satisfied: importlib-metadata in /usr/local/lib/python3.7/dist-packages (from huggingface-hub>=0.4.0->sentence_transformers) (4.12.0)\n",
            "Requirement already satisfied: filelock in /usr/local/lib/python3.7/dist-packages (from huggingface-hub>=0.4.0->sentence_transformers) (3.8.0)\n",
            "Requirement already satisfied: requests in /usr/local/lib/python3.7/dist-packages (from huggingface-hub>=0.4.0->sentence_transformers) (2.23.0)\n",
            "Requirement already satisfied: typing-extensions>=3.7.4.3 in /usr/local/lib/python3.7/dist-packages (from huggingface-hub>=0.4.0->sentence_transformers) (4.1.1)\n",
            "Requirement already satisfied: pyparsing!=3.0.5,>=2.0.2 in /usr/local/lib/python3.7/dist-packages (from packaging>=20.9->huggingface-hub>=0.4.0->sentence_transformers) (3.0.9)\n",
            "Requirement already satisfied: tokenizers!=0.11.3,<0.13,>=0.11.1 in /usr/local/lib/python3.7/dist-packages (from transformers<5.0.0,>=4.6.0->sentence_transformers) (0.12.1)\n",
            "Requirement already satisfied: regex!=2019.12.17 in /usr/local/lib/python3.7/dist-packages (from transformers<5.0.0,>=4.6.0->sentence_transformers) (2022.6.2)\n",
            "Requirement already satisfied: zipp>=0.5 in /usr/local/lib/python3.7/dist-packages (from importlib-metadata->huggingface-hub>=0.4.0->sentence_transformers) (3.8.1)\n",
            "Requirement already satisfied: click in /usr/local/lib/python3.7/dist-packages (from nltk->sentence_transformers) (7.1.2)\n",
            "Requirement already satisfied: joblib in /usr/local/lib/python3.7/dist-packages (from nltk->sentence_transformers) (1.1.0)\n",
            "Requirement already satisfied: urllib3!=1.25.0,!=1.25.1,<1.26,>=1.21.1 in /usr/local/lib/python3.7/dist-packages (from requests->huggingface-hub>=0.4.0->sentence_transformers) (1.24.3)\n",
            "Requirement already satisfied: certifi>=2017.4.17 in /usr/local/lib/python3.7/dist-packages (from requests->huggingface-hub>=0.4.0->sentence_transformers) (2022.6.15)\n",
            "Requirement already satisfied: idna<3,>=2.5 in /usr/local/lib/python3.7/dist-packages (from requests->huggingface-hub>=0.4.0->sentence_transformers) (2.10)\n",
            "Requirement already satisfied: chardet<4,>=3.0.2 in /usr/local/lib/python3.7/dist-packages (from requests->huggingface-hub>=0.4.0->sentence_transformers) (3.0.4)\n",
            "Requirement already satisfied: threadpoolctl>=2.0.0 in /usr/local/lib/python3.7/dist-packages (from scikit-learn->sentence_transformers) (3.1.0)\n",
            "Requirement already satisfied: pillow!=8.3.*,>=5.3.0 in /usr/local/lib/python3.7/dist-packages (from torchvision->sentence_transformers) (7.1.2)\n",
            "Looking in indexes: https://pypi.org/simple, https://us-python.pkg.dev/colab-wheels/public/simple/\n",
            "Requirement already satisfied: konlpy in /usr/local/lib/python3.7/dist-packages (0.6.0)\n",
            "Requirement already satisfied: JPype1>=0.7.0 in /usr/local/lib/python3.7/dist-packages (from konlpy) (1.4.0)\n",
            "Requirement already satisfied: lxml>=4.1.0 in /usr/local/lib/python3.7/dist-packages (from konlpy) (4.9.1)\n",
            "Requirement already satisfied: numpy>=1.6 in /usr/local/lib/python3.7/dist-packages (from konlpy) (1.21.6)\n",
            "Requirement already satisfied: typing-extensions in /usr/local/lib/python3.7/dist-packages (from JPype1>=0.7.0->konlpy) (4.1.1)\n"
          ]
        }
      ],
      "source": [
        "#명사추출을 위해 필요한 라이브러리 모음\n",
        "!pip install sentence_transformers\n",
        "!pip install konlpy\n",
        "!pip install -q jmd_imagescraper"
      ]
    },
    {
      "cell_type": "markdown",
      "source": [
        "# 2.필요한 라이브러리 불러오기, 함수, 모델 정의하기"
      ],
      "metadata": {
        "id": "UPJADWKtqOcU"
      }
    },
    {
      "cell_type": "code",
      "source": [
        "#konlpy랑 papago translate위한 라이브러리, 함수\n",
        "\n",
        "import numpy as np\n",
        "import itertools\n",
        "\n",
        "from konlpy.tag import Okt\n",
        "from sklearn.feature_extraction.text import CountVectorizer\n",
        "from sklearn.metrics.pairwise import cosine_similarity\n",
        "from sentence_transformers import SentenceTransformer\n",
        "\n",
        "import requests\n",
        "\n",
        "#번역 함수\n",
        "def get_translate(text): \n",
        "    client_id = \"VS68zCj4KvXKRD7avvi6\" #@param {type:\"string\"}\n",
        "    client_secret = \"WYDQls3eBJ\" #@param {type:\"string\"}\n",
        "\n",
        "    data = {'text' : text,\n",
        "            'source' : 'ko',\n",
        "            'target': 'en'}\n",
        "\n",
        "    url = \"https://openapi.naver.com/v1/papago/n2mt\"\n",
        "\n",
        "    header = {\"X-Naver-Client-Id\":client_id,\n",
        "              \"X-Naver-Client-Secret\":client_secret}\n",
        "\n",
        "    response = requests.post(url, headers=header, data=data)\n",
        "    rescode = response.status_code\n",
        "\n",
        "    if(rescode==200):\n",
        "        send_data = response.json()\n",
        "        trans_data = (send_data['message']['result']['translatedText'])\n",
        "        return trans_data\n",
        "    else:\n",
        "        print(\"Error Code:\" , rescode)"
      ],
      "metadata": {
        "id": "MyMVsWZPaiCZ"
      },
      "execution_count": null,
      "outputs": []
    },
    {
      "cell_type": "code",
      "source": [
        "# 이미지 폴더, 파일 읽기 위한 라이브러리, 함수\n",
        "\n",
        "from __future__ import print_function\n",
        "import argparse\n",
        "\n",
        "from torch.autograd import Variable\n",
        "\n",
        "import os\n",
        "from PIL import Image\n",
        "import PIL.Image\n",
        "import PIL.ImageTk\n",
        "import cv2\n",
        "from google.colab.patches import cv2_imshow\n",
        "from IPython.display import Image\n",
        "\n",
        "# 확장자로 이미지 파일인지 확인하는 함수\n",
        "def is_image_file(filename):\n",
        "    return any(filename.endswith(extension) for extension in [\".png\", \".jpg\", \".jpeg\"])\n",
        "\n",
        "# rgb, 사이즈 맞춰서 이미지 가져오는 함수\n",
        "def load_img(filepath): \n",
        "    img = PIL.Image.open(filepath).convert('RGB')\n",
        "    img = img.resize((256, 256))\n",
        "    return img\n",
        "\n",
        "# 이미지 저장하는 함수\n",
        "def save_img(image_tensor, filename):\n",
        "    image_numpy = image_tensor.float().numpy()\n",
        "    image_numpy = (np.transpose(image_numpy, (1, 2, 0)) + 1) / 2.0 * 255.0\n",
        "    image_numpy = image_numpy.astype(np.uint8)\n",
        "    image_pil = Image.fromarray(image_numpy)\n",
        "    image_pil.save(filename)\n",
        "    print(\"Image saved as {}\".format(filename))"
      ],
      "metadata": {
        "id": "-VdoiqzjmP0W"
      },
      "execution_count": null,
      "outputs": []
    },
    {
      "cell_type": "code",
      "source": [
        "#모델 정의\n",
        "\n",
        "import os\n",
        "import glob\n",
        "import numpy as np\n",
        "import matplotlib.pyplot as plt\n",
        "from PIL import Image\n",
        "\n",
        "import torch\n",
        "import torch.nn as nn\n",
        "\n",
        "from torch.utils.data import Dataset\n",
        "from torch.utils.data import DataLoader\n",
        "import torchvision.transforms as transforms\n",
        "from torchvision.utils import save_image\n",
        "\n",
        "# U-Net 아키텍처의 다운 샘플링(Down Sampling) 모듈\n",
        "class UNetDown(nn.Module):\n",
        "    def __init__(self, in_channels, out_channels, normalize=True, dropout=0.0):\n",
        "        super(UNetDown, self).__init__()\n",
        "        # 너비와 높이가 2배씩 감소\n",
        "        layers = [nn.Conv2d(in_channels, out_channels, kernel_size=4, stride=2, padding=1, bias=False)]\n",
        "        if normalize:\n",
        "            layers.append(nn.InstanceNorm2d(out_channels))\n",
        "        layers.append(nn.LeakyReLU(0.2))\n",
        "        if dropout:\n",
        "            layers.append(nn.Dropout(dropout))\n",
        "        self.model = nn.Sequential(*layers)\n",
        "\n",
        "    def forward(self, x):\n",
        "        return self.model(x)\n",
        "\n",
        "\n",
        "# U-Net 아키텍처의 업 샘플링(Up Sampling) 모듈: Skip Connection 사용\n",
        "class UNetUp(nn.Module):\n",
        "    def __init__(self, in_channels, out_channels, dropout=0.0):\n",
        "        super(UNetUp, self).__init__()\n",
        "        # 너비와 높이가 2배씩 증가\n",
        "        layers = [nn.ConvTranspose2d(in_channels, out_channels, kernel_size=4, stride=2, padding=1, bias=False)]\n",
        "        layers.append(nn.InstanceNorm2d(out_channels))\n",
        "        layers.append(nn.ReLU(inplace=True))\n",
        "        if dropout:\n",
        "            layers.append(nn.Dropout(dropout))\n",
        "        self.model = nn.Sequential(*layers)\n",
        "\n",
        "    def forward(self, x, skip_input):\n",
        "        x = self.model(x)\n",
        "        x = torch.cat((x, skip_input), 1) # 채널 레벨에서 합치기(concatenation)\n",
        "\n",
        "        return x\n",
        "\n",
        "\n",
        "# U-Net 생성자(Generator) 아키텍처\n",
        "class GeneratorUNet(nn.Module):\n",
        "    def __init__(self, in_channels=3, out_channels=3):\n",
        "        super(GeneratorUNet, self).__init__()\n",
        "\n",
        "        self.down1 = UNetDown(in_channels, 64, normalize=False) # 출력: [64 X 128 X 128]\n",
        "        self.down2 = UNetDown(64, 128) # 출력: [128 X 64 X 64]\n",
        "        self.down3 = UNetDown(128, 256) # 출력: [256 X 32 X 32]\n",
        "        self.down4 = UNetDown(256, 512, dropout=0.5) # 출력: [512 X 16 X 16]\n",
        "        self.down5 = UNetDown(512, 512, dropout=0.5) # 출력: [512 X 8 X 8]\n",
        "        self.down6 = UNetDown(512, 512, dropout=0.5) # 출력: [512 X 4 X 4]\n",
        "        self.down7 = UNetDown(512, 512, dropout=0.5) # 출력: [512 X 2 X 2]\n",
        "        self.down8 = UNetDown(512, 512, normalize=False, dropout=0.5) # 출력: [512 X 1 X 1]\n",
        "\n",
        "        # Skip Connection 사용(출력 채널의 크기 X 2 == 다음 입력 채널의 크기)\n",
        "        self.up1 = UNetUp(512, 512, dropout=0.5) # 출력: [1024 X 2 X 2]\n",
        "        self.up2 = UNetUp(1024, 512, dropout=0.5) # 출력: [1024 X 4 X 4]\n",
        "        self.up3 = UNetUp(1024, 512, dropout=0.5) # 출력: [1024 X 8 X 8]\n",
        "        self.up4 = UNetUp(1024, 512, dropout=0.5) # 출력: [1024 X 16 X 16]\n",
        "        self.up5 = UNetUp(1024, 256) # 출력: [512 X 32 X 32]\n",
        "        self.up6 = UNetUp(512, 128) # 출력: [256 X 64 X 64]\n",
        "        self.up7 = UNetUp(256, 64) # 출력: [128 X 128 X 128]\n",
        "\n",
        "        self.final = nn.Sequential(\n",
        "            nn.Upsample(scale_factor=2), # 출력: [128 X 256 X 256]\n",
        "            nn.ZeroPad2d((1, 0, 1, 0)),\n",
        "            nn.Conv2d(128, out_channels, kernel_size=4, padding=1), # 출력: [3 X 256 X 256]\n",
        "            nn.Tanh(),\n",
        "        )\n",
        "\n",
        "    def forward(self, x):\n",
        "        # 인코더부터 디코더까지 순전파하는 U-Net 생성자(Generator)\n",
        "        d1 = self.down1(x)\n",
        "        d2 = self.down2(d1)\n",
        "        d3 = self.down3(d2)\n",
        "        d4 = self.down4(d3)\n",
        "        d5 = self.down5(d4)\n",
        "        d6 = self.down6(d5)\n",
        "        d7 = self.down7(d6)\n",
        "        d8 = self.down8(d7)\n",
        "        u1 = self.up1(d8, d7)\n",
        "        u2 = self.up2(u1, d6)\n",
        "        u3 = self.up3(u2, d5)\n",
        "        u4 = self.up4(u3, d4)\n",
        "        u5 = self.up5(u4, d3)\n",
        "        u6 = self.up6(u5, d2)\n",
        "        u7 = self.up7(u6, d1)\n",
        "\n",
        "        return self.final(u7)\n",
        "\n",
        "\n",
        "# U-Net 판별자(Discriminator) 아키텍처\n",
        "class Discriminator(nn.Module):\n",
        "    def __init__(self, in_channels=3):\n",
        "        super(Discriminator, self).__init__()\n",
        "\n",
        "        def discriminator_block(in_channels, out_channels, normalization=True):\n",
        "            # 너비와 높이가 2배씩 감소\n",
        "            layers = [nn.Conv2d(in_channels, out_channels, kernel_size=4, stride=2, padding=1)]\n",
        "            if normalization:\n",
        "                layers.append(nn.InstanceNorm2d(out_channels))\n",
        "            layers.append(nn.LeakyReLU(0.2, inplace=True))\n",
        "            return layers\n",
        "\n",
        "        self.model = nn.Sequential(\n",
        "            # 두 개의 이미지(실제/변환된 이미지, 조건 이미지)를 입력 받으므로 입력 채널의 크기는 2배\n",
        "            *discriminator_block(in_channels * 2, 64, normalization=False), # 출력: [64 X 128 X 128]\n",
        "            *discriminator_block(64, 128), # 출력: [128 X 64 X 64]\n",
        "            *discriminator_block(128, 256), # 출력: [256 X 32 X 32]\n",
        "            *discriminator_block(256, 512), # 출력: [512 X 16 X 16]\n",
        "            nn.ZeroPad2d((1, 0, 1, 0)),\n",
        "            nn.Conv2d(512, 1, kernel_size=4, padding=1, bias=False) # 출력: [1 X 16 X 16]\n",
        "        )\n",
        "\n",
        "    # img_A: 실제/변환된 이미지, img_B: 조건(condition)\n",
        "    def forward(self, img_A, img_B):\n",
        "        # 이미지 두 개를 채널 레벨에서 연결하여(concatenate) 입력 데이터 생성\n",
        "        img_input = torch.cat((img_A, img_B), 1)\n",
        "        return self.model(img_input)\n",
        "\n",
        "\n",
        "\n",
        "\n",
        "def weights_init_normal(m):\n",
        "    classname = m.__class__.__name__\n",
        "    if classname.find(\"Conv\") != -1:\n",
        "        torch.nn.init.normal_(m.weight.data, 0.0, 0.02)\n",
        "    elif classname.find(\"BatchNorm2d\") != -1:\n",
        "        torch.nn.init.normal_(m.weight.data, 1.0, 0.02)\n",
        "        torch.nn.init.constant_(m.bias.data, 0.0)\n",
        "\n",
        "\n",
        "transforms_ = transforms.Compose([\n",
        "    transforms.Resize((256, 256), Image.BICUBIC), \n",
        "    transforms.ToTensor(),\n",
        "    transforms.Normalize((0.5, 0.5, 0.5), (0.5, 0.5, 0.5))\n",
        "])"
      ],
      "metadata": {
        "colab": {
          "base_uri": "https://localhost:8080/"
        },
        "id": "K3Xo17kiYnmr",
        "outputId": "5f3c1ece-b165-429b-c8bf-b7e0c788528b"
      },
      "execution_count": null,
      "outputs": [
        {
          "output_type": "stream",
          "name": "stderr",
          "text": [
            "/usr/local/lib/python3.7/dist-packages/torchvision/transforms/transforms.py:333: UserWarning: Argument 'interpolation' of type int is deprecated since 0.13 and will be removed in 0.15. Please use InterpolationMode enum.\n",
            "  \"Argument 'interpolation' of type int is deprecated since 0.13 and will be removed in 0.15. \"\n"
          ]
        }
      ]
    },
    {
      "cell_type": "markdown",
      "source": [
        "# 3.모델 불러오기"
      ],
      "metadata": {
        "id": "spIRtxMwqf1I"
      }
    },
    {
      "cell_type": "code",
      "source": [
        "#@markdown #**사용할 모델 선택**\n",
        "#@markdown ---\n",
        "\n",
        "#@markdown v1(100e)와 v2(125e) 중에 사용할 모델을 선택해 실행. 둘 중 하나만 선택해야 함.\n",
        "\n",
        "#@markdown ---\n",
        "V1_100e = True #@param {type:\"boolean\"}\n",
        "V2_125e = False #@param {type:\"boolean\"}\n",
        "\n",
        "#모델 불러오기 (사용할 때에는 generator만 있으면 됨)\n",
        "%cd /content/drive/MyDrive/pix2pix/trained_model\n",
        "\n",
        "generator = GeneratorUNet()\n",
        "generator.cuda()\n",
        "\n",
        "if V1_100e:\n",
        "    generator.load_state_dict(torch.load(\"Pix2Pix_Generator_V1(100e).pt\")) #v1(100e)\n",
        "\n",
        "if V2_125e:\n",
        "    generator.load_state_dict(torch.load(\"Pix2Pix_Generator_V2(125e).pt\")) #v2(125e)"
      ],
      "metadata": {
        "colab": {
          "base_uri": "https://localhost:8080/"
        },
        "id": "aJVViLAZYnpB",
        "outputId": "662e2181-baf9-42ec-c98d-91d481c42cf8"
      },
      "execution_count": null,
      "outputs": [
        {
          "output_type": "stream",
          "name": "stdout",
          "text": [
            "/content/drive/MyDrive/pix2pix/trained_model\n"
          ]
        }
      ]
    },
    {
      "cell_type": "markdown",
      "source": [
        "# 4.텍스트 넣기\n",
        "\n",
        "텍스트가 단어~여러문장으로 들어오면 명사추출을 진행하고 그 추출된 키워드로 2장의 이미지 크롤링, 학습시킨 pix2pix모델로 컬러링 도안화함."
      ],
      "metadata": {
        "id": "By_f7HsIqkHF"
      }
    },
    {
      "cell_type": "code",
      "source": [
        "#@markdown #**맞춤질문: ex)이솝우화 읽고 있었구나,, @@는 제일 좋아하는 동물이 뭐에요?**\n",
        "#@markdown ---\n",
        "doc = \"\\uC5EC\\uC6B0\\uC694! \\uB611\\uB611\\uD558\\uACE0 \\uBA4B\\uC788\\uC5B4\\uC694\"#@param {type:\"string\"}\n",
        "\n",
        "%cd /content/\n",
        "okt = Okt()\n",
        "\n",
        "tokenized_doc = okt.pos(doc)\n",
        "tokenized_nouns = ' '.join([word[0] for word in tokenized_doc if word[1] == 'Noun'])\n",
        "\n",
        "n_gram_range = (0,1)\n",
        "\n",
        "count = CountVectorizer(ngram_range=n_gram_range).fit([tokenized_nouns])\n",
        "candidates = count.get_feature_names_out()\n",
        "\n",
        "\n",
        "\n",
        "#trigram 명사추출 한번에 검색어로\n",
        "\n",
        "from pathlib import Path\n",
        "root = Path().cwd()/\"input_img\"\n",
        "\n",
        "from jmd_imagescraper.core import *\n",
        "\n",
        "params = {\n",
        "    \"max_results\": 3,             \n",
        "    \"img_size\":    ImgSize.Cached, \n",
        "    \"img_type\":    ImgType.Photo,\n",
        "    \"img_layout\":  ImgLayout.Square,\n",
        "    \"img_color\":   ImgColor.All\n",
        "}\n",
        "\n",
        "candidate_e = get_translate(candidates)\n",
        "duckduckgo_search(root, \"{}\".format(candidate_e), \"simple illustration of {}\".format(candidate_e), **params)\n",
        "\n",
        "\n",
        "parser = argparse.ArgumentParser()\n",
        "parser.add_argument('--dataset', required=False, default='illustration', help='illustration')\n",
        "parser.add_argument('--model', required=False, type=str, default='Pix2Pix_Generator_V2(125e).pt', help='model file to use')\n",
        "parser.add_argument('--cuda', action='store_true', default=True, help='use cuda')\n",
        "params = parser.parse_args([])\n",
        "print(params)\n",
        "\n",
        "#[폴더][폴더]구조에서 개별 파일 로드를 위한 '하위폴더/파일이름' 찾기 \n",
        "target_imagefolder = \"/content/input_img/{}\".format(candidate_e) #[폴더]로 구성돼 있는 원본 이미지 데이터셋 경로지정\n",
        "\n",
        "image_dir = target_imagefolder.format(params.dataset)\n",
        "image_filenames = [x for x in os.listdir(image_dir) if is_image_file(x)]\n",
        "\n",
        "\n",
        "for image_name in image_filenames:\n",
        "    imgs = load_img(\"{}/{}\".format(target_imagefolder, image_name))\n",
        "    imgs = transforms_(imgs)\n",
        "\n",
        "    input = Variable(imgs).view(1,-1,256,256)\n",
        "    input_img = input.data[0]\n",
        "    save_image(input_img, \"input.png\", nrow=1, normalize=True)\n",
        "    input_img = cv2.imread(\"input.png\", cv2.IMREAD_GRAYSCALE) #이미지 전처리(1): 흑백으로 전환\n",
        "    \n",
        "    if params.cuda:\n",
        "        generator = generator.cuda()\n",
        "        input = input.cuda()\n",
        "\n",
        "    out = generator(input)\n",
        "    out = out.cpu()\n",
        "    out_img = out.data[0]\n",
        "    save_image(out_img, \"result.png\", nrow=1, normalize=True)\n",
        "\n",
        "    out_img = cv2.imread(\"result.png\");\n",
        "    th, out_img = cv2.threshold(out_img, 127,255, cv2.THRESH_TOZERO) #이미지 후처리(1): 임계처리\n",
        "\n",
        "    kernel = np.ones((2,2), 'uint8')\n",
        "    out_img = cv2.erode(out_img, kernel, iterations=1) #이미지 후처리(2): erode처리\n",
        "\n",
        "    cv2_imshow(out_img)\n",
        "\n",
        "    cv2.imwrite('/content/{}'.format(image_name), out_img) #일단 content에 저장하게 했습니다."
      ],
      "metadata": {
        "colab": {
          "base_uri": "https://localhost:8080/",
          "height": 880
        },
        "id": "XBFC8C5eqxCl",
        "outputId": "5f414ec9-ac77-4946-dcfe-15c9aba86593"
      },
      "execution_count": null,
      "outputs": [
        {
          "output_type": "stream",
          "name": "stdout",
          "text": [
            "/content\n",
            "Duckduckgo search: simple illustration of Fox\n",
            "Downloading results into /content/input_img/Fox\n"
          ]
        },
        {
          "output_type": "display_data",
          "data": {
            "text/plain": [
              "<IPython.core.display.HTML object>"
            ],
            "text/html": [
              "\n",
              "<style>\n",
              "    /* Turns off some styling */\n",
              "    progress {\n",
              "        /* gets rid of default border in Firefox and Opera. */\n",
              "        border: none;\n",
              "        /* Needs to be in here for Safari polyfill so background images work as expected. */\n",
              "        background-size: auto;\n",
              "    }\n",
              "    progress:not([value]), progress:not([value])::-webkit-progress-bar {\n",
              "        background: repeating-linear-gradient(45deg, #7e7e7e, #7e7e7e 10px, #5c5c5c 10px, #5c5c5c 20px);\n",
              "    }\n",
              "    .progress-bar-interrupted, .progress-bar-interrupted::-webkit-progress-bar {\n",
              "        background: #F44336;\n",
              "    }\n",
              "</style>\n"
            ]
          },
          "metadata": {}
        },
        {
          "output_type": "display_data",
          "data": {
            "text/plain": [
              "<IPython.core.display.HTML object>"
            ],
            "text/html": [
              "\n",
              "    <div>\n",
              "      <progress value='3' class='' max='3' style='width:300px; height:20px; vertical-align: middle;'></progress>\n",
              "      100.00% [3/3 00:00&lt;00:00 Images downloaded]\n",
              "    </div>\n",
              "    "
            ]
          },
          "metadata": {}
        },
        {
          "output_type": "stream",
          "name": "stdout",
          "text": [
            "Namespace(cuda=True, dataset='illustration', model='Pix2Pix_Generator_V2(125e).pt')\n"
          ]
        },
        {
          "output_type": "display_data",
          "data": {
            "text/plain": [
              "<PIL.Image.Image image mode=RGB size=256x256 at 0x7F373F1E3910>"
            ],
            "image/png": "[encoded data removed]"
          },
          "metadata": {}
        },
        {
          "output_type": "display_data",
          "data": {
            "text/plain": [
              "<PIL.Image.Image image mode=RGB size=256x256 at 0x7F373F1E3790>"
            ],
            "image/png": "[encoded data removed]"
          },
          "metadata": {}
        },
        {
          "output_type": "display_data",
          "data": {
            "text/plain": [
              "<PIL.Image.Image image mode=RGB size=256x256 at 0x7F37386108D0>"
            ],
            "image/png": "[encoded data removed]"
          },
          "metadata": {}
        }
      ]
    }
  ]
}