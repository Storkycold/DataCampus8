{
  "nbformat": 4,
  "nbformat_minor": 0,
  "metadata": {
    "colab": {
      "name": "3.create_custom_paired_dataset.ipynb",
      "provenance": [],
      "collapsed_sections": []
    },
    "kernelspec": {
      "name": "python3",
      "display_name": "Python 3"
    },
    "language_info": {
      "name": "python"
    },
    "accelerator": "GPU",
    "gpuClass": "standard"
  },
  "cells": [
    {
      "cell_type": "markdown",
      "source": [
        "# custom paired dataset 구성하기\n",
        "\n",
        "[![Open In Colab](https://colab.research.google.com/assets/colab-badge.svg)](https://colab.research.google.com/drive/1M1kP5ZT975RgxrP_LGLFGhKDePcHW-yL#scrollTo=-MLmtHz_GKFA)\n",
        "\n",
        "pix2pix 추가 학습에서 봉착한 문제점은 적합한 paired data가 부족하다는 점임\n",
        "\n",
        "1차 학습시킨 모델(pix2pix_v1(100epoch))에 input으로 <선이 명료한 일러스트레이션 위주의 이미지(1)>를 넣어 output으로 <스케치(2)>를 받아, \n",
        "<(1)의 이미지를 noise+blur & noise+dilate 처리한 이미지>와 <스케치(2)> 로 구성된 새로운 데이터셋을 제작함.\n",
        "\n",
        "(1)의 일러스트레이션 데이터는 2.crawl_images_ipynb에서 크롤링한 6200장의 이미지 데이터를 활용, 약 10000개의 paired data를 구축."
      ],
      "metadata": {
        "id": "-MLmtHz_GKFA"
      }
    },
    {
      "cell_type": "markdown",
      "source": [
        "# 1. pix2pix 1차 학습시킨 모델 불러오기"
      ],
      "metadata": {
        "id": "uZamcHemJQQT"
      }
    },
    {
      "cell_type": "markdown",
      "source": [
        "### 구글 드라이브 마운트"
      ],
      "metadata": {
        "id": "isnwJcCFaRgN"
      }
    },
    {
      "cell_type": "code",
      "source": [
        "from google.colab import drive\n",
        "drive.mount('/content/drive')"
      ],
      "metadata": {
        "colab": {
          "base_uri": "https://localhost:8080/"
        },
        "id": "MiAGR_q1EViB",
        "outputId": "8e1da47f-d4f9-44be-d026-172009714b11"
      },
      "execution_count": 1,
      "outputs": [
        {
          "output_type": "stream",
          "name": "stdout",
          "text": [
            "Mounted at /content/drive\n"
          ]
        }
      ]
    },
    {
      "cell_type": "markdown",
      "source": [
        "### 라이브러리와 모델 정의"
      ],
      "metadata": {
        "id": "U2OEVxOZOUh4"
      }
    },
    {
      "cell_type": "code",
      "source": [
        "import os\n",
        "import glob\n",
        "import numpy as np\n",
        "import matplotlib.pyplot as plt\n",
        "from PIL import Image\n",
        "\n",
        "import torch\n",
        "import torch.nn as nn\n",
        "\n",
        "from torch.utils.data import Dataset\n",
        "from torch.utils.data import DataLoader\n",
        "import torchvision.transforms as transforms\n",
        "from torchvision.utils import save_image\n",
        "\n",
        "\n",
        "\n",
        "\n",
        "# U-Net 아키텍처의 다운 샘플링(Down Sampling) 모듈\n",
        "class UNetDown(nn.Module):\n",
        "    def __init__(self, in_channels, out_channels, normalize=True, dropout=0.0):\n",
        "        super(UNetDown, self).__init__()\n",
        "        # 너비와 높이가 2배씩 감소\n",
        "        layers = [nn.Conv2d(in_channels, out_channels, kernel_size=4, stride=2, padding=1, bias=False)]\n",
        "        if normalize:\n",
        "            layers.append(nn.InstanceNorm2d(out_channels))\n",
        "        layers.append(nn.LeakyReLU(0.2))\n",
        "        if dropout:\n",
        "            layers.append(nn.Dropout(dropout))\n",
        "        self.model = nn.Sequential(*layers)\n",
        "\n",
        "    def forward(self, x):\n",
        "        return self.model(x)\n",
        "\n",
        "\n",
        "# U-Net 아키텍처의 업 샘플링(Up Sampling) 모듈: Skip Connection 사용\n",
        "class UNetUp(nn.Module):\n",
        "    def __init__(self, in_channels, out_channels, dropout=0.0):\n",
        "        super(UNetUp, self).__init__()\n",
        "        # 너비와 높이가 2배씩 증가\n",
        "        layers = [nn.ConvTranspose2d(in_channels, out_channels, kernel_size=4, stride=2, padding=1, bias=False)]\n",
        "        layers.append(nn.InstanceNorm2d(out_channels))\n",
        "        layers.append(nn.ReLU(inplace=True))\n",
        "        if dropout:\n",
        "            layers.append(nn.Dropout(dropout))\n",
        "        self.model = nn.Sequential(*layers)\n",
        "\n",
        "    def forward(self, x, skip_input):\n",
        "        x = self.model(x)\n",
        "        x = torch.cat((x, skip_input), 1) # 채널 레벨에서 합치기(concatenation)\n",
        "\n",
        "        return x\n",
        "\n",
        "\n",
        "# U-Net 생성자(Generator) 아키텍처\n",
        "class GeneratorUNet(nn.Module):\n",
        "    def __init__(self, in_channels=3, out_channels=3):\n",
        "        super(GeneratorUNet, self).__init__()\n",
        "\n",
        "        self.down1 = UNetDown(in_channels, 64, normalize=False) # 출력: [64 X 128 X 128]\n",
        "        self.down2 = UNetDown(64, 128) # 출력: [128 X 64 X 64]\n",
        "        self.down3 = UNetDown(128, 256) # 출력: [256 X 32 X 32]\n",
        "        self.down4 = UNetDown(256, 512, dropout=0.5) # 출력: [512 X 16 X 16]\n",
        "        self.down5 = UNetDown(512, 512, dropout=0.5) # 출력: [512 X 8 X 8]\n",
        "        self.down6 = UNetDown(512, 512, dropout=0.5) # 출력: [512 X 4 X 4]\n",
        "        self.down7 = UNetDown(512, 512, dropout=0.5) # 출력: [512 X 2 X 2]\n",
        "        self.down8 = UNetDown(512, 512, normalize=False, dropout=0.5) # 출력: [512 X 1 X 1]\n",
        "\n",
        "        # Skip Connection 사용(출력 채널의 크기 X 2 == 다음 입력 채널의 크기)\n",
        "        self.up1 = UNetUp(512, 512, dropout=0.5) # 출력: [1024 X 2 X 2]\n",
        "        self.up2 = UNetUp(1024, 512, dropout=0.5) # 출력: [1024 X 4 X 4]\n",
        "        self.up3 = UNetUp(1024, 512, dropout=0.5) # 출력: [1024 X 8 X 8]\n",
        "        self.up4 = UNetUp(1024, 512, dropout=0.5) # 출력: [1024 X 16 X 16]\n",
        "        self.up5 = UNetUp(1024, 256) # 출력: [512 X 32 X 32]\n",
        "        self.up6 = UNetUp(512, 128) # 출력: [256 X 64 X 64]\n",
        "        self.up7 = UNetUp(256, 64) # 출력: [128 X 128 X 128]\n",
        "\n",
        "        self.final = nn.Sequential(\n",
        "            nn.Upsample(scale_factor=2), # 출력: [128 X 256 X 256]\n",
        "            nn.ZeroPad2d((1, 0, 1, 0)),\n",
        "            nn.Conv2d(128, out_channels, kernel_size=4, padding=1), # 출력: [3 X 256 X 256]\n",
        "            nn.Tanh(),\n",
        "        )\n",
        "\n",
        "    def forward(self, x):\n",
        "        # 인코더부터 디코더까지 순전파하는 U-Net 생성자(Generator)\n",
        "        d1 = self.down1(x)\n",
        "        d2 = self.down2(d1)\n",
        "        d3 = self.down3(d2)\n",
        "        d4 = self.down4(d3)\n",
        "        d5 = self.down5(d4)\n",
        "        d6 = self.down6(d5)\n",
        "        d7 = self.down7(d6)\n",
        "        d8 = self.down8(d7)\n",
        "        u1 = self.up1(d8, d7)\n",
        "        u2 = self.up2(u1, d6)\n",
        "        u3 = self.up3(u2, d5)\n",
        "        u4 = self.up4(u3, d4)\n",
        "        u5 = self.up5(u4, d3)\n",
        "        u6 = self.up6(u5, d2)\n",
        "        u7 = self.up7(u6, d1)\n",
        "\n",
        "        return self.final(u7)\n",
        "\n",
        "\n",
        "# U-Net 판별자(Discriminator) 아키텍처\n",
        "class Discriminator(nn.Module):\n",
        "    def __init__(self, in_channels=3):\n",
        "        super(Discriminator, self).__init__()\n",
        "\n",
        "        def discriminator_block(in_channels, out_channels, normalization=True):\n",
        "            # 너비와 높이가 2배씩 감소\n",
        "            layers = [nn.Conv2d(in_channels, out_channels, kernel_size=4, stride=2, padding=1)]\n",
        "            if normalization:\n",
        "                layers.append(nn.InstanceNorm2d(out_channels))\n",
        "            layers.append(nn.LeakyReLU(0.2, inplace=True))\n",
        "            return layers\n",
        "\n",
        "        self.model = nn.Sequential(\n",
        "            # 두 개의 이미지(실제/변환된 이미지, 조건 이미지)를 입력 받으므로 입력 채널의 크기는 2배\n",
        "            *discriminator_block(in_channels * 2, 64, normalization=False), # 출력: [64 X 128 X 128]\n",
        "            *discriminator_block(64, 128), # 출력: [128 X 64 X 64]\n",
        "            *discriminator_block(128, 256), # 출력: [256 X 32 X 32]\n",
        "            *discriminator_block(256, 512), # 출력: [512 X 16 X 16]\n",
        "            nn.ZeroPad2d((1, 0, 1, 0)),\n",
        "            nn.Conv2d(512, 1, kernel_size=4, padding=1, bias=False) # 출력: [1 X 16 X 16]\n",
        "        )\n",
        "\n",
        "    # img_A: 실제/변환된 이미지, img_B: 조건(condition)\n",
        "    def forward(self, img_A, img_B):\n",
        "        # 이미지 두 개를 채널 레벨에서 연결하여(concatenate) 입력 데이터 생성\n",
        "        img_input = torch.cat((img_A, img_B), 1)\n",
        "        return self.model(img_input)\n",
        "\n",
        "transforms_ = transforms.Compose([\n",
        "    transforms.Resize((256, 256), Image.BICUBIC),\n",
        "    transforms.ToTensor(),\n",
        "    transforms.Normalize((0.5, 0.5, 0.5), (0.5, 0.5, 0.5))\n",
        "])\n",
        "\n",
        "\n",
        "def weights_init_normal(m):\n",
        "    classname = m.__class__.__name__\n",
        "    if classname.find(\"Conv\") != -1:\n",
        "        torch.nn.init.normal_(m.weight.data, 0.0, 0.02)\n",
        "    elif classname.find(\"BatchNorm2d\") != -1:\n",
        "        torch.nn.init.normal_(m.weight.data, 1.0, 0.02)\n",
        "        torch.nn.init.constant_(m.bias.data, 0.0)"
      ],
      "metadata": {
        "id": "jb-WT85eLD0X",
        "colab": {
          "base_uri": "https://localhost:8080/"
        },
        "outputId": "d08188fb-5813-4d67-a657-4ab590e13cf4"
      },
      "execution_count": 2,
      "outputs": [
        {
          "output_type": "stream",
          "name": "stderr",
          "text": [
            "/usr/local/lib/python3.7/dist-packages/torchvision/transforms/transforms.py:333: UserWarning: Argument 'interpolation' of type int is deprecated since 0.13 and will be removed in 0.15. Please use InterpolationMode enum.\n",
            "  \"Argument 'interpolation' of type int is deprecated since 0.13 and will be removed in 0.15. \"\n"
          ]
        }
      ]
    },
    {
      "cell_type": "markdown",
      "source": [
        "### 모델 불러오기"
      ],
      "metadata": {
        "id": "gCxXwX0SOb2q"
      }
    },
    {
      "cell_type": "code",
      "source": [
        "%cd /content/drive/MyDrive/pix2pix/trained_model\n",
        "\n",
        "generator = GeneratorUNet()\n",
        "discriminator = Discriminator()\n",
        "\n",
        "generator.cuda()\n",
        "discriminator.cuda()\n",
        "\n",
        "generator.load_state_dict(torch.load(\"Pix2Pix_Generator_V1(100e).pt\"))\n",
        "discriminator.load_state_dict(torch.load(\"Pix2Pix_Discriminator_V1(100e).pt\"))\n",
        "\n",
        "generator.eval();\n",
        "discriminator.eval();"
      ],
      "metadata": {
        "id": "f7e6ndTKLDyC",
        "colab": {
          "base_uri": "https://localhost:8080/"
        },
        "outputId": "991cc3c3-1d45-458b-8bc0-3951496deae8"
      },
      "execution_count": 3,
      "outputs": [
        {
          "output_type": "stream",
          "name": "stdout",
          "text": [
            "/content/drive/MyDrive/pix2pix/trained_model\n"
          ]
        }
      ]
    },
    {
      "cell_type": "markdown",
      "source": [
        "# 2. custom data를 위한 원본 이미지 불러오기\n",
        "\n",
        "zip파일로 구글 드라이브에 업로드해, /content/에 압축을 풀고 진행함(크롤링을 나눠 진행해 두개의 파일)\n"
      ],
      "metadata": {
        "id": "42WZ40DkuZwi"
      }
    },
    {
      "cell_type": "code",
      "source": [
        "%cd /content/\n",
        "\n",
        "!unzip '/content/drive/MyDrive/crawl_images.zip' -d '/content/'\n",
        "!unzip '/content/drive/MyDrive/crawl_images2.zip' -d '/content/'"
      ],
      "metadata": {
        "id": "de33JjQkmvvB"
      },
      "execution_count": null,
      "outputs": []
    },
    {
      "cell_type": "markdown",
      "source": [
        "# 3. 새 데이터셋 구성하기"
      ],
      "metadata": {
        "id": "A-PhELCgLeBr"
      }
    },
    {
      "cell_type": "markdown",
      "source": [
        "### 필요한 라이브러리와 함수 정의"
      ],
      "metadata": {
        "id": "gGqVF28qYER8"
      }
    },
    {
      "cell_type": "code",
      "source": [
        "from __future__ import print_function\n",
        "import argparse\n",
        "\n",
        "from torch.autograd import Variable\n",
        "\n",
        "import PIL.Image\n",
        "import PIL.ImageTk\n",
        "import cv2\n",
        "from google.colab.patches import cv2_imshow\n",
        "from IPython.display import Image\n",
        "\n",
        "\n",
        "def is_image_file(filename):\n",
        "    return any(filename.endswith(extension) for extension in [\".png\", \".jpg\", \".jpeg\"])\n",
        "\n",
        "\n",
        "def load_img(filepath):\n",
        "    img = PIL.Image.open(filepath).convert('RGB')\n",
        "    img = img.resize((256, 256))\n",
        "    return img\n",
        "\n",
        "\n",
        "def save_img(image_tensor, filename):\n",
        "    image_numpy = image_tensor.float().numpy()\n",
        "    image_numpy = (np.transpose(image_numpy, (1, 2, 0)) + 1) / 2.0 * 255.0\n",
        "    image_numpy = image_numpy.astype(np.uint8)\n",
        "    image_pil = Image.fromarray(image_numpy)\n",
        "    image_pil.save(filename)\n",
        "    print(\"Image saved as {}\".format(filename))\n",
        "\n",
        "\n",
        "parser = argparse.ArgumentParser()\n",
        "parser.add_argument('--dataset', required=False, default='photo', help='photo')\n",
        "parser.add_argument('--model', required=False, type=str, default='Pix2Pix_Generator_V1(100e).pt', help='model file to use')\n",
        "parser.add_argument('--cuda', action='store_true', default=True, help='use cuda')\n",
        "params = parser.parse_args([])\n",
        "print(params)"
      ],
      "metadata": {
        "id": "tSXo6Ax6LqJ-",
        "colab": {
          "base_uri": "https://localhost:8080/"
        },
        "outputId": "c7982eb8-9776-4e07-f2fe-ac9463a188aa"
      },
      "execution_count": 5,
      "outputs": [
        {
          "output_type": "stream",
          "name": "stdout",
          "text": [
            "Namespace(cuda=True, dataset='photo', model='Pix2Pix_Generator_V1(100e).pt')\n"
          ]
        }
      ]
    },
    {
      "cell_type": "code",
      "source": [
        "# 이미지에 노이즈 추가하는 함수 정의\n",
        "\n",
        "import random\n",
        " \n",
        "def add_noise(img):\n",
        "    row , col = img.shape\n",
        "     \n",
        "    number_of_pixels = random.randint(300, 10000)\n",
        "    for i in range(number_of_pixels):\n",
        "       \n",
        "        y_coord=random.randint(0, row - 1)\n",
        "        x_coord=random.randint(0, col - 1)\n",
        "\n",
        "        img[y_coord][x_coord] = 255\n",
        "         \n",
        "    number_of_pixels = random.randint(300 , 10000)\n",
        "    for i in range(number_of_pixels):\n",
        "       \n",
        "        y_coord=random.randint(0, row - 1)\n",
        "        x_coord=random.randint(0, col - 1)\n",
        "         \n",
        "        img[y_coord][x_coord] = 0\n",
        "         \n",
        "    return img\n",
        " "
      ],
      "metadata": {
        "id": "wU6hYt75Q8I_"
      },
      "execution_count": 6,
      "outputs": []
    },
    {
      "cell_type": "markdown",
      "source": [
        "### 결과물로 나오는 paired data 예시 확인"
      ],
      "metadata": {
        "id": "uXm0wMarYJkW"
      }
    },
    {
      "cell_type": "code",
      "source": [
        "# 이미지 파일 하나 넣어보기\n",
        "\n",
        "imgs = load_img('/content/content/crawl_images2/bus/001_2635714b.jpg') #인풋 이미지 경로\n",
        "imgs = transforms_(imgs)\n",
        "\n",
        "input = Variable(imgs).view(1,-1,256,256)\n",
        "input_img = input.data[0]\n",
        "\n",
        "if params.cuda:\n",
        "    generator = generator.cuda() \n",
        "    input = input.cuda()\n",
        "\n",
        "out = generator(input) #pix2pix_v1 모델 사용\n",
        "out = out.cpu()\n",
        "out_img = out.data[0]\n",
        "save_image(out_img, \"out.png\", nrow=1, normalize=True)\n",
        "out_img = cv2.imread(\"out.png\", cv2.IMREAD_GRAYSCALE)\n",
        "\n",
        "save_image(input_img, \"input.png\", nrow=1, normalize=True)\n",
        "input_img = cv2.imread(\"input.png\", cv2.IMREAD_GRAYSCALE)\n",
        "\n",
        "add_img = np.hstack((input_img, out_img)) #1차학습 모델의 결과 (input 일러스트레이션, output 스케치(도안))\n",
        "\n",
        "input_img = add_noise(input_img) #input 일러스트레이션에 노이즈 추가\n",
        "\n",
        "kernel = np.ones((2, 2), 'uint8')\n",
        "dilate_img = cv2.dilate(input_img, kernel, iterations=1) #dilate 처리한 이미지 생성, dilation 커널(3,3)\n",
        "add_img1 = np.hstack((dilate_img, out_img)) #(dilate+noise input 일러스트레이션, output 스케치(도안))\n",
        "\n",
        "avging_img = cv2.blur(input_img,(5,5)) #blur 처리한 이미지 생성\n",
        "add_img2 = np.hstack((avging_img, out_img)) #(blur+noise input 일러스트레이션, output 스케치(도안))\n",
        "\n",
        "cv2_imshow(add_img) \n",
        "cv2_imshow(add_img1)\n",
        "cv2_imshow(add_img2)"
      ],
      "metadata": {
        "colab": {
          "base_uri": "https://localhost:8080/",
          "height": 785
        },
        "id": "EQ87WYyBd9C-",
        "outputId": "bdc77f5d-cde8-4b0b-d58f-343e47f97343"
      },
      "execution_count": 7,
      "outputs": [
        {
          "output_type": "display_data",
          "data": {
            "text/plain": [
              "<PIL.Image.Image image mode=L size=512x256 at 0x7FED45700F50>"
            ],
            "image/png": "[encoded data removed]"
          },
          "metadata": {}
        },
        {
          "output_type": "display_data",
          "data": {
            "text/plain": [
              "<PIL.Image.Image image mode=L size=512x256 at 0x7FED45700AD0>"
            ],
            "image/png": "[encoded data removed]"
          },
          "metadata": {}
        },
        {
          "output_type": "display_data",
          "data": {
            "text/plain": [
              "<PIL.Image.Image image mode=L size=512x256 at 0x7FED45700FD0>"
            ],
            "image/png": "[encoded data removed]"
          },
          "metadata": {}
        }
      ]
    },
    {
      "cell_type": "markdown",
      "source": [
        "### [폴더][폴더] 구조에서 개별 파일 일괄 처리\n",
        "\n",
        "\"/content/custom_paired_dataset/\" 새 폴더를 지정하고 모든 결과물 업로드.\n",
        "\n",
        "결과물 전체를 압축해 로컬에 저장."
      ],
      "metadata": {
        "id": "xx4BMmwbN_iZ"
      }
    },
    {
      "cell_type": "code",
      "source": [
        "#[폴더][폴더]구조에서 개별 파일 로드를 위한 '하위폴더/파일이름' 찾기 \n",
        "\n",
        "image_dir = \"/content/content/crawl_images/\" #[폴더]로 구성돼 있는 원본 이미지 데이터셋 경로지정\n",
        "folders = os.listdir(image_dir)\n",
        "\n",
        "image_filenames = []\n",
        "\n",
        "for folder in folders:\n",
        "  target_imagefolder = \"/content/content/crawl_images/{}\".format(folder)\n",
        "  image_dir = target_imagefolder.format(params.dataset)\n",
        "  filenames =  [x for x in os.listdir(image_dir) if is_image_file(x)]\n",
        "  for filename in filenames:\n",
        "      new_image_filenames = \"{}/{}\".format(folder, filename)\n",
        "      image_filenames.append(new_image_filenames)\n",
        "\n",
        "\n",
        "print(image_filenames[0:4])\n",
        "\n",
        "print(len(image_filenames))  #원본 이미지의 수"
      ],
      "metadata": {
        "colab": {
          "base_uri": "https://localhost:8080/"
        },
        "id": "TIzipZIz7dq8",
        "outputId": "c0d92113-29bf-4061-b443-20805e7cc231"
      },
      "execution_count": 8,
      "outputs": [
        {
          "output_type": "stream",
          "name": "stdout",
          "text": [
            "['dolphin/013_b162696e.jpg', 'dolphin/010_679092e2.jpg', 'dolphin/049_c65a9c1b.jpg', 'dolphin/070_ab37cbe5.jpg']\n",
            "3699\n"
          ]
        }
      ]
    },
    {
      "cell_type": "code",
      "source": [
        "count = 0\n",
        "\n",
        "for image_name in image_filenames:\n",
        "    imgs = load_img(\"/content/content/crawl_images/{}\".format(image_name))\n",
        "    imgs = transforms_(imgs)\n",
        "\n",
        "    input = Variable(imgs).view(1,-1,256,256)\n",
        "    input_img = input.data[0]\n",
        "\n",
        "    if params.cuda:\n",
        "        generator = generator.cuda()\n",
        "        input = input.cuda()\n",
        "\n",
        "    out = generator(input) #pix2pix_v1 모델 사용\n",
        "    out = out.cpu()\n",
        "    out_img = out.data[0]\n",
        "    save_image(out_img, \"out.png\", nrow=1, normalize=True)\n",
        "    out_img = cv2.imread(\"out.png\", cv2.IMREAD_GRAYSCALE)\n",
        "\n",
        "    save_image(input_img, \"input.png\", nrow=1, normalize=True)\n",
        "    input_img = cv2.imread(\"input.png\", cv2.IMREAD_GRAYSCALE)\n",
        "    input_img = add_noise(input_img) #input 일러스트레이션에 노이즈 추가\n",
        "\n",
        "    kernel = np.ones((3, 3), 'uint8')\n",
        "    dilate_img = cv2.dilate(input_img, kernel, iterations=1) #dilate 처리한 이미지 생성, dilation 커널(3,3)\n",
        "    add_img1 = np.hstack((dilate_img, out_img)) #dilate 처리한 이미지 생성, dilation 커널(3,3)\n",
        "\n",
        "    avging_img = cv2.blur(input_img,(5,5)) #blur 처리한 이미지 생성\n",
        "    add_img2 = np.hstack((avging_img, out_img)) #(blur+noise input 일러스트레이션, output 스케치(도안))\n",
        "\n",
        "    count = count + 1\n",
        "    real_image_name = \"{}.png\".format(count)\n",
        "\n",
        "    cv2.imwrite('/content/custom_paried_dataset/d(1){}'.format(real_image_name), add_img1) #생성한 paired data 저장할 경로\n",
        "    cv2.imwrite('/content/custom_paired_dataset/b(1){}'.format(real_image_name), add_img2) #생성한 paired data 저장할 경로\n",
        "\n"
      ],
      "metadata": {
        "id": "8X-yq4LD8QF-"
      },
      "execution_count": 9,
      "outputs": []
    },
    {
      "cell_type": "code",
      "source": [
        "#[폴더][폴더]구조에서 개별 파일 로드를 위한 '하위폴더/파일이름' 찾기 \n",
        "\n",
        "image_dir = \"/content/content/crawl_images2/\" #[폴더]로 구성돼 있는 원본 이미지 데이터셋 경로지정\n",
        "folders = os.listdir(image_dir)\n",
        "\n",
        "image_filenames = []\n",
        "\n",
        "for folder in folders:\n",
        "  target_imagefolder = \"/content/content/crawl_images2/{}\".format(folder)\n",
        "  image_dir = target_imagefolder.format(params.dataset)\n",
        "  filenames =  [x for x in os.listdir(image_dir) if is_image_file(x)]\n",
        "  for filename in filenames:\n",
        "      new_image_filenames = \"{}/{}\".format(folder, filename)\n",
        "      image_filenames.append(new_image_filenames)\n",
        "\n",
        "\n",
        "print(image_filenames[0:4])\n",
        "\n",
        "print(len(image_filenames))  #원본 이미지의 수"
      ],
      "metadata": {
        "id": "tK9T128YU0lK",
        "colab": {
          "base_uri": "https://localhost:8080/"
        },
        "outputId": "ce4d5f62-c1cf-41c0-99c5-e91575f93d79"
      },
      "execution_count": 10,
      "outputs": [
        {
          "output_type": "stream",
          "name": "stdout",
          "text": [
            "['flower/042_5a9d4aeb.jpg', 'flower/059_21765c07.jpg', 'flower/099_f803e91d.jpg', 'flower/075_9b82e9f5.jpg']\n",
            "2500\n"
          ]
        }
      ]
    },
    {
      "cell_type": "code",
      "source": [
        "count = 0\n",
        "\n",
        "for image_name in image_filenames:\n",
        "    imgs = load_img(\"/content/content/crawl_images2/{}\".format(image_name))\n",
        "    imgs = transforms_(imgs)\n",
        "\n",
        "    input = Variable(imgs).view(1,-1,256,256)\n",
        "    input_img = input.data[0]\n",
        "\n",
        "    if params.cuda:\n",
        "        generator = generator.cuda()\n",
        "        input = input.cuda()\n",
        "\n",
        "    out = generator(input) #pix2pix_v1 모델 사용\n",
        "    out = out.cpu()\n",
        "    out_img = out.data[0]\n",
        "    save_image(out_img, \"out.png\", nrow=1, normalize=True)\n",
        "    out_img = cv2.imread(\"out.png\", cv2.IMREAD_GRAYSCALE)\n",
        "\n",
        "    save_image(input_img, \"input.png\", nrow=1, normalize=True)\n",
        "    input_img = cv2.imread(\"input.png\", cv2.IMREAD_GRAYSCALE)\n",
        "    input_img = add_noise(input_img) #input 일러스트레이션에 노이즈 추가\n",
        "\n",
        "    kernel = np.ones((3, 3), 'uint8')\n",
        "    dilate_img = cv2.dilate(input_img, kernel, iterations=1) #dilate 처리한 이미지 생성, dilation 커널(3,3)\n",
        "    add_img1 = np.hstack((dilate_img, out_img)) #dilate 처리한 이미지 생성, dilation 커널(3,3)\n",
        "\n",
        "    avging_img = cv2.blur(input_img,(5,5)) #blur 처리한 이미지 생성\n",
        "    add_img2 = np.hstack((avging_img, out_img)) #(blur+noise input 일러스트레이션, output 스케치(도안))\n",
        "\n",
        "    count = count + 1\n",
        "    real_image_name = \"{}.png\".format(count)\n",
        "\n",
        "    cv2.imwrite('/content/custom_paired_dataset/d(2){}'.format(real_image_name), add_img1) #생성한 paired data 저장할 경로\n",
        "    cv2.imwrite('/content/custom_paired_dataset/b(2){}'.format(real_image_name), add_img2) #생성한 paired data 저장할 경로\n"
      ],
      "metadata": {
        "id": "HNDPjmVlU0n4"
      },
      "execution_count": 11,
      "outputs": []
    },
    {
      "cell_type": "code",
      "source": [
        "# create zip\n",
        "\n",
        "ZIP_NAME = \"custom_paired_dataset.zip\" \n",
        "\n",
        "root = \"/content/custom_paired_dataset\"\n",
        "\n",
        "!zip -q -r {ZIP_NAME} {root}"
      ],
      "metadata": {
        "id": "6ZPCLTW0W5dz"
      },
      "execution_count": 17,
      "outputs": []
    },
    {
      "cell_type": "code",
      "source": [
        "# download to your local system\n",
        "\n",
        "from google.colab import files\n",
        "files.download(ZIP_NAME)"
      ],
      "metadata": {
        "id": "XLrp2JRTW5k-",
        "colab": {
          "base_uri": "https://localhost:8080/",
          "height": 17
        },
        "outputId": "a165428a-87ff-4752-d783-32c000729d3b"
      },
      "execution_count": 19,
      "outputs": [
        {
          "output_type": "display_data",
          "data": {
            "text/plain": [
              "<IPython.core.display.Javascript object>"
            ],
            "application/javascript": [
              "\n",
              "    async function download(id, filename, size) {\n",
              "      if (!google.colab.kernel.accessAllowed) {\n",
              "        return;\n",
              "      }\n",
              "      const div = document.createElement('div');\n",
              "      const label = document.createElement('label');\n",
              "      label.textContent = `Downloading \"${filename}\": `;\n",
              "      div.appendChild(label);\n",
              "      const progress = document.createElement('progress');\n",
              "      progress.max = size;\n",
              "      div.appendChild(progress);\n",
              "      document.body.appendChild(div);\n",
              "\n",
              "      const buffers = [];\n",
              "      let downloaded = 0;\n",
              "\n",
              "      const channel = await google.colab.kernel.comms.open(id);\n",
              "      // Send a message to notify the kernel that we're ready.\n",
              "      channel.send({})\n",
              "\n",
              "      for await (const message of channel.messages) {\n",
              "        // Send a message to notify the kernel that we're ready.\n",
              "        channel.send({})\n",
              "        if (message.buffers) {\n",
              "          for (const buffer of message.buffers) {\n",
              "            buffers.push(buffer);\n",
              "            downloaded += buffer.byteLength;\n",
              "            progress.value = downloaded;\n",
              "          }\n",
              "        }\n",
              "      }\n",
              "      const blob = new Blob(buffers, {type: 'application/binary'});\n",
              "      const a = document.createElement('a');\n",
              "      a.href = window.URL.createObjectURL(blob);\n",
              "      a.download = filename;\n",
              "      div.appendChild(a);\n",
              "      a.click();\n",
              "      div.remove();\n",
              "    }\n",
              "  "
            ]
          },
          "metadata": {}
        },
        {
          "output_type": "display_data",
          "data": {
            "text/plain": [
              "<IPython.core.display.Javascript object>"
            ],
            "application/javascript": [
              "download(\"download_e2812d83-5037-41b1-a40f-a1a05ebece46\", \"custom_paired_dataset.zip\", 427294824)"
            ]
          },
          "metadata": {}
        }
      ]
    }
  ]
}
