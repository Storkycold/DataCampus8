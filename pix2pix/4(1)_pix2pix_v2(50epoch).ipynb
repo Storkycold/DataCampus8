{
  "nbformat": 4,
  "nbformat_minor": 0,
  "metadata": {
    "colab": {
      "name": "4.pix2pix_v2(50epoch).ipynb",
      "provenance": []
    },
    "kernelspec": {
      "name": "python3",
      "display_name": "Python 3"
    },
    "language_info": {
      "name": "python"
    },
    "accelerator": "GPU",
    "gpuClass": "standard"
  },
  "cells": [
    {
      "cell_type": "markdown",
      "source": [
        "# custom_paired_dataset으로 2차 학습\n",
        "\n",
        "[![Open In Colab](https://colab.research.google.com/assets/colab-badge.svg)](https://colab.research.google.com/drive/1BPgbDoebI3tuJy_DXg4tjhK7n8rEPfqU#scrollTo=ikvsOikDtfiT)\n",
        "\n",
        "<1.pix2pix_v1(100epoch).ipynb>와 같은 방식으로 데이터셋을 바꿔 학습을 진행함.\n",
        "\n",
        "---\n",
        "런타임 끊김 방지를 위해 f12 개발자 도구에 밑에 코드 넣고 enter\n",
        "\n",
        "function ClickConnect(){ console.log(\"Working\"); document.querySelector(\"colab-toolbar-button\").click() }setInterval(ClickConnect, 360000)\n",
        "\n",
        "---\n",
        "\n",
        "학습에 사용한 데이터셋은 <2.create_custom_paired_dataset.ipynb>에서 구축한 약 8500쌍의 paired data로 구성됨. \n",
        "\n",
        "colab 노트북의 경우 런타임 끊김을 방지하더라도 할당된 gpu 런타임 이상을 사용할 수 없음. 런타임이 종료될 경우 그동안 돌아간 모델이 날아갈 수 있어 25epoch씩 나눠 실행함. 25epoch마다 약 2시간 30분이 소요됨.\n",
        "\n"
      ],
      "metadata": {
        "id": "ikvsOikDtfiT"
      }
    },
    {
      "cell_type": "markdown",
      "source": [
        "# 0.구글 드라이브 마운트"
      ],
      "metadata": {
        "id": "QGAaIRBUpVkZ"
      }
    },
    {
      "cell_type": "code",
      "source": [
        "from google.colab import drive\n",
        "drive.mount('/content/drive')"
      ],
      "metadata": {
        "colab": {
          "base_uri": "https://localhost:8080/"
        },
        "id": "580AkYs1pZLx",
        "outputId": "692328ed-5db3-4cad-a3e7-32cc4b98c29a"
      },
      "execution_count": 1,
      "outputs": [
        {
          "output_type": "stream",
          "name": "stdout",
          "text": [
            "Mounted at /content/drive\n"
          ]
        }
      ]
    },
    {
      "cell_type": "markdown",
      "source": [
        "# 1.W&B 사용하기 위해 로그인"
      ],
      "metadata": {
        "id": "ArkT_WH5pdXS"
      }
    },
    {
      "cell_type": "code",
      "source": [
        "!pip install wandb"
      ],
      "metadata": {
        "colab": {
          "base_uri": "https://localhost:8080/"
        },
        "id": "zeCtcL8DphL5",
        "outputId": "23686615-6a45-4fb4-bf5b-5d99b4b8e2f4"
      },
      "execution_count": 2,
      "outputs": [
        {
          "output_type": "stream",
          "name": "stdout",
          "text": [
            "Looking in indexes: https://pypi.org/simple, https://us-python.pkg.dev/colab-wheels/public/simple/\n",
            "Collecting wandb\n",
            "  Downloading wandb-0.13.1-py2.py3-none-any.whl (1.8 MB)\n",
            "\u001b[K     |████████████████████████████████| 1.8 MB 8.6 MB/s \n",
            "\u001b[?25hCollecting sentry-sdk>=1.0.0\n",
            "  Downloading sentry_sdk-1.9.5-py2.py3-none-any.whl (157 kB)\n",
            "\u001b[K     |████████████████████████████████| 157 kB 65.0 MB/s \n",
            "\u001b[?25hCollecting shortuuid>=0.5.0\n",
            "  Downloading shortuuid-1.0.9-py3-none-any.whl (9.4 kB)\n",
            "Collecting GitPython>=1.0.0\n",
            "  Downloading GitPython-3.1.27-py3-none-any.whl (181 kB)\n",
            "\u001b[K     |████████████████████████████████| 181 kB 64.8 MB/s \n",
            "\u001b[?25hCollecting docker-pycreds>=0.4.0\n",
            "  Downloading docker_pycreds-0.4.0-py2.py3-none-any.whl (9.0 kB)\n",
            "Collecting pathtools\n",
            "  Downloading pathtools-0.1.2.tar.gz (11 kB)\n",
            "Collecting setproctitle\n",
            "  Downloading setproctitle-1.3.2-cp37-cp37m-manylinux_2_5_x86_64.manylinux1_x86_64.manylinux_2_17_x86_64.manylinux2014_x86_64.whl (30 kB)\n",
            "Requirement already satisfied: psutil>=5.0.0 in /usr/local/lib/python3.7/dist-packages (from wandb) (5.4.8)\n",
            "Requirement already satisfied: setuptools in /usr/local/lib/python3.7/dist-packages (from wandb) (57.4.0)\n",
            "Requirement already satisfied: promise<3,>=2.0 in /usr/local/lib/python3.7/dist-packages (from wandb) (2.3)\n",
            "Requirement already satisfied: PyYAML in /usr/local/lib/python3.7/dist-packages (from wandb) (6.0)\n",
            "Requirement already satisfied: six>=1.13.0 in /usr/local/lib/python3.7/dist-packages (from wandb) (1.15.0)\n",
            "Requirement already satisfied: protobuf<4.0dev,>=3.12.0 in /usr/local/lib/python3.7/dist-packages (from wandb) (3.17.3)\n",
            "Requirement already satisfied: Click!=8.0.0,>=7.0 in /usr/local/lib/python3.7/dist-packages (from wandb) (7.1.2)\n",
            "Requirement already satisfied: requests<3,>=2.0.0 in /usr/local/lib/python3.7/dist-packages (from wandb) (2.23.0)\n",
            "Collecting gitdb<5,>=4.0.1\n",
            "  Downloading gitdb-4.0.9-py3-none-any.whl (63 kB)\n",
            "\u001b[K     |████████████████████████████████| 63 kB 1.8 MB/s \n",
            "\u001b[?25hRequirement already satisfied: typing-extensions>=3.7.4.3 in /usr/local/lib/python3.7/dist-packages (from GitPython>=1.0.0->wandb) (4.1.1)\n",
            "Collecting smmap<6,>=3.0.1\n",
            "  Downloading smmap-5.0.0-py3-none-any.whl (24 kB)\n",
            "Requirement already satisfied: chardet<4,>=3.0.2 in /usr/local/lib/python3.7/dist-packages (from requests<3,>=2.0.0->wandb) (3.0.4)\n",
            "Requirement already satisfied: urllib3!=1.25.0,!=1.25.1,<1.26,>=1.21.1 in /usr/local/lib/python3.7/dist-packages (from requests<3,>=2.0.0->wandb) (1.24.3)\n",
            "Requirement already satisfied: certifi>=2017.4.17 in /usr/local/lib/python3.7/dist-packages (from requests<3,>=2.0.0->wandb) (2022.6.15)\n",
            "Requirement already satisfied: idna<3,>=2.5 in /usr/local/lib/python3.7/dist-packages (from requests<3,>=2.0.0->wandb) (2.10)\n",
            "Collecting sentry-sdk>=1.0.0\n",
            "  Downloading sentry_sdk-1.9.4-py2.py3-none-any.whl (157 kB)\n",
            "\u001b[K     |████████████████████████████████| 157 kB 72.7 MB/s \n",
            "\u001b[?25h  Downloading sentry_sdk-1.9.3-py2.py3-none-any.whl (157 kB)\n",
            "\u001b[K     |████████████████████████████████| 157 kB 75.8 MB/s \n",
            "\u001b[?25h  Downloading sentry_sdk-1.9.2-py2.py3-none-any.whl (157 kB)\n",
            "\u001b[K     |████████████████████████████████| 157 kB 77.5 MB/s \n",
            "\u001b[?25h  Downloading sentry_sdk-1.9.1-py2.py3-none-any.whl (157 kB)\n",
            "\u001b[K     |████████████████████████████████| 157 kB 72.1 MB/s \n",
            "\u001b[?25h  Downloading sentry_sdk-1.9.0-py2.py3-none-any.whl (156 kB)\n",
            "\u001b[K     |████████████████████████████████| 156 kB 77.0 MB/s \n",
            "\u001b[?25hBuilding wheels for collected packages: pathtools\n",
            "  Building wheel for pathtools (setup.py) ... \u001b[?25l\u001b[?25hdone\n",
            "  Created wheel for pathtools: filename=pathtools-0.1.2-py3-none-any.whl size=8806 sha256=74c64b2c53a61f841026d585909d9bb6684c5bc3c72e4fb5991640dfb10fd4f0\n",
            "  Stored in directory: /root/.cache/pip/wheels/3e/31/09/fa59cef12cdcfecc627b3d24273699f390e71828921b2cbba2\n",
            "Successfully built pathtools\n",
            "Installing collected packages: smmap, gitdb, shortuuid, setproctitle, sentry-sdk, pathtools, GitPython, docker-pycreds, wandb\n",
            "Successfully installed GitPython-3.1.27 docker-pycreds-0.4.0 gitdb-4.0.9 pathtools-0.1.2 sentry-sdk-1.9.0 setproctitle-1.3.2 shortuuid-1.0.9 smmap-5.0.0 wandb-0.13.1\n"
          ]
        }
      ]
    },
    {
      "cell_type": "code",
      "source": [
        "%cd /content/drive/MyDrive/pix2pix"
      ],
      "metadata": {
        "colab": {
          "base_uri": "https://localhost:8080/"
        },
        "id": "hFhttpSGt1hs",
        "outputId": "693fa960-aae2-4c99-c253-2b566e83b046"
      },
      "execution_count": 3,
      "outputs": [
        {
          "output_type": "stream",
          "name": "stdout",
          "text": [
            "/content/drive/MyDrive/pix2pix\n"
          ]
        }
      ]
    },
    {
      "cell_type": "code",
      "source": [
        "import wandb\n",
        "!wandb login  #api 사용해 로그인 필요"
      ],
      "metadata": {
        "colab": {
          "base_uri": "https://localhost:8080/"
        },
        "id": "aeMspqJcpjPp",
        "outputId": "08f6ce8a-a126-4865-d133-72586bbe234e"
      },
      "execution_count": 4,
      "outputs": [
        {
          "output_type": "stream",
          "name": "stdout",
          "text": [
            "\u001b[34m\u001b[1mwandb\u001b[0m: Logging into wandb.ai. (Learn how to deploy a W&B server locally: https://wandb.me/wandb-server)\n",
            "\u001b[34m\u001b[1mwandb\u001b[0m: You can find your API key in your browser here: https://wandb.ai/authorize\n",
            "\u001b[34m\u001b[1mwandb\u001b[0m: Paste an API key from your profile and hit enter, or press ctrl+c to quit: \n",
            "\u001b[34m\u001b[1mwandb\u001b[0m: Appending key for api.wandb.ai to your netrc file: /root/.netrc\n"
          ]
        }
      ]
    },
    {
      "cell_type": "code",
      "source": [
        "wandb.init(project=\"coloring-page\")  #wandb web 서버와 연결"
      ],
      "metadata": {
        "colab": {
          "base_uri": "https://localhost:8080/",
          "height": 109
        },
        "id": "MMSXrs9LplHZ",
        "outputId": "aa9794ad-5402-4a47-a642-0560df832299"
      },
      "execution_count": 5,
      "outputs": [
        {
          "output_type": "stream",
          "name": "stderr",
          "text": [
            "\u001b[34m\u001b[1mwandb\u001b[0m: Currently logged in as: \u001b[33mmj22\u001b[0m. Use \u001b[1m`wandb login --relogin`\u001b[0m to force relogin\n"
          ]
        },
        {
          "output_type": "display_data",
          "data": {
            "text/plain": [
              "<IPython.core.display.HTML object>"
            ],
            "text/html": [
              "Tracking run with wandb version 0.13.1"
            ]
          },
          "metadata": {}
        },
        {
          "output_type": "display_data",
          "data": {
            "text/plain": [
              "<IPython.core.display.HTML object>"
            ],
            "text/html": [
              "Run data is saved locally in <code>/content/drive/MyDrive/pix2pix/wandb/run-20220821_143755-r05f8ntb</code>"
            ]
          },
          "metadata": {}
        },
        {
          "output_type": "display_data",
          "data": {
            "text/plain": [
              "<IPython.core.display.HTML object>"
            ],
            "text/html": [
              "Syncing run <strong><a href=\"https://wandb.ai/mj22/coloring-page/runs/r05f8ntb\" target=\"_blank\">stilted-firebrand-7</a></strong> to <a href=\"https://wandb.ai/mj22/coloring-page\" target=\"_blank\">Weights & Biases</a> (<a href=\"https://wandb.me/run\" target=\"_blank\">docs</a>)<br/>"
            ]
          },
          "metadata": {}
        },
        {
          "output_type": "execute_result",
          "data": {
            "text/html": [
              "<button onClick=\"this.nextSibling.style.display='block';this.style.display='none';\">Display W&B run</button><iframe src=\"https://wandb.ai/mj22/coloring-page/runs/r05f8ntb?jupyter=true\" style=\"border:none;width:100%;height:420px;display:none;\"></iframe>"
            ],
            "text/plain": [
              "<wandb.sdk.wandb_run.Run at 0x7fa129e28f10>"
            ]
          },
          "metadata": {},
          "execution_count": 5
        }
      ]
    },
    {
      "cell_type": "markdown",
      "source": [
        "# 2.필요한 라이브러리 불러오기"
      ],
      "metadata": {
        "id": "7v6frrSfpoTh"
      }
    },
    {
      "cell_type": "code",
      "source": [
        "import os\n",
        "import glob\n",
        "import numpy as np\n",
        "import matplotlib.pyplot as plt\n",
        "from PIL import Image\n",
        "\n",
        "import torch\n",
        "import torch.nn as nn\n",
        "\n",
        "from torch.utils.data import Dataset\n",
        "from torch.utils.data import DataLoader\n",
        "import torchvision.transforms as transforms\n",
        "from torchvision.utils import save_image"
      ],
      "metadata": {
        "id": "9BYIZIQ5pqjE"
      },
      "execution_count": 6,
      "outputs": []
    },
    {
      "cell_type": "markdown",
      "source": [
        "# 3.데이터셋 불러오기 및 확인"
      ],
      "metadata": {
        "id": "x03iYw09psfy"
      }
    },
    {
      "cell_type": "code",
      "source": [
        "!unzip '/content/drive/MyDrive/pix2pix/custom_paired_dataset.zip' -d '/content/'"
      ],
      "metadata": {
        "id": "Tf2K6YoV7Ie2"
      },
      "execution_count": null,
      "outputs": []
    },
    {
      "cell_type": "code",
      "source": [
        "print(\"학습 데이터셋 A와 B의 개수:\", len(next(os.walk('/content/content/custom_paired_dataset'))[2]))"
      ],
      "metadata": {
        "colab": {
          "base_uri": "https://localhost:8080/"
        },
        "id": "-jtgzdrfqZmB",
        "outputId": "d55efec1-aa44-4cd1-dbbe-0a872e996fe5"
      },
      "execution_count": 8,
      "outputs": [
        {
          "output_type": "stream",
          "name": "stdout",
          "text": [
            "학습 데이터셋 A와 B의 개수: 8699\n"
          ]
        }
      ]
    },
    {
      "cell_type": "code",
      "source": [
        "image = Image.open('/content/content/custom_paired_dataset/b(1)10.png')\n",
        "print(\"이미지 크기:\", image.size)\n",
        "\n",
        "plt.imshow(image)\n",
        "plt.show()"
      ],
      "metadata": {
        "colab": {
          "base_uri": "https://localhost:8080/",
          "height": 237
        },
        "id": "oupC2EKcqguH",
        "outputId": "e5715102-7a3c-4df5-8443-9752684a85f9"
      },
      "execution_count": 9,
      "outputs": [
        {
          "output_type": "stream",
          "name": "stdout",
          "text": [
            "이미지 크기: (512, 256)\n"
          ]
        },
        {
          "output_type": "display_data",
          "data": {
            "text/plain": [
              "<Figure size 432x288 with 1 Axes>"
            ],
            "image/png": "[encoded data removed]"
          },
          "metadata": {
            "needs_background": "light"
          }
        }
      ]
    },
    {
      "cell_type": "markdown",
      "source": [
        "### 3-1.오류수정 \n",
        "모델의 데이터셋의 데이터 형식이 rgb여야 하는데 구성한 custom_paired_dataset이 gray images였음.\n",
        "\n",
        "폴더 내의 gray images를 일괄적으로 rgb images로 바꿔줌\n",
        "/content/content/ 내에 새폴더(rgb_custom_paired_dataset)을 만들고 실행"
      ],
      "metadata": {
        "id": "7SfscQpZ0cly"
      }
    },
    {
      "cell_type": "code",
      "source": [
        "import os\n",
        "from PIL import Image\n",
        "\n",
        "ORIGIN_PATH = \"/content/content/custom_paired_dataset/\"\n",
        "DESTIN_PATH = \"/content/content/rgb_custom_paired_dataset/\"\n",
        "\n",
        "for filename in os.listdir(ORIGIN_PATH):                                                                                                                                                                \n",
        "    img = Image.open(ORIGIN_PATH + filename).convert(\"RGB\")                                                                                                                                                \n",
        "    img.save(DESTIN_PATH + filename) "
      ],
      "metadata": {
        "id": "xEcucV65zDYE"
      },
      "execution_count": 11,
      "outputs": []
    },
    {
      "cell_type": "markdown",
      "source": [
        "# 4.데이터셋 클래스 정의"
      ],
      "metadata": {
        "id": "Mk_U_sGtqkHZ"
      }
    },
    {
      "cell_type": "code",
      "source": [
        "import cv2 \n",
        "\n",
        "%cd /content/content/\n",
        "\n",
        "class ImageDataset(Dataset):\n",
        "    def __init__(self, root, transforms_=None, mode=\"rgb_custom_paired_dataset\"):\n",
        "        self.transform = transforms_\n",
        "\n",
        "        self.files = sorted(glob.glob(os.path.join(root, '/content/content/rgb_custom_paired_dataset') + \"/*.png\"))\n",
        "\n",
        "    def __getitem__(self, index):\n",
        "        img = Image.open(self.files[index % len(self.files)])\n",
        "        w, h = img.size\n",
        "        img_A = img.crop((w / 2, 0, w, h)) # 이미지의 오른쪽 절반(A: sketch image)\n",
        "        img_B = img.crop((0, 0, w / 2, h)) # 이미지의 왼쪽 절반(B: colored illustration image)       \n",
        "\n",
        "        img_A = self.transform(img_A)\n",
        "        img_B = self.transform(img_B)\n",
        "\n",
        "        return {\"A\": img_A, \"B\": img_B}\n",
        "\n",
        "    def __len__(self):\n",
        "        return len(self.files)"
      ],
      "metadata": {
        "colab": {
          "base_uri": "https://localhost:8080/"
        },
        "id": "MAjzCHXLqnU2",
        "outputId": "439b0e05-4e79-4077-db6d-bf0cdb5811d3"
      },
      "execution_count": 12,
      "outputs": [
        {
          "output_type": "stream",
          "name": "stdout",
          "text": [
            "/content/content\n"
          ]
        }
      ]
    },
    {
      "cell_type": "code",
      "source": [
        "transforms_ = transforms.Compose([\n",
        "    transforms.Resize((256, 256), Image.BICUBIC),\n",
        "    transforms.ToTensor(),\n",
        "    transforms.Normalize((0.5, 0.5, 0.5), (0.5, 0.5, 0.5))\n",
        "])\n",
        "\n",
        "train_dataset = ImageDataset(\"data\", transforms_=transforms_)  \n",
        "val_dataset = ImageDataset(\"data\", transforms_=transforms_)\n",
        "\n",
        "train_dataloader = DataLoader(train_dataset, batch_size=10, shuffle=True, num_workers=4)\n",
        "val_dataloader = DataLoader(train_dataset, batch_size=10, shuffle=True, num_workers=4)"
      ],
      "metadata": {
        "colab": {
          "base_uri": "https://localhost:8080/"
        },
        "id": "tXCODJhFqzKg",
        "outputId": "bcfae56f-0147-4f7a-c0ba-49d450237a11"
      },
      "execution_count": 13,
      "outputs": [
        {
          "output_type": "stream",
          "name": "stderr",
          "text": [
            "/usr/local/lib/python3.7/dist-packages/torchvision/transforms/transforms.py:333: UserWarning: Argument 'interpolation' of type int is deprecated since 0.13 and will be removed in 0.15. Please use InterpolationMode enum.\n",
            "  \"Argument 'interpolation' of type int is deprecated since 0.13 and will be removed in 0.15. \"\n",
            "/usr/local/lib/python3.7/dist-packages/torch/utils/data/dataloader.py:566: UserWarning: This DataLoader will create 4 worker processes in total. Our suggested max number of worker in current system is 2, which is smaller than what this DataLoader is going to create. Please be aware that excessive worker creation might get DataLoader running slow or even freeze, lower the worker number to avoid potential slowness/freeze if necessary.\n",
            "  cpuset_checked))\n"
          ]
        }
      ]
    },
    {
      "cell_type": "markdown",
      "source": [
        "# 5.생성자 및 판별자 모델 정의"
      ],
      "metadata": {
        "id": "fbDGOCafq3H8"
      }
    },
    {
      "cell_type": "code",
      "source": [
        "# U-Net 아키텍처의 다운 샘플링(Down Sampling) 모듈\n",
        "class UNetDown(nn.Module):\n",
        "    def __init__(self, in_channels, out_channels, normalize=True, dropout=0.0):\n",
        "        super(UNetDown, self).__init__()\n",
        "        # 너비와 높이가 2배씩 감소\n",
        "        layers = [nn.Conv2d(in_channels, out_channels, kernel_size=4, stride=2, padding=1, bias=False)]\n",
        "        if normalize:\n",
        "            layers.append(nn.InstanceNorm2d(out_channels))\n",
        "        layers.append(nn.LeakyReLU(0.2))\n",
        "        if dropout:\n",
        "            layers.append(nn.Dropout(dropout))\n",
        "        self.model = nn.Sequential(*layers)\n",
        "\n",
        "    def forward(self, x):\n",
        "        return self.model(x)\n",
        "\n",
        "\n",
        "# U-Net 아키텍처의 업 샘플링(Up Sampling) 모듈: Skip Connection 사용\n",
        "class UNetUp(nn.Module):\n",
        "    def __init__(self, in_channels, out_channels, dropout=0.0):\n",
        "        super(UNetUp, self).__init__()\n",
        "        # 너비와 높이가 2배씩 증가\n",
        "        layers = [nn.ConvTranspose2d(in_channels, out_channels, kernel_size=4, stride=2, padding=1, bias=False)]\n",
        "        layers.append(nn.InstanceNorm2d(out_channels))\n",
        "        layers.append(nn.ReLU(inplace=True))\n",
        "        if dropout:\n",
        "            layers.append(nn.Dropout(dropout))\n",
        "        self.model = nn.Sequential(*layers)\n",
        "\n",
        "    def forward(self, x, skip_input):\n",
        "        x = self.model(x)\n",
        "        x = torch.cat((x, skip_input), 1) # 채널 레벨에서 합치기(concatenation)\n",
        "\n",
        "        return x\n",
        "\n",
        "\n",
        "# U-Net 생성자(Generator) 아키텍처\n",
        "class GeneratorUNet(nn.Module):\n",
        "    def __init__(self, in_channels=3, out_channels=3):\n",
        "        super(GeneratorUNet, self).__init__()\n",
        "\n",
        "        self.down1 = UNetDown(in_channels, 64, normalize=False) # 출력: [64 X 128 X 128]\n",
        "        self.down2 = UNetDown(64, 128) # 출력: [128 X 64 X 64]\n",
        "        self.down3 = UNetDown(128, 256) # 출력: [256 X 32 X 32]\n",
        "        self.down4 = UNetDown(256, 512, dropout=0.5) # 출력: [512 X 16 X 16]\n",
        "        self.down5 = UNetDown(512, 512, dropout=0.5) # 출력: [512 X 8 X 8]\n",
        "        self.down6 = UNetDown(512, 512, dropout=0.5) # 출력: [512 X 4 X 4]\n",
        "        self.down7 = UNetDown(512, 512, dropout=0.5) # 출력: [512 X 2 X 2]\n",
        "        self.down8 = UNetDown(512, 512, normalize=False, dropout=0.5) # 출력: [512 X 1 X 1]\n",
        "\n",
        "        # Skip Connection 사용(출력 채널의 크기 X 2 == 다음 입력 채널의 크기)\n",
        "        self.up1 = UNetUp(512, 512, dropout=0.5) # 출력: [1024 X 2 X 2]\n",
        "        self.up2 = UNetUp(1024, 512, dropout=0.5) # 출력: [1024 X 4 X 4]\n",
        "        self.up3 = UNetUp(1024, 512, dropout=0.5) # 출력: [1024 X 8 X 8]\n",
        "        self.up4 = UNetUp(1024, 512, dropout=0.5) # 출력: [1024 X 16 X 16]\n",
        "        self.up5 = UNetUp(1024, 256) # 출력: [512 X 32 X 32]\n",
        "        self.up6 = UNetUp(512, 128) # 출력: [256 X 64 X 64]\n",
        "        self.up7 = UNetUp(256, 64) # 출력: [128 X 128 X 128]\n",
        "\n",
        "        self.final = nn.Sequential(\n",
        "            nn.Upsample(scale_factor=2), # 출력: [128 X 256 X 256]\n",
        "            nn.ZeroPad2d((1, 0, 1, 0)),\n",
        "            nn.Conv2d(128, out_channels, kernel_size=4, padding=1), # 출력: [3 X 256 X 256]\n",
        "            nn.Tanh(),\n",
        "        )\n",
        "\n",
        "    def forward(self, x):\n",
        "        # 인코더부터 디코더까지 순전파하는 U-Net 생성자(Generator)\n",
        "        d1 = self.down1(x)\n",
        "        d2 = self.down2(d1)\n",
        "        d3 = self.down3(d2)\n",
        "        d4 = self.down4(d3)\n",
        "        d5 = self.down5(d4)\n",
        "        d6 = self.down6(d5)\n",
        "        d7 = self.down7(d6)\n",
        "        d8 = self.down8(d7)\n",
        "        u1 = self.up1(d8, d7)\n",
        "        u2 = self.up2(u1, d6)\n",
        "        u3 = self.up3(u2, d5)\n",
        "        u4 = self.up4(u3, d4)\n",
        "        u5 = self.up5(u4, d3)\n",
        "        u6 = self.up6(u5, d2)\n",
        "        u7 = self.up7(u6, d1)\n",
        "\n",
        "        return self.final(u7)\n",
        "\n",
        "\n",
        "# U-Net 판별자(Discriminator) 아키텍처\n",
        "class Discriminator(nn.Module):\n",
        "    def __init__(self, in_channels=3):\n",
        "        super(Discriminator, self).__init__()\n",
        "\n",
        "        def discriminator_block(in_channels, out_channels, normalization=True):\n",
        "            # 너비와 높이가 2배씩 감소\n",
        "            layers = [nn.Conv2d(in_channels, out_channels, kernel_size=4, stride=2, padding=1)]\n",
        "            if normalization:\n",
        "                layers.append(nn.InstanceNorm2d(out_channels))\n",
        "            layers.append(nn.LeakyReLU(0.2, inplace=True))\n",
        "            return layers\n",
        "\n",
        "        self.model = nn.Sequential(\n",
        "            # 두 개의 이미지(실제/변환된 이미지, 조건 이미지)를 입력 받으므로 입력 채널의 크기는 2배\n",
        "            *discriminator_block(in_channels * 2, 64, normalization=False), # 출력: [64 X 128 X 128]\n",
        "            *discriminator_block(64, 128), # 출력: [128 X 64 X 64]\n",
        "            *discriminator_block(128, 256), # 출력: [256 X 32 X 32]\n",
        "            *discriminator_block(256, 512), # 출력: [512 X 16 X 16]\n",
        "            nn.ZeroPad2d((1, 0, 1, 0)),\n",
        "            nn.Conv2d(512, 1, kernel_size=4, padding=1, bias=False) # 출력: [1 X 16 X 16]\n",
        "        )\n",
        "\n",
        "    # img_A: 실제/변환된 이미지, img_B: 조건(condition)\n",
        "    def forward(self, img_A, img_B):\n",
        "        # 이미지 두 개를 채널 레벨에서 연결하여(concatenate) 입력 데이터 생성\n",
        "        img_input = torch.cat((img_A, img_B), 1)\n",
        "        return self.model(img_input)"
      ],
      "metadata": {
        "id": "6uT2RMJ7q8rv"
      },
      "execution_count": 14,
      "outputs": []
    },
    {
      "cell_type": "code",
      "source": [
        "def weights_init_normal(m):\n",
        "    classname = m.__class__.__name__\n",
        "    if classname.find(\"Conv\") != -1:\n",
        "        torch.nn.init.normal_(m.weight.data, 0.0, 0.02)\n",
        "    elif classname.find(\"BatchNorm2d\") != -1:\n",
        "        torch.nn.init.normal_(m.weight.data, 1.0, 0.02)\n",
        "        torch.nn.init.constant_(m.bias.data, 0.0)"
      ],
      "metadata": {
        "id": "iVsZFxwIrFVw"
      },
      "execution_count": 15,
      "outputs": []
    },
    {
      "cell_type": "markdown",
      "source": [
        "# 6.1차 학습시킨 모델 불러오기"
      ],
      "metadata": {
        "id": "1zfiS_eLrA4r"
      }
    },
    {
      "cell_type": "code",
      "source": [
        "%cd /content/drive/MyDrive/pix2pix/trained_model/\n",
        "\n",
        "generator = GeneratorUNet()\n",
        "discriminator = Discriminator()\n",
        "\n",
        "generator.cuda()\n",
        "discriminator.cuda()\n",
        "\n",
        "generator.load_state_dict(torch.load(\"Pix2Pix_Generator_V1(100e).pt\"))\n",
        "discriminator.load_state_dict(torch.load(\"Pix2Pix_Discriminator_V1(100e).pt\"))\n",
        "\n",
        "generator.eval();\n",
        "discriminator.eval();"
      ],
      "metadata": {
        "colab": {
          "base_uri": "https://localhost:8080/"
        },
        "id": "V_9Tspw9r1lY",
        "outputId": "b09fc314-8014-47b9-9617-e1a125b62c2e"
      },
      "execution_count": 16,
      "outputs": [
        {
          "output_type": "stream",
          "name": "stdout",
          "text": [
            "/content/drive/MyDrive/pix2pix/trained_model\n"
          ]
        }
      ]
    },
    {
      "cell_type": "markdown",
      "source": [
        "# 7.custom dataset으로 모델 추가학습"
      ],
      "metadata": {
        "id": "vwuJJtMesV3u"
      }
    },
    {
      "cell_type": "markdown",
      "source": [
        "### ~25epoch"
      ],
      "metadata": {
        "id": "ji5lM0KDRHYs"
      }
    },
    {
      "cell_type": "code",
      "source": [
        "# 손실 함수(loss function)\n",
        "criterion_GAN = torch.nn.MSELoss()\n",
        "criterion_pixelwise = torch.nn.L1Loss()\n",
        "\n",
        "criterion_GAN.cuda()\n",
        "criterion_pixelwise.cuda()\n",
        "\n",
        "# 학습률(learning rate) 설정\n",
        "lr = 0.0002\n",
        "\n",
        "# 생성자와 판별자를 위한 최적화 함수\n",
        "optimizer_G = torch.optim.Adam(generator.parameters(), lr=lr, betas=(0.5, 0.999))\n",
        "optimizer_D = torch.optim.Adam(discriminator.parameters(), lr=lr, betas=(0.5, 0.999))"
      ],
      "metadata": {
        "id": "ZLonDWeQsdyd"
      },
      "execution_count": 17,
      "outputs": []
    },
    {
      "cell_type": "code",
      "source": [
        "%cd /content/drive/MyDrive/pix2pix/v2(25e)\n",
        "\n",
        "import time\n",
        "\n",
        "n_epochs = 25 # 학습의 횟수(epoch) 설정\n",
        "sample_interval = 500 # 몇 번의 배치(batch)마다 결과를 출력할 것인지 설정\n",
        "\n",
        "# 변환된 이미지와 정답 이미지 사이의 L1 픽셀 단위(pixel-wise) 손실 가중치(weight) 파라미터\n",
        "lambda_pixel = 100\n",
        "\n",
        "start_time = time.time()\n",
        "\n",
        "for epoch in range(n_epochs):\n",
        "    for i, batch in enumerate(train_dataloader):\n",
        "        # 모델의 입력(input) 데이터 불러오기\n",
        "        real_A = batch[\"B\"].cuda()\n",
        "        real_B = batch[\"A\"].cuda()\n",
        "\n",
        "        # 진짜(real) 이미지와 가짜(fake) 이미지에 대한 정답 레이블 생성 (너바와 높이를 16씩 나눈 크기)\n",
        "        real = torch.cuda.FloatTensor(real_A.size(0), 1, 16, 16).fill_(1.0) # 진짜(real): 1\n",
        "        fake = torch.cuda.FloatTensor(real_A.size(0), 1, 16, 16).fill_(0.0) # 가짜(fake): 0\n",
        "\n",
        "        \"\"\" 생성자(generator)를 학습합니다. \"\"\"\n",
        "        optimizer_G.zero_grad()\n",
        "\n",
        "        # 이미지 생성\n",
        "        fake_B = generator(real_A)\n",
        "\n",
        "        # 생성자(generator)의 손실(loss) 값 계산\n",
        "        loss_GAN = criterion_GAN(discriminator(fake_B, real_A), real)\n",
        "\n",
        "        # 픽셀 단위(pixel-wise) L1 손실 값 계산\n",
        "        loss_pixel = criterion_pixelwise(fake_B, real_B) \n",
        "\n",
        "        # 최종적인 손실(loss)\n",
        "        loss_G = loss_GAN + lambda_pixel * loss_pixel\n",
        "\n",
        "        # 생성자(generator) 업데이트\n",
        "        loss_G.backward()\n",
        "        optimizer_G.step()\n",
        "\n",
        "        \"\"\" 판별자(discriminator)를 학습합니다. \"\"\"\n",
        "        optimizer_D.zero_grad()\n",
        "\n",
        "        # 판별자(discriminator)의 손실(loss) 값 계산\n",
        "        loss_real = criterion_GAN(discriminator(real_B, real_A), real) # 조건(condition): real_A\n",
        "        loss_fake = criterion_GAN(discriminator(fake_B.detach(), real_A), fake)\n",
        "        loss_D = (loss_real + loss_fake) / 2\n",
        "\n",
        "        # 판별자(discriminator) 업데이트\n",
        "        loss_D.backward()\n",
        "        optimizer_D.step()\n",
        "\n",
        "        done = epoch * len(train_dataloader) + i\n",
        "        if done % sample_interval == 0:\n",
        "            imgs = next(iter(val_dataloader)) # 10개의 이미지를 추출해 생성\n",
        "            real_A = imgs[\"B\"].cuda()\n",
        "            real_B = imgs[\"A\"].cuda()\n",
        "            fake_B = generator(real_A)\n",
        "            # real_A: 조건(condition), fake_B: 변환된 이미지(translated image), real_B: 정답 이미지\n",
        "            img_sample = torch.cat((real_A.data, fake_B.data, real_B.data), -2) # 높이(height)를 기준으로 이미지를 연결하기\n",
        "            save_image(img_sample, f\"{done}.png\", nrow=5, normalize=True)\n",
        "\n",
        "    # 하나의 epoch이 끝날 때마다 로그(log) 출력 및 W&B에 기록\n",
        "    wandb.log({\"epoch\": epoch, \"D loss\": loss_D.item(), \"G pixel loss\": loss_pixel.item() , \"adv loss\" : loss_GAN.item()})\n",
        "    print(f\"[Epoch {epoch}/{n_epochs}] [D loss: {loss_D.item():.6f}] [G pixel loss: {loss_pixel.item():.6f}, adv loss: {loss_GAN.item()}] [Elapsed time: {time.time() - start_time:.2f}s]\")\n",
        "\n",
        "\n",
        "\n",
        "# 모델 파라미터 저장\n",
        "%cd /content/drive/MyDrive/pix2pix/trained_model\n",
        "torch.save(generator.state_dict(), \"Pix2Pix_Generator_V2(25e).pt\")\n",
        "torch.save(discriminator.state_dict(), \"Pix2Pix_Discriminator_V2(25e).pt\")\n",
        "print(\"Model saved!\")"
      ],
      "metadata": {
        "colab": {
          "base_uri": "https://localhost:8080/"
        },
        "id": "pLlw2dcFsfwF",
        "outputId": "a52dbe18-1856-4244-d987-e7c1cbd57d8f"
      },
      "execution_count": 18,
      "outputs": [
        {
          "output_type": "stream",
          "name": "stdout",
          "text": [
            "/content/drive/MyDrive/pix2pix/v2(25e)\n",
            "[Epoch 0/25] [D loss: 0.155193] [G pixel loss: 0.062045, adv loss: 0.8249577283859253] [Elapsed time: 341.48s]\n",
            "[Epoch 1/25] [D loss: 0.107343] [G pixel loss: 0.073266, adv loss: 0.8120055198669434] [Elapsed time: 687.35s]\n",
            "[Epoch 2/25] [D loss: 0.155501] [G pixel loss: 0.065828, adv loss: 1.0554603338241577] [Elapsed time: 1033.32s]\n",
            "[Epoch 3/25] [D loss: 0.086899] [G pixel loss: 0.088561, adv loss: 1.1318185329437256] [Elapsed time: 1378.77s]\n",
            "[Epoch 4/25] [D loss: 0.195598] [G pixel loss: 0.047969, adv loss: 1.1974623203277588] [Elapsed time: 1724.97s]\n",
            "[Epoch 5/25] [D loss: 0.102784] [G pixel loss: 0.098791, adv loss: 1.0836255550384521] [Elapsed time: 2070.66s]\n",
            "[Epoch 6/25] [D loss: 0.121986] [G pixel loss: 0.068592, adv loss: 0.9163135886192322] [Elapsed time: 2417.05s]\n",
            "[Epoch 7/25] [D loss: 0.084667] [G pixel loss: 0.057647, adv loss: 0.774755597114563] [Elapsed time: 2762.50s]\n",
            "[Epoch 8/25] [D loss: 0.071491] [G pixel loss: 0.058575, adv loss: 1.0661593675613403] [Elapsed time: 3108.41s]\n",
            "[Epoch 9/25] [D loss: 0.062885] [G pixel loss: 0.055610, adv loss: 0.8733517527580261] [Elapsed time: 3454.00s]\n",
            "[Epoch 10/25] [D loss: 0.099912] [G pixel loss: 0.058271, adv loss: 0.8177911043167114] [Elapsed time: 3799.46s]\n",
            "[Epoch 11/25] [D loss: 0.067018] [G pixel loss: 0.109521, adv loss: 1.0798110961914062] [Elapsed time: 4144.84s]\n",
            "[Epoch 12/25] [D loss: 0.193308] [G pixel loss: 0.059507, adv loss: 0.3009507954120636] [Elapsed time: 4490.67s]\n",
            "[Epoch 13/25] [D loss: 0.074474] [G pixel loss: 0.062560, adv loss: 0.8495709896087646] [Elapsed time: 4836.69s]\n",
            "[Epoch 14/25] [D loss: 0.088744] [G pixel loss: 0.071552, adv loss: 0.5859542489051819] [Elapsed time: 5182.27s]\n",
            "[Epoch 15/25] [D loss: 0.064146] [G pixel loss: 0.054990, adv loss: 0.7165543437004089] [Elapsed time: 5527.85s]\n",
            "[Epoch 16/25] [D loss: 0.087091] [G pixel loss: 0.082095, adv loss: 0.6609697937965393] [Elapsed time: 5873.84s]\n",
            "[Epoch 17/25] [D loss: 0.069462] [G pixel loss: 0.060779, adv loss: 0.5909209251403809] [Elapsed time: 6219.73s]\n",
            "[Epoch 18/25] [D loss: 0.125950] [G pixel loss: 0.037780, adv loss: 0.34735551476478577] [Elapsed time: 6565.40s]\n",
            "[Epoch 19/25] [D loss: 0.080768] [G pixel loss: 0.081930, adv loss: 0.5562747120857239] [Elapsed time: 6910.71s]\n",
            "[Epoch 20/25] [D loss: 0.183853] [G pixel loss: 0.043861, adv loss: 1.122927188873291] [Elapsed time: 7256.61s]\n",
            "[Epoch 21/25] [D loss: 0.204658] [G pixel loss: 0.056850, adv loss: 0.24554657936096191] [Elapsed time: 7602.45s]\n",
            "[Epoch 22/25] [D loss: 0.065798] [G pixel loss: 0.059096, adv loss: 0.8242689967155457] [Elapsed time: 7948.35s]\n",
            "[Epoch 23/25] [D loss: 0.108753] [G pixel loss: 0.046264, adv loss: 0.49612298607826233] [Elapsed time: 8293.40s]\n",
            "[Epoch 24/25] [D loss: 0.078645] [G pixel loss: 0.074889, adv loss: 0.6856709718704224] [Elapsed time: 8639.00s]\n",
            "/content/drive/MyDrive/pix2pix/trained_model\n",
            "Model saved!\n"
          ]
        }
      ]
    },
    {
      "cell_type": "markdown",
      "source": [
        "### ~50epoch"
      ],
      "metadata": {
        "id": "e5ILzAjNQ-vy"
      }
    },
    {
      "cell_type": "code",
      "source": [
        "%cd /content/drive/MyDrive/pix2pix/trained_model\n",
        "\n",
        "# 모델 불러오기\n",
        "generator = GeneratorUNet()\n",
        "discriminator = Discriminator()\n",
        "\n",
        "generator.cuda()\n",
        "discriminator.cuda()\n",
        "\n",
        "generator.load_state_dict(torch.load(\"Pix2Pix_Generator_V2(25e).pt\"))\n",
        "discriminator.load_state_dict(torch.load(\"Pix2Pix_Discriminator_V2(25e).pt\"))\n",
        "\n",
        "generator.eval();\n",
        "discriminator.eval();\n",
        "\n",
        "# 손실 함수(loss function)\n",
        "criterion_GAN = torch.nn.MSELoss()\n",
        "criterion_pixelwise = torch.nn.L1Loss()\n",
        "\n",
        "criterion_GAN.cuda()\n",
        "criterion_pixelwise.cuda()\n",
        "\n",
        "# 학습률(learning rate) 설정\n",
        "lr = 0.0002\n",
        "\n",
        "# 생성자와 판별자를 위한 최적화 함수\n",
        "optimizer_G = torch.optim.Adam(generator.parameters(), lr=lr, betas=(0.5, 0.999))\n",
        "optimizer_D = torch.optim.Adam(discriminator.parameters(), lr=lr, betas=(0.5, 0.999))"
      ],
      "metadata": {
        "colab": {
          "base_uri": "https://localhost:8080/"
        },
        "id": "aeeUOWWDPy-n",
        "outputId": "f008ab1f-d4af-4205-9288-d3cc60e19970"
      },
      "execution_count": 19,
      "outputs": [
        {
          "output_type": "stream",
          "name": "stdout",
          "text": [
            "/content/drive/MyDrive/pix2pix/trained_model\n"
          ]
        }
      ]
    },
    {
      "cell_type": "code",
      "source": [
        "%cd /content/drive/MyDrive/pix2pix/v2(50e)\n",
        "\n",
        "import time\n",
        "\n",
        "n_epochs = 25 # 학습의 횟수(epoch) 설정\n",
        "sample_interval = 500 # 몇 번의 배치(batch)마다 결과를 출력할 것인지 설정\n",
        "\n",
        "# 변환된 이미지와 정답 이미지 사이의 L1 픽셀 단위(pixel-wise) 손실 가중치(weight) 파라미터\n",
        "lambda_pixel = 100\n",
        "\n",
        "start_time = time.time()\n",
        "\n",
        "for epoch in range(n_epochs):\n",
        "    for i, batch in enumerate(train_dataloader):\n",
        "        # 모델의 입력(input) 데이터 불러오기\n",
        "        real_A = batch[\"B\"].cuda()\n",
        "        real_B = batch[\"A\"].cuda()\n",
        "\n",
        "        # 진짜(real) 이미지와 가짜(fake) 이미지에 대한 정답 레이블 생성 (너바와 높이를 16씩 나눈 크기)\n",
        "        real = torch.cuda.FloatTensor(real_A.size(0), 1, 16, 16).fill_(1.0) # 진짜(real): 1\n",
        "        fake = torch.cuda.FloatTensor(real_A.size(0), 1, 16, 16).fill_(0.0) # 가짜(fake): 0\n",
        "\n",
        "        \"\"\" 생성자(generator)를 학습합니다. \"\"\"\n",
        "        optimizer_G.zero_grad()\n",
        "\n",
        "        # 이미지 생성\n",
        "        fake_B = generator(real_A)\n",
        "\n",
        "        # 생성자(generator)의 손실(loss) 값 계산\n",
        "        loss_GAN = criterion_GAN(discriminator(fake_B, real_A), real)\n",
        "\n",
        "        # 픽셀 단위(pixel-wise) L1 손실 값 계산\n",
        "        loss_pixel = criterion_pixelwise(fake_B, real_B) \n",
        "\n",
        "        # 최종적인 손실(loss)\n",
        "        loss_G = loss_GAN + lambda_pixel * loss_pixel\n",
        "\n",
        "        # 생성자(generator) 업데이트\n",
        "        loss_G.backward()\n",
        "        optimizer_G.step()\n",
        "\n",
        "        \"\"\" 판별자(discriminator)를 학습합니다. \"\"\"\n",
        "        optimizer_D.zero_grad()\n",
        "\n",
        "        # 판별자(discriminator)의 손실(loss) 값 계산\n",
        "        loss_real = criterion_GAN(discriminator(real_B, real_A), real) # 조건(condition): real_A\n",
        "        loss_fake = criterion_GAN(discriminator(fake_B.detach(), real_A), fake)\n",
        "        loss_D = (loss_real + loss_fake) / 2\n",
        "\n",
        "        # 판별자(discriminator) 업데이트\n",
        "        loss_D.backward()\n",
        "        optimizer_D.step()\n",
        "\n",
        "        done = (epoch+25) * len(train_dataloader) + i\n",
        "        if done % sample_interval == 0:\n",
        "            imgs = next(iter(val_dataloader)) # 10개의 이미지를 추출해 생성\n",
        "            real_A = imgs[\"B\"].cuda()\n",
        "            real_B = imgs[\"A\"].cuda()\n",
        "            fake_B = generator(real_A)\n",
        "            # real_A: 조건(condition), fake_B: 변환된 이미지(translated image), real_B: 정답 이미지\n",
        "            img_sample = torch.cat((real_A.data, fake_B.data, real_B.data), -2) # 높이(height)를 기준으로 이미지를 연결하기\n",
        "            save_image(img_sample, f\"{done}.png\", nrow=5, normalize=True)\n",
        "\n",
        "    # 하나의 epoch이 끝날 때마다 로그(log) 출력\n",
        "    wandb.log({\"epoch\": epoch+25, \"D loss\": loss_D.item(), \"G pixel loss\": loss_pixel.item() , \"adv loss\" : loss_GAN.item()})\n",
        "    print(f\"[Epoch {epoch+25}/{n_epochs+25}] [D loss: {loss_D.item():.6f}] [G pixel loss: {loss_pixel.item():.6f}, adv loss: {loss_GAN.item()}] [Elapsed time: {time.time() - start_time:.2f}s]\")\n",
        "\n",
        "%cd /content/drive/MyDrive/pix2pix/trained_model\n",
        "\n",
        "# 모델 파라미터 저장\n",
        "torch.save(generator.state_dict(), \"Pix2Pix_Generator_V2(50e).pt\")\n",
        "torch.save(discriminator.state_dict(), \"Pix2Pix_Discriminator_V2(50e).pt\")\n",
        "print(\"Model saved!\")"
      ],
      "metadata": {
        "colab": {
          "base_uri": "https://localhost:8080/"
        },
        "id": "mBOngcZqQtEX",
        "outputId": "c8f784de-2277-4958-fc60-f8b8159584cc"
      },
      "execution_count": 20,
      "outputs": [
        {
          "output_type": "stream",
          "name": "stdout",
          "text": [
            "/content/drive/MyDrive/pix2pix/v2(50e)\n"
          ]
        },
        {
          "output_type": "stream",
          "name": "stderr",
          "text": [
            "/usr/local/lib/python3.7/dist-packages/torch/utils/data/dataloader.py:566: UserWarning: This DataLoader will create 4 worker processes in total. Our suggested max number of worker in current system is 2, which is smaller than what this DataLoader is going to create. Please be aware that excessive worker creation might get DataLoader running slow or even freeze, lower the worker number to avoid potential slowness/freeze if necessary.\n",
            "  cpuset_checked))\n"
          ]
        },
        {
          "output_type": "stream",
          "name": "stdout",
          "text": [
            "[Epoch 25/50] [D loss: 0.117420] [G pixel loss: 0.069457, adv loss: 0.43639251589775085] [Elapsed time: 346.18s]\n",
            "[Epoch 26/50] [D loss: 0.135886] [G pixel loss: 0.059204, adv loss: 0.7480424642562866] [Elapsed time: 691.28s]\n",
            "[Epoch 27/50] [D loss: 0.120041] [G pixel loss: 0.047407, adv loss: 0.3783489763736725] [Elapsed time: 1037.05s]\n",
            "[Epoch 28/50] [D loss: 0.205468] [G pixel loss: 0.058089, adv loss: 1.1971403360366821] [Elapsed time: 1384.10s]\n",
            "[Epoch 29/50] [D loss: 0.094427] [G pixel loss: 0.050069, adv loss: 0.643131673336029] [Elapsed time: 1729.95s]\n",
            "[Epoch 30/50] [D loss: 0.087372] [G pixel loss: 0.059069, adv loss: 0.9306914210319519] [Elapsed time: 2075.32s]\n",
            "[Epoch 31/50] [D loss: 0.100463] [G pixel loss: 0.052070, adv loss: 0.7154237031936646] [Elapsed time: 2421.62s]\n",
            "[Epoch 32/50] [D loss: 0.111203] [G pixel loss: 0.044197, adv loss: 0.6739209294319153] [Elapsed time: 2767.40s]\n",
            "[Epoch 33/50] [D loss: 0.169943] [G pixel loss: 0.039523, adv loss: 0.3050844371318817] [Elapsed time: 3113.36s]\n",
            "[Epoch 34/50] [D loss: 0.117590] [G pixel loss: 0.043114, adv loss: 0.6446234583854675] [Elapsed time: 3458.91s]\n",
            "[Epoch 35/50] [D loss: 0.186712] [G pixel loss: 0.056191, adv loss: 1.1522480249404907] [Elapsed time: 3805.32s]\n",
            "[Epoch 36/50] [D loss: 0.102339] [G pixel loss: 0.063008, adv loss: 0.4674557149410248] [Elapsed time: 4151.11s]\n",
            "[Epoch 37/50] [D loss: 0.179713] [G pixel loss: 0.053205, adv loss: 0.5715979337692261] [Elapsed time: 4497.13s]\n",
            "[Epoch 38/50] [D loss: 0.134378] [G pixel loss: 0.041238, adv loss: 0.4311160445213318] [Elapsed time: 4842.33s]\n",
            "[Epoch 39/50] [D loss: 0.219396] [G pixel loss: 0.035235, adv loss: 0.2753494083881378] [Elapsed time: 5188.50s]\n",
            "[Epoch 40/50] [D loss: 0.157451] [G pixel loss: 0.062483, adv loss: 1.0532962083816528] [Elapsed time: 5534.93s]\n",
            "[Epoch 41/50] [D loss: 0.117872] [G pixel loss: 0.051129, adv loss: 0.8126401901245117] [Elapsed time: 5880.69s]\n",
            "[Epoch 42/50] [D loss: 0.109053] [G pixel loss: 0.038634, adv loss: 0.7276971936225891] [Elapsed time: 6225.95s]\n",
            "[Epoch 43/50] [D loss: 0.171814] [G pixel loss: 0.062157, adv loss: 0.2632790207862854] [Elapsed time: 6571.81s]\n",
            "[Epoch 44/50] [D loss: 0.135623] [G pixel loss: 0.048593, adv loss: 0.5240488648414612] [Elapsed time: 6918.12s]\n",
            "[Epoch 45/50] [D loss: 0.146733] [G pixel loss: 0.055605, adv loss: 0.8221361041069031] [Elapsed time: 7264.18s]\n",
            "[Epoch 46/50] [D loss: 0.190094] [G pixel loss: 0.058663, adv loss: 0.6338667273521423] [Elapsed time: 7609.26s]\n",
            "[Epoch 47/50] [D loss: 0.131904] [G pixel loss: 0.074549, adv loss: 0.4645335376262665] [Elapsed time: 7955.53s]\n",
            "[Epoch 48/50] [D loss: 0.089307] [G pixel loss: 0.072918, adv loss: 0.5398285984992981] [Elapsed time: 8301.77s]\n",
            "[Epoch 49/50] [D loss: 0.216226] [G pixel loss: 0.042144, adv loss: 0.2693663239479065] [Elapsed time: 8647.32s]\n",
            "/content/drive/MyDrive/pix2pix/trained_model\n",
            "Model saved!\n"
          ]
        }
      ]
    },
    {
      "cell_type": "markdown",
      "source": [
        "# 8.모델사용하기"
      ],
      "metadata": {
        "id": "NnDL3zKs2IvJ"
      }
    },
    {
      "cell_type": "code",
      "source": [
        "from __future__ import print_function\n",
        "import argparse\n",
        "\n",
        "from torch.autograd import Variable\n",
        "\n",
        "import PIL.Image\n",
        "import PIL.ImageTk\n",
        "import cv2\n",
        "from google.colab.patches import cv2_imshow\n",
        "from IPython.display import Image\n",
        "\n",
        "\n",
        "def is_image_file(filename):\n",
        "    return any(filename.endswith(extension) for extension in [\".png\", \".jpg\", \".jpeg\"])\n",
        "\n",
        "\n",
        "def load_img(filepath):\n",
        "    img = PIL.Image.open(filepath).convert('RGB')\n",
        "    img = img.resize((256, 256))\n",
        "    return img\n",
        "\n",
        "\n",
        "def save_img(image_tensor, filename):\n",
        "    image_numpy = image_tensor.float().numpy()\n",
        "    image_numpy = (np.transpose(image_numpy, (1, 2, 0)) + 1) / 2.0 * 255.0\n",
        "    image_numpy = image_numpy.astype(np.uint8)\n",
        "    image_pil = Image.fromarray(image_numpy)\n",
        "    image_pil.save(filename)\n",
        "    print(\"Image saved as {}\".format(filename))\n",
        "\n",
        "\n",
        "parser = argparse.ArgumentParser()\n",
        "parser.add_argument('--dataset', required=False, default='illustration', help='illustration')\n",
        "parser.add_argument('--model', required=False, type=str, default='Pix2Pix_Generator_V2(50e).pt', help='model file to use')\n",
        "parser.add_argument('--cuda', action='store_true', default=True, help='use cuda')\n",
        "params = parser.parse_args([])\n",
        "print(params)"
      ],
      "metadata": {
        "colab": {
          "base_uri": "https://localhost:8080/"
        },
        "id": "oYyhaj35nJHo",
        "outputId": "0afcc572-021a-487b-9b4f-79dd521e9934"
      },
      "execution_count": 21,
      "outputs": [
        {
          "output_type": "stream",
          "name": "stdout",
          "text": [
            "Namespace(cuda=True, dataset='illustration', model='Pix2Pix_Generator_V2(50e).pt')\n"
          ]
        }
      ]
    },
    {
      "cell_type": "code",
      "source": [
        "#@markdown #**이미지 파일 하나만 넣을 때**\n",
        "#@markdown ---\n",
        "target_imagefile = \"/content/drive/MyDrive/teddy-1338895_640.jpg\"#@param {type:\"string\"} \n",
        "\n",
        "imgs = load_img(target_imagefile) #인풋 이미지 경로 넣기\n",
        "imgs = transforms_(imgs)\n",
        "\n",
        "input = Variable(imgs).view(1,-1,256,256)\n",
        "input_img = input.data[0]\n",
        "\n",
        "if params.cuda:\n",
        "    generator = generator.cuda()\n",
        "    input = input.cuda()\n",
        "\n",
        "out = generator(input)\n",
        "out = out.cpu()\n",
        "out_img = out.data[0]\n",
        "save_image(out_img, \"result.png\", nrow=1, normalize=True)\n",
        "\n",
        "Image('result.png')"
      ],
      "metadata": {
        "colab": {
          "base_uri": "https://localhost:8080/",
          "height": 273
        },
        "id": "25GUjKjU2ELh",
        "outputId": "9865a5e2-2435-45f3-e614-42e4aed41727"
      },
      "execution_count": 24,
      "outputs": [
        {
          "output_type": "execute_result",
          "data": {
            "image/png": "[encoded data removed]",
            "text/plain": [
              "<IPython.core.display.Image object>"
            ]
          },
          "metadata": {},
          "execution_count": 24
        }
      ]
    }
  ]
}
