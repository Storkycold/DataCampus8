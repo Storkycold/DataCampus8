{
  "nbformat": 4,
  "nbformat_minor": 0,
  "metadata": {
    "colab": {
      "name": "4.pix2pix_v2(125epoch).ipynb",
      "provenance": []
    },
    "kernelspec": {
      "name": "python3",
      "display_name": "Python 3"
    },
    "language_info": {
      "name": "python"
    },
    "accelerator": "GPU",
    "gpuClass": "standard"
  },
  "cells": [
    {
      "cell_type": "markdown",
      "source": [
        "# custom_paired_dataset으로 2차 학습의 추가학습\n",
        "\n",
        "[![Open In Colab](https://colab.research.google.com/assets/colab-badge.svg)](https://colab.research.google.com/drive/1qn4RCOrPN2SUC05OQ7VAi7RM4W3Yhdla#scrollTo=ikvsOikDtfiT)\n",
        "\n",
        "<4.pix2pix_v2(75epoch).ipynb>의 2차 학습을 같은 데이터셋으로 에포크 이어서 추가학습(~125epoch)\n",
        "\n",
        "다른 구글 계정을 사용해 마운트하는 구글 드라이브 역시 달라진다면 \n",
        "1. '/content/drive/MyDrive/pix2pix/' 에 custom_paired_dataset.zip을 업로드\n",
        "2. /content/drive/MyDrive/pix2pix/trained_model'에 지난번까지 학습시킨 모델, Pix2Pix_Generator_V2(75e).pt와 Pix2Pix_Discriminator_V2(75e).pt를 업로드\n",
        "하고 진행\n",
        "\n",
        "---\n",
        "런타임 끊김 방지를 위해 f12 개발자 도구에 밑에 코드 넣고 enter\n",
        "\n",
        "function ClickConnect(){ console.log(\"Working\"); document.querySelector(\"colab-toolbar-button\").click() }setInterval(ClickConnect, 360000)\n",
        "\n",
        "---\n",
        "\n",
        "학습에 사용한 데이터셋은 <2.create_custom_paired_dataset.ipynb>에서 구축한 약 8500쌍의 paired data로 구성됨. \n",
        "\n",
        "colab 노트북의 경우 런타임 끊김을 방지하더라도 할당된 gpu 런타임 이상을 사용할 수 없음. 런타임이 종료될 경우 그동안 돌아간 모델이 날아갈 수 있어 25epoch씩 나눠 실행함. 25epoch마다 약 2시간 30분이 소요됨.\n",
        "\n",
        "~100epoch\n",
        "~125epoch\n",
        "\n",
        "\n",
        "\n"
      ],
      "metadata": {
        "id": "ikvsOikDtfiT"
      }
    },
    {
      "cell_type": "markdown",
      "source": [
        "# 0.구글 드라이브 마운트"
      ],
      "metadata": {
        "id": "QGAaIRBUpVkZ"
      }
    },
    {
      "cell_type": "code",
      "source": [
        "from google.colab import drive\n",
        "drive.mount('/content/drive')"
      ],
      "metadata": {
        "colab": {
          "base_uri": "https://localhost:8080/"
        },
        "id": "580AkYs1pZLx",
        "outputId": "0bdaedd0-0f54-42e0-9ede-72f10ffc53fa"
      },
      "execution_count": 1,
      "outputs": [
        {
          "output_type": "stream",
          "name": "stdout",
          "text": [
            "Mounted at /content/drive\n"
          ]
        }
      ]
    },
    {
      "cell_type": "markdown",
      "source": [
        "# 1.W&B 사용하기 위해 로그인"
      ],
      "metadata": {
        "id": "ArkT_WH5pdXS"
      }
    },
    {
      "cell_type": "code",
      "source": [
        "!pip install wandb"
      ],
      "metadata": {
        "colab": {
          "base_uri": "https://localhost:8080/"
        },
        "id": "zeCtcL8DphL5",
        "outputId": "99680347-d95c-42ed-d3e2-974cd20c7979"
      },
      "execution_count": 2,
      "outputs": [
        {
          "output_type": "stream",
          "name": "stdout",
          "text": [
            "Looking in indexes: https://pypi.org/simple, https://us-python.pkg.dev/colab-wheels/public/simple/\n",
            "Collecting wandb\n",
            "  Downloading wandb-0.13.1-py2.py3-none-any.whl (1.8 MB)\n",
            "\u001b[K     |████████████████████████████████| 1.8 MB 31.9 MB/s \n",
            "\u001b[?25hCollecting shortuuid>=0.5.0\n",
            "  Downloading shortuuid-1.0.9-py3-none-any.whl (9.4 kB)\n",
            "Requirement already satisfied: requests<3,>=2.0.0 in /usr/local/lib/python3.7/dist-packages (from wandb) (2.23.0)\n",
            "Collecting docker-pycreds>=0.4.0\n",
            "  Downloading docker_pycreds-0.4.0-py2.py3-none-any.whl (9.0 kB)\n",
            "Requirement already satisfied: protobuf<4.0dev,>=3.12.0 in /usr/local/lib/python3.7/dist-packages (from wandb) (3.17.3)\n",
            "Requirement already satisfied: PyYAML in /usr/local/lib/python3.7/dist-packages (from wandb) (6.0)\n",
            "Requirement already satisfied: setuptools in /usr/local/lib/python3.7/dist-packages (from wandb) (57.4.0)\n",
            "Collecting sentry-sdk>=1.0.0\n",
            "  Downloading sentry_sdk-1.9.5-py2.py3-none-any.whl (157 kB)\n",
            "\u001b[K     |████████████████████████████████| 157 kB 68.3 MB/s \n",
            "\u001b[?25hRequirement already satisfied: six>=1.13.0 in /usr/local/lib/python3.7/dist-packages (from wandb) (1.15.0)\n",
            "Collecting setproctitle\n",
            "  Downloading setproctitle-1.3.2-cp37-cp37m-manylinux_2_5_x86_64.manylinux1_x86_64.manylinux_2_17_x86_64.manylinux2014_x86_64.whl (30 kB)\n",
            "Collecting pathtools\n",
            "  Downloading pathtools-0.1.2.tar.gz (11 kB)\n",
            "Requirement already satisfied: psutil>=5.0.0 in /usr/local/lib/python3.7/dist-packages (from wandb) (5.4.8)\n",
            "Requirement already satisfied: promise<3,>=2.0 in /usr/local/lib/python3.7/dist-packages (from wandb) (2.3)\n",
            "Collecting GitPython>=1.0.0\n",
            "  Downloading GitPython-3.1.27-py3-none-any.whl (181 kB)\n",
            "\u001b[K     |████████████████████████████████| 181 kB 67.1 MB/s \n",
            "\u001b[?25hRequirement already satisfied: Click!=8.0.0,>=7.0 in /usr/local/lib/python3.7/dist-packages (from wandb) (7.1.2)\n",
            "Requirement already satisfied: typing-extensions>=3.7.4.3 in /usr/local/lib/python3.7/dist-packages (from GitPython>=1.0.0->wandb) (4.1.1)\n",
            "Collecting gitdb<5,>=4.0.1\n",
            "  Downloading gitdb-4.0.9-py3-none-any.whl (63 kB)\n",
            "\u001b[K     |████████████████████████████████| 63 kB 1.8 MB/s \n",
            "\u001b[?25hCollecting smmap<6,>=3.0.1\n",
            "  Downloading smmap-5.0.0-py3-none-any.whl (24 kB)\n",
            "Requirement already satisfied: certifi>=2017.4.17 in /usr/local/lib/python3.7/dist-packages (from requests<3,>=2.0.0->wandb) (2022.6.15)\n",
            "Requirement already satisfied: urllib3!=1.25.0,!=1.25.1,<1.26,>=1.21.1 in /usr/local/lib/python3.7/dist-packages (from requests<3,>=2.0.0->wandb) (1.24.3)\n",
            "Requirement already satisfied: chardet<4,>=3.0.2 in /usr/local/lib/python3.7/dist-packages (from requests<3,>=2.0.0->wandb) (3.0.4)\n",
            "Requirement already satisfied: idna<3,>=2.5 in /usr/local/lib/python3.7/dist-packages (from requests<3,>=2.0.0->wandb) (2.10)\n",
            "Collecting sentry-sdk>=1.0.0\n",
            "  Downloading sentry_sdk-1.9.4-py2.py3-none-any.whl (157 kB)\n",
            "\u001b[K     |████████████████████████████████| 157 kB 73.2 MB/s \n",
            "\u001b[?25h  Downloading sentry_sdk-1.9.3-py2.py3-none-any.whl (157 kB)\n",
            "\u001b[K     |████████████████████████████████| 157 kB 74.7 MB/s \n",
            "\u001b[?25h  Downloading sentry_sdk-1.9.2-py2.py3-none-any.whl (157 kB)\n",
            "\u001b[K     |████████████████████████████████| 157 kB 76.7 MB/s \n",
            "\u001b[?25h  Downloading sentry_sdk-1.9.1-py2.py3-none-any.whl (157 kB)\n",
            "\u001b[K     |████████████████████████████████| 157 kB 73.8 MB/s \n",
            "\u001b[?25h  Downloading sentry_sdk-1.9.0-py2.py3-none-any.whl (156 kB)\n",
            "\u001b[K     |████████████████████████████████| 156 kB 71.7 MB/s \n",
            "\u001b[?25hBuilding wheels for collected packages: pathtools\n",
            "  Building wheel for pathtools (setup.py) ... \u001b[?25l\u001b[?25hdone\n",
            "  Created wheel for pathtools: filename=pathtools-0.1.2-py3-none-any.whl size=8806 sha256=b5565b2f386e17d14054446f0b7bc5967fc431613ddb707cecd98e68376433a0\n",
            "  Stored in directory: /root/.cache/pip/wheels/3e/31/09/fa59cef12cdcfecc627b3d24273699f390e71828921b2cbba2\n",
            "Successfully built pathtools\n",
            "Installing collected packages: smmap, gitdb, shortuuid, setproctitle, sentry-sdk, pathtools, GitPython, docker-pycreds, wandb\n",
            "Successfully installed GitPython-3.1.27 docker-pycreds-0.4.0 gitdb-4.0.9 pathtools-0.1.2 sentry-sdk-1.9.0 setproctitle-1.3.2 shortuuid-1.0.9 smmap-5.0.0 wandb-0.13.1\n"
          ]
        }
      ]
    },
    {
      "cell_type": "code",
      "source": [
        "%cd /content/drive/MyDrive/pix2pix"
      ],
      "metadata": {
        "colab": {
          "base_uri": "https://localhost:8080/"
        },
        "id": "hFhttpSGt1hs",
        "outputId": "291270b8-084d-48b0-d1f6-190fc13d1ef5"
      },
      "execution_count": 3,
      "outputs": [
        {
          "output_type": "stream",
          "name": "stdout",
          "text": [
            "/content/drive/MyDrive/pix2pix\n"
          ]
        }
      ]
    },
    {
      "cell_type": "code",
      "source": [
        "import wandb\n",
        "!wandb login  #api 사용해 로그인 필요"
      ],
      "metadata": {
        "colab": {
          "base_uri": "https://localhost:8080/"
        },
        "id": "aeMspqJcpjPp",
        "outputId": "1da6851c-5a72-445e-b64e-4fb57c04fcb8"
      },
      "execution_count": 4,
      "outputs": [
        {
          "output_type": "stream",
          "name": "stdout",
          "text": [
            "\u001b[34m\u001b[1mwandb\u001b[0m: Logging into wandb.ai. (Learn how to deploy a W&B server locally: https://wandb.me/wandb-server)\n",
            "\u001b[34m\u001b[1mwandb\u001b[0m: You can find your API key in your browser here: https://wandb.ai/authorize\n",
            "\u001b[34m\u001b[1mwandb\u001b[0m: Paste an API key from your profile and hit enter, or press ctrl+c to quit: \n",
            "\u001b[34m\u001b[1mwandb\u001b[0m: Appending key for api.wandb.ai to your netrc file: /root/.netrc\n"
          ]
        }
      ]
    },
    {
      "cell_type": "code",
      "source": [
        "wandb.init(project=\"coloring-page\")  #wandb web 서버와 연결"
      ],
      "metadata": {
        "colab": {
          "base_uri": "https://localhost:8080/",
          "height": 109
        },
        "id": "MMSXrs9LplHZ",
        "outputId": "3fce9de7-8bbc-4b14-ff7b-2263658fe18e"
      },
      "execution_count": 5,
      "outputs": [
        {
          "output_type": "stream",
          "name": "stderr",
          "text": [
            "\u001b[34m\u001b[1mwandb\u001b[0m: Currently logged in as: \u001b[33mmj22\u001b[0m. Use \u001b[1m`wandb login --relogin`\u001b[0m to force relogin\n"
          ]
        },
        {
          "output_type": "display_data",
          "data": {
            "text/plain": [
              "<IPython.core.display.HTML object>"
            ],
            "text/html": [
              "Tracking run with wandb version 0.13.1"
            ]
          },
          "metadata": {}
        },
        {
          "output_type": "display_data",
          "data": {
            "text/plain": [
              "<IPython.core.display.HTML object>"
            ],
            "text/html": [
              "Run data is saved locally in <code>/content/drive/MyDrive/pix2pix/wandb/run-20220822_134522-1rwnqsxv</code>"
            ]
          },
          "metadata": {}
        },
        {
          "output_type": "display_data",
          "data": {
            "text/plain": [
              "<IPython.core.display.HTML object>"
            ],
            "text/html": [
              "Syncing run <strong><a href=\"https://wandb.ai/mj22/coloring-page/runs/1rwnqsxv\" target=\"_blank\">stellar-vortex-9</a></strong> to <a href=\"https://wandb.ai/mj22/coloring-page\" target=\"_blank\">Weights & Biases</a> (<a href=\"https://wandb.me/run\" target=\"_blank\">docs</a>)<br/>"
            ]
          },
          "metadata": {}
        },
        {
          "output_type": "execute_result",
          "data": {
            "text/html": [
              "<button onClick=\"this.nextSibling.style.display='block';this.style.display='none';\">Display W&B run</button><iframe src=\"https://wandb.ai/mj22/coloring-page/runs/1rwnqsxv?jupyter=true\" style=\"border:none;width:100%;height:420px;display:none;\"></iframe>"
            ],
            "text/plain": [
              "<wandb.sdk.wandb_run.Run at 0x7fc60077a650>"
            ]
          },
          "metadata": {},
          "execution_count": 5
        }
      ]
    },
    {
      "cell_type": "markdown",
      "source": [
        "# 2.필요한 라이브러리 불러오기"
      ],
      "metadata": {
        "id": "7v6frrSfpoTh"
      }
    },
    {
      "cell_type": "code",
      "source": [
        "import os\n",
        "import glob\n",
        "import numpy as np\n",
        "import matplotlib.pyplot as plt\n",
        "from PIL import Image\n",
        "\n",
        "import torch\n",
        "import torch.nn as nn\n",
        "\n",
        "from torch.utils.data import Dataset\n",
        "from torch.utils.data import DataLoader\n",
        "import torchvision.transforms as transforms\n",
        "from torchvision.utils import save_image"
      ],
      "metadata": {
        "id": "9BYIZIQ5pqjE"
      },
      "execution_count": 6,
      "outputs": []
    },
    {
      "cell_type": "markdown",
      "source": [
        "# 3.데이터셋 불러오기 및 확인"
      ],
      "metadata": {
        "id": "x03iYw09psfy"
      }
    },
    {
      "cell_type": "code",
      "source": [
        "!unzip '/content/drive/MyDrive/pix2pix/custom_paired_dataset.zip' -d '/content/'"
      ],
      "metadata": {
        "id": "q7CKchy4MG0A"
      },
      "execution_count": null,
      "outputs": []
    },
    {
      "cell_type": "code",
      "source": [
        "print(\"학습 데이터셋 A와 B의 개수:\", len(next(os.walk('/content/content/custom_paired_dataset'))[2]))"
      ],
      "metadata": {
        "colab": {
          "base_uri": "https://localhost:8080/"
        },
        "id": "-jtgzdrfqZmB",
        "outputId": "8f57a8c2-9813-4533-8024-b7eec0dc6006"
      },
      "execution_count": 8,
      "outputs": [
        {
          "output_type": "stream",
          "name": "stdout",
          "text": [
            "학습 데이터셋 A와 B의 개수: 8699\n"
          ]
        }
      ]
    },
    {
      "cell_type": "code",
      "source": [
        "image = Image.open('/content/content/custom_paired_dataset/b(1)10.png')\n",
        "print(\"이미지 크기:\", image.size)\n",
        "\n",
        "plt.imshow(image)\n",
        "plt.show()"
      ],
      "metadata": {
        "colab": {
          "base_uri": "https://localhost:8080/",
          "height": 237
        },
        "id": "oupC2EKcqguH",
        "outputId": "51b4342b-c39e-417a-de86-6c9a6a2fdb7e"
      },
      "execution_count": 9,
      "outputs": [
        {
          "output_type": "stream",
          "name": "stdout",
          "text": [
            "이미지 크기: (512, 256)\n"
          ]
        },
        {
          "output_type": "display_data",
          "data": {
            "text/plain": [
              "<Figure size 432x288 with 1 Axes>"
            ],
            "image/png": "[encoded data removed]"
          },
          "metadata": {
            "needs_background": "light"
          }
        }
      ]
    },
    {
      "cell_type": "markdown",
      "source": [
        "### 3-1.오류수정 \n",
        "모델의 데이터셋의 데이터 형식이 rgb여야 하는데 구성한 custom_paired_dataset이 gray images였음.\n",
        "\n",
        "폴더 내의 gray images를 일괄적으로 rgb images로 바꿔줌\n",
        "/content/content/ 내에 새폴더(rgb_custom_paired_dataset)을 만들고 실행"
      ],
      "metadata": {
        "id": "7SfscQpZ0cly"
      }
    },
    {
      "cell_type": "code",
      "source": [
        "import os\n",
        "from PIL import Image\n",
        "\n",
        "ORIGIN_PATH = \"/content/content/custom_paired_dataset/\"\n",
        "DESTIN_PATH = \"/content/content/rgb_custom_paired_dataset/\"\n",
        "\n",
        "for filename in os.listdir(ORIGIN_PATH):                                                                                                                                                                \n",
        "    img = Image.open(ORIGIN_PATH + filename).convert(\"RGB\")                                                                                                                                                \n",
        "    img.save(DESTIN_PATH + filename) "
      ],
      "metadata": {
        "id": "xEcucV65zDYE"
      },
      "execution_count": 11,
      "outputs": []
    },
    {
      "cell_type": "markdown",
      "source": [
        "# 4.데이터셋 클래스 정의"
      ],
      "metadata": {
        "id": "Mk_U_sGtqkHZ"
      }
    },
    {
      "cell_type": "code",
      "source": [
        "import cv2 \n",
        "\n",
        "%cd /content/content/\n",
        "\n",
        "class ImageDataset(Dataset):\n",
        "    def __init__(self, root, transforms_=None, mode=\"rgb_custom_paired_dataset\"):\n",
        "        self.transform = transforms_\n",
        "\n",
        "        self.files = sorted(glob.glob(os.path.join(root, '/content/content/rgb_custom_paired_dataset') + \"/*.png\"))\n",
        "\n",
        "    def __getitem__(self, index):\n",
        "        img = Image.open(self.files[index % len(self.files)])\n",
        "        w, h = img.size\n",
        "        img_A = img.crop((w / 2, 0, w, h)) # 이미지의 오른쪽 절반(A: sketch image)\n",
        "        img_B = img.crop((0, 0, w / 2, h)) # 이미지의 왼쪽 절반(B: colored illustration image)       \n",
        "\n",
        "        img_A = self.transform(img_A)\n",
        "        img_B = self.transform(img_B)\n",
        "\n",
        "        return {\"A\": img_A, \"B\": img_B}\n",
        "\n",
        "    def __len__(self):\n",
        "        return len(self.files)"
      ],
      "metadata": {
        "colab": {
          "base_uri": "https://localhost:8080/"
        },
        "id": "MAjzCHXLqnU2",
        "outputId": "e7829fb6-7722-448d-b886-3f4fd83c749c"
      },
      "execution_count": 12,
      "outputs": [
        {
          "output_type": "stream",
          "name": "stdout",
          "text": [
            "/content/content\n"
          ]
        }
      ]
    },
    {
      "cell_type": "code",
      "source": [
        "transforms_ = transforms.Compose([\n",
        "    transforms.Resize((256, 256), Image.BICUBIC),\n",
        "    transforms.ToTensor(),\n",
        "    transforms.Normalize((0.5, 0.5, 0.5), (0.5, 0.5, 0.5))\n",
        "])\n",
        "\n",
        "train_dataset = ImageDataset(\"data\", transforms_=transforms_)  \n",
        "val_dataset = ImageDataset(\"data\", transforms_=transforms_)\n",
        "\n",
        "train_dataloader = DataLoader(train_dataset, batch_size=10, shuffle=True, num_workers=4)\n",
        "val_dataloader = DataLoader(train_dataset, batch_size=10, shuffle=True, num_workers=4)"
      ],
      "metadata": {
        "colab": {
          "base_uri": "https://localhost:8080/"
        },
        "id": "tXCODJhFqzKg",
        "outputId": "ad68edaa-af16-4aa4-815e-3c4cb471ec2a"
      },
      "execution_count": 13,
      "outputs": [
        {
          "output_type": "stream",
          "name": "stderr",
          "text": [
            "/usr/local/lib/python3.7/dist-packages/torchvision/transforms/transforms.py:333: UserWarning: Argument 'interpolation' of type int is deprecated since 0.13 and will be removed in 0.15. Please use InterpolationMode enum.\n",
            "  \"Argument 'interpolation' of type int is deprecated since 0.13 and will be removed in 0.15. \"\n",
            "/usr/local/lib/python3.7/dist-packages/torch/utils/data/dataloader.py:566: UserWarning: This DataLoader will create 4 worker processes in total. Our suggested max number of worker in current system is 2, which is smaller than what this DataLoader is going to create. Please be aware that excessive worker creation might get DataLoader running slow or even freeze, lower the worker number to avoid potential slowness/freeze if necessary.\n",
            "  cpuset_checked))\n"
          ]
        }
      ]
    },
    {
      "cell_type": "markdown",
      "source": [
        "# 5.생성자 및 판별자 모델 정의"
      ],
      "metadata": {
        "id": "fbDGOCafq3H8"
      }
    },
    {
      "cell_type": "code",
      "source": [
        "# U-Net 아키텍처의 다운 샘플링(Down Sampling) 모듈\n",
        "class UNetDown(nn.Module):\n",
        "    def __init__(self, in_channels, out_channels, normalize=True, dropout=0.0):\n",
        "        super(UNetDown, self).__init__()\n",
        "        # 너비와 높이가 2배씩 감소\n",
        "        layers = [nn.Conv2d(in_channels, out_channels, kernel_size=4, stride=2, padding=1, bias=False)]\n",
        "        if normalize:\n",
        "            layers.append(nn.InstanceNorm2d(out_channels))\n",
        "        layers.append(nn.LeakyReLU(0.2))\n",
        "        if dropout:\n",
        "            layers.append(nn.Dropout(dropout))\n",
        "        self.model = nn.Sequential(*layers)\n",
        "\n",
        "    def forward(self, x):\n",
        "        return self.model(x)\n",
        "\n",
        "\n",
        "# U-Net 아키텍처의 업 샘플링(Up Sampling) 모듈: Skip Connection 사용\n",
        "class UNetUp(nn.Module):\n",
        "    def __init__(self, in_channels, out_channels, dropout=0.0):\n",
        "        super(UNetUp, self).__init__()\n",
        "        # 너비와 높이가 2배씩 증가\n",
        "        layers = [nn.ConvTranspose2d(in_channels, out_channels, kernel_size=4, stride=2, padding=1, bias=False)]\n",
        "        layers.append(nn.InstanceNorm2d(out_channels))\n",
        "        layers.append(nn.ReLU(inplace=True))\n",
        "        if dropout:\n",
        "            layers.append(nn.Dropout(dropout))\n",
        "        self.model = nn.Sequential(*layers)\n",
        "\n",
        "    def forward(self, x, skip_input):\n",
        "        x = self.model(x)\n",
        "        x = torch.cat((x, skip_input), 1) # 채널 레벨에서 합치기(concatenation)\n",
        "\n",
        "        return x\n",
        "\n",
        "\n",
        "# U-Net 생성자(Generator) 아키텍처\n",
        "class GeneratorUNet(nn.Module):\n",
        "    def __init__(self, in_channels=3, out_channels=3):\n",
        "        super(GeneratorUNet, self).__init__()\n",
        "\n",
        "        self.down1 = UNetDown(in_channels, 64, normalize=False) # 출력: [64 X 128 X 128]\n",
        "        self.down2 = UNetDown(64, 128) # 출력: [128 X 64 X 64]\n",
        "        self.down3 = UNetDown(128, 256) # 출력: [256 X 32 X 32]\n",
        "        self.down4 = UNetDown(256, 512, dropout=0.5) # 출력: [512 X 16 X 16]\n",
        "        self.down5 = UNetDown(512, 512, dropout=0.5) # 출력: [512 X 8 X 8]\n",
        "        self.down6 = UNetDown(512, 512, dropout=0.5) # 출력: [512 X 4 X 4]\n",
        "        self.down7 = UNetDown(512, 512, dropout=0.5) # 출력: [512 X 2 X 2]\n",
        "        self.down8 = UNetDown(512, 512, normalize=False, dropout=0.5) # 출력: [512 X 1 X 1]\n",
        "\n",
        "        # Skip Connection 사용(출력 채널의 크기 X 2 == 다음 입력 채널의 크기)\n",
        "        self.up1 = UNetUp(512, 512, dropout=0.5) # 출력: [1024 X 2 X 2]\n",
        "        self.up2 = UNetUp(1024, 512, dropout=0.5) # 출력: [1024 X 4 X 4]\n",
        "        self.up3 = UNetUp(1024, 512, dropout=0.5) # 출력: [1024 X 8 X 8]\n",
        "        self.up4 = UNetUp(1024, 512, dropout=0.5) # 출력: [1024 X 16 X 16]\n",
        "        self.up5 = UNetUp(1024, 256) # 출력: [512 X 32 X 32]\n",
        "        self.up6 = UNetUp(512, 128) # 출력: [256 X 64 X 64]\n",
        "        self.up7 = UNetUp(256, 64) # 출력: [128 X 128 X 128]\n",
        "\n",
        "        self.final = nn.Sequential(\n",
        "            nn.Upsample(scale_factor=2), # 출력: [128 X 256 X 256]\n",
        "            nn.ZeroPad2d((1, 0, 1, 0)),\n",
        "            nn.Conv2d(128, out_channels, kernel_size=4, padding=1), # 출력: [3 X 256 X 256]\n",
        "            nn.Tanh(),\n",
        "        )\n",
        "\n",
        "    def forward(self, x):\n",
        "        # 인코더부터 디코더까지 순전파하는 U-Net 생성자(Generator)\n",
        "        d1 = self.down1(x)\n",
        "        d2 = self.down2(d1)\n",
        "        d3 = self.down3(d2)\n",
        "        d4 = self.down4(d3)\n",
        "        d5 = self.down5(d4)\n",
        "        d6 = self.down6(d5)\n",
        "        d7 = self.down7(d6)\n",
        "        d8 = self.down8(d7)\n",
        "        u1 = self.up1(d8, d7)\n",
        "        u2 = self.up2(u1, d6)\n",
        "        u3 = self.up3(u2, d5)\n",
        "        u4 = self.up4(u3, d4)\n",
        "        u5 = self.up5(u4, d3)\n",
        "        u6 = self.up6(u5, d2)\n",
        "        u7 = self.up7(u6, d1)\n",
        "\n",
        "        return self.final(u7)\n",
        "\n",
        "\n",
        "# U-Net 판별자(Discriminator) 아키텍처\n",
        "class Discriminator(nn.Module):\n",
        "    def __init__(self, in_channels=3):\n",
        "        super(Discriminator, self).__init__()\n",
        "\n",
        "        def discriminator_block(in_channels, out_channels, normalization=True):\n",
        "            # 너비와 높이가 2배씩 감소\n",
        "            layers = [nn.Conv2d(in_channels, out_channels, kernel_size=4, stride=2, padding=1)]\n",
        "            if normalization:\n",
        "                layers.append(nn.InstanceNorm2d(out_channels))\n",
        "            layers.append(nn.LeakyReLU(0.2, inplace=True))\n",
        "            return layers\n",
        "\n",
        "        self.model = nn.Sequential(\n",
        "            # 두 개의 이미지(실제/변환된 이미지, 조건 이미지)를 입력 받으므로 입력 채널의 크기는 2배\n",
        "            *discriminator_block(in_channels * 2, 64, normalization=False), # 출력: [64 X 128 X 128]\n",
        "            *discriminator_block(64, 128), # 출력: [128 X 64 X 64]\n",
        "            *discriminator_block(128, 256), # 출력: [256 X 32 X 32]\n",
        "            *discriminator_block(256, 512), # 출력: [512 X 16 X 16]\n",
        "            nn.ZeroPad2d((1, 0, 1, 0)),\n",
        "            nn.Conv2d(512, 1, kernel_size=4, padding=1, bias=False) # 출력: [1 X 16 X 16]\n",
        "        )\n",
        "\n",
        "    # img_A: 실제/변환된 이미지, img_B: 조건(condition)\n",
        "    def forward(self, img_A, img_B):\n",
        "        # 이미지 두 개를 채널 레벨에서 연결하여(concatenate) 입력 데이터 생성\n",
        "        img_input = torch.cat((img_A, img_B), 1)\n",
        "        return self.model(img_input)"
      ],
      "metadata": {
        "id": "6uT2RMJ7q8rv"
      },
      "execution_count": 14,
      "outputs": []
    },
    {
      "cell_type": "code",
      "source": [
        "def weights_init_normal(m):\n",
        "    classname = m.__class__.__name__\n",
        "    if classname.find(\"Conv\") != -1:\n",
        "        torch.nn.init.normal_(m.weight.data, 0.0, 0.02)\n",
        "    elif classname.find(\"BatchNorm2d\") != -1:\n",
        "        torch.nn.init.normal_(m.weight.data, 1.0, 0.02)\n",
        "        torch.nn.init.constant_(m.bias.data, 0.0)"
      ],
      "metadata": {
        "id": "iVsZFxwIrFVw"
      },
      "execution_count": 15,
      "outputs": []
    },
    {
      "cell_type": "markdown",
      "source": [
        "# 6.2차 학습시킨 모델 불러오기\n",
        "\n",
        "\n"
      ],
      "metadata": {
        "id": "1zfiS_eLrA4r"
      }
    },
    {
      "cell_type": "code",
      "source": [
        "%cd /content/drive/MyDrive/pix2pix/trained_model/\n",
        "\n",
        "generator = GeneratorUNet()\n",
        "discriminator = Discriminator()\n",
        "\n",
        "generator.cuda()\n",
        "discriminator.cuda()\n",
        "\n",
        "generator.load_state_dict(torch.load(\"Pix2Pix_Generator_V2(75e).pt\"))\n",
        "discriminator.load_state_dict(torch.load(\"Pix2Pix_Discriminator_V2(75e).pt\"))\n",
        "\n",
        "generator.eval();\n",
        "discriminator.eval();"
      ],
      "metadata": {
        "colab": {
          "base_uri": "https://localhost:8080/"
        },
        "id": "V_9Tspw9r1lY",
        "outputId": "d76ef278-d429-4fa9-87e0-a1578645e8bb"
      },
      "execution_count": 16,
      "outputs": [
        {
          "output_type": "stream",
          "name": "stdout",
          "text": [
            "/content/drive/MyDrive/pix2pix/trained_model\n"
          ]
        }
      ]
    },
    {
      "cell_type": "markdown",
      "source": [
        "#7.2차모델 epoch이어서 학습"
      ],
      "metadata": {
        "id": "XEX0WQrOGNJa"
      }
    },
    {
      "cell_type": "markdown",
      "source": [
        "### ~100epoch"
      ],
      "metadata": {
        "id": "ji5lM0KDRHYs"
      }
    },
    {
      "cell_type": "code",
      "source": [
        "# 손실 함수(loss function)\n",
        "criterion_GAN = torch.nn.MSELoss()\n",
        "criterion_pixelwise = torch.nn.L1Loss()\n",
        "\n",
        "criterion_GAN.cuda()\n",
        "criterion_pixelwise.cuda()\n",
        "\n",
        "# 학습률(learning rate) 설정\n",
        "lr = 0.0002\n",
        "\n",
        "# 생성자와 판별자를 위한 최적화 함수\n",
        "optimizer_G = torch.optim.Adam(generator.parameters(), lr=lr, betas=(0.5, 0.999))\n",
        "optimizer_D = torch.optim.Adam(discriminator.parameters(), lr=lr, betas=(0.5, 0.999))"
      ],
      "metadata": {
        "id": "ZLonDWeQsdyd"
      },
      "execution_count": 19,
      "outputs": []
    },
    {
      "cell_type": "code",
      "source": [
        "%cd /content/drive/MyDrive/pix2pix/v2(100e)\n",
        "\n",
        "import time\n",
        "\n",
        "n_epochs = 25 # 학습의 횟수(epoch) 설정\n",
        "sample_interval = 500 # 몇 번의 배치(batch)마다 결과를 출력할 것인지 설정\n",
        "\n",
        "# 변환된 이미지와 정답 이미지 사이의 L1 픽셀 단위(pixel-wise) 손실 가중치(weight) 파라미터\n",
        "lambda_pixel = 100\n",
        "\n",
        "start_time = time.time()\n",
        "\n",
        "for epoch in range(n_epochs):\n",
        "    for i, batch in enumerate(train_dataloader):\n",
        "        # 모델의 입력(input) 데이터 불러오기\n",
        "        real_A = batch[\"B\"].cuda()\n",
        "        real_B = batch[\"A\"].cuda()\n",
        "\n",
        "        # 진짜(real) 이미지와 가짜(fake) 이미지에 대한 정답 레이블 생성 (너바와 높이를 16씩 나눈 크기)\n",
        "        real = torch.cuda.FloatTensor(real_A.size(0), 1, 16, 16).fill_(1.0) # 진짜(real): 1\n",
        "        fake = torch.cuda.FloatTensor(real_A.size(0), 1, 16, 16).fill_(0.0) # 가짜(fake): 0\n",
        "\n",
        "        \"\"\" 생성자(generator)를 학습합니다. \"\"\"\n",
        "        optimizer_G.zero_grad()\n",
        "\n",
        "        # 이미지 생성\n",
        "        fake_B = generator(real_A)\n",
        "\n",
        "        # 생성자(generator)의 손실(loss) 값 계산\n",
        "        loss_GAN = criterion_GAN(discriminator(fake_B, real_A), real)\n",
        "\n",
        "        # 픽셀 단위(pixel-wise) L1 손실 값 계산\n",
        "        loss_pixel = criterion_pixelwise(fake_B, real_B) \n",
        "\n",
        "        # 최종적인 손실(loss)\n",
        "        loss_G = loss_GAN + lambda_pixel * loss_pixel\n",
        "\n",
        "        # 생성자(generator) 업데이트\n",
        "        loss_G.backward()\n",
        "        optimizer_G.step()\n",
        "\n",
        "        \"\"\" 판별자(discriminator)를 학습합니다. \"\"\"\n",
        "        optimizer_D.zero_grad()\n",
        "\n",
        "        # 판별자(discriminator)의 손실(loss) 값 계산\n",
        "        loss_real = criterion_GAN(discriminator(real_B, real_A), real) # 조건(condition): real_A\n",
        "        loss_fake = criterion_GAN(discriminator(fake_B.detach(), real_A), fake)\n",
        "        loss_D = (loss_real + loss_fake) / 2\n",
        "\n",
        "        # 판별자(discriminator) 업데이트\n",
        "        loss_D.backward()\n",
        "        optimizer_D.step()\n",
        "\n",
        "        done = (epoch+75) * len(train_dataloader) + i\n",
        "        if done % sample_interval == 0:\n",
        "            imgs = next(iter(val_dataloader)) # 10개의 이미지를 추출해 생성\n",
        "            real_A = imgs[\"B\"].cuda()\n",
        "            real_B = imgs[\"A\"].cuda()\n",
        "            fake_B = generator(real_A)\n",
        "            # real_A: 조건(condition), fake_B: 변환된 이미지(translated image), real_B: 정답 이미지\n",
        "            img_sample = torch.cat((real_A.data, fake_B.data, real_B.data), -2) # 높이(height)를 기준으로 이미지를 연결하기\n",
        "            save_image(img_sample, f\"{done}.png\", nrow=5, normalize=True)\n",
        "\n",
        "    # 하나의 epoch이 끝날 때마다 로그(log) 출력\n",
        "    wandb.log({\"epoch\": epoch+75, \"D loss\": loss_D.item(), \"G pixel loss\": loss_pixel.item() , \"adv loss\" : loss_GAN.item()})\n",
        "    print(f\"[Epoch {epoch+75}/{n_epochs+75}] [D loss: {loss_D.item():.6f}] [G pixel loss: {loss_pixel.item():.6f}, adv loss: {loss_GAN.item()}] [Elapsed time: {time.time() - start_time:.2f}s]\")\n",
        "\n",
        "%cd /content/drive/MyDrive/pix2pix/trained_model\n",
        "\n",
        "# 모델 파라미터 저장\n",
        "torch.save(generator.state_dict(), \"Pix2Pix_Generator_V2(100e).pt\")\n",
        "torch.save(discriminator.state_dict(), \"Pix2Pix_Discriminator_V2(100e).pt\")\n",
        "print(\"Model saved!\")"
      ],
      "metadata": {
        "colab": {
          "base_uri": "https://localhost:8080/"
        },
        "id": "0D1q5ra02MwZ",
        "outputId": "ba0f570e-3ce7-442f-cdbe-63c32dcff900"
      },
      "execution_count": 21,
      "outputs": [
        {
          "output_type": "stream",
          "name": "stdout",
          "text": [
            "/content/drive/MyDrive/pix2pix/v2(100e)\n",
            "[Epoch 75/100] [D loss: 0.282330] [G pixel loss: 0.051712, adv loss: 0.19042465090751648] [Elapsed time: 346.00s]\n",
            "[Epoch 76/100] [D loss: 0.137650] [G pixel loss: 0.041503, adv loss: 0.51030433177948] [Elapsed time: 692.81s]\n",
            "[Epoch 77/100] [D loss: 0.192630] [G pixel loss: 0.037484, adv loss: 0.7455053329467773] [Elapsed time: 1040.22s]\n",
            "[Epoch 78/100] [D loss: 0.252164] [G pixel loss: 0.048803, adv loss: 0.9493846893310547] [Elapsed time: 1386.92s]\n",
            "[Epoch 79/100] [D loss: 0.271601] [G pixel loss: 0.037358, adv loss: 0.3170098066329956] [Elapsed time: 1733.58s]\n",
            "[Epoch 80/100] [D loss: 0.248373] [G pixel loss: 0.026599, adv loss: 0.25212812423706055] [Elapsed time: 2080.26s]\n",
            "[Epoch 81/100] [D loss: 0.160344] [G pixel loss: 0.051346, adv loss: 0.35967323184013367] [Elapsed time: 2426.81s]\n",
            "[Epoch 82/100] [D loss: 0.213414] [G pixel loss: 0.030965, adv loss: 0.7627235054969788] [Elapsed time: 2773.47s]\n",
            "[Epoch 83/100] [D loss: 0.124149] [G pixel loss: 0.051303, adv loss: 0.5521349310874939] [Elapsed time: 3120.15s]\n",
            "[Epoch 84/100] [D loss: 0.177824] [G pixel loss: 0.044394, adv loss: 0.29127660393714905] [Elapsed time: 3466.98s]\n",
            "[Epoch 85/100] [D loss: 0.195810] [G pixel loss: 0.043628, adv loss: 0.353210985660553] [Elapsed time: 3814.06s]\n",
            "[Epoch 86/100] [D loss: 0.190347] [G pixel loss: 0.040201, adv loss: 0.32991552352905273] [Elapsed time: 4161.00s]\n",
            "[Epoch 87/100] [D loss: 0.241439] [G pixel loss: 0.038868, adv loss: 0.2323361039161682] [Elapsed time: 4508.12s]\n",
            "[Epoch 88/100] [D loss: 0.220189] [G pixel loss: 0.038112, adv loss: 0.2800218164920807] [Elapsed time: 4854.26s]\n",
            "[Epoch 89/100] [D loss: 0.216001] [G pixel loss: 0.048268, adv loss: 0.7086858749389648] [Elapsed time: 5201.31s]\n",
            "[Epoch 90/100] [D loss: 0.139322] [G pixel loss: 0.035202, adv loss: 0.5344325304031372] [Elapsed time: 5548.38s]\n",
            "[Epoch 91/100] [D loss: 0.197853] [G pixel loss: 0.036164, adv loss: 0.8453710079193115] [Elapsed time: 5895.44s]\n",
            "[Epoch 92/100] [D loss: 0.203846] [G pixel loss: 0.029551, adv loss: 0.5939579010009766] [Elapsed time: 6242.25s]\n",
            "[Epoch 93/100] [D loss: 0.193719] [G pixel loss: 0.025692, adv loss: 0.26799312233924866] [Elapsed time: 6589.21s]\n",
            "[Epoch 94/100] [D loss: 0.176606] [G pixel loss: 0.042271, adv loss: 0.4618573784828186] [Elapsed time: 6936.53s]\n",
            "[Epoch 95/100] [D loss: 0.237007] [G pixel loss: 0.038270, adv loss: 0.15103718638420105] [Elapsed time: 7283.70s]\n",
            "[Epoch 96/100] [D loss: 0.275500] [G pixel loss: 0.040304, adv loss: 0.12418098002672195] [Elapsed time: 7630.48s]\n",
            "[Epoch 97/100] [D loss: 0.236586] [G pixel loss: 0.044072, adv loss: 0.2320413887500763] [Elapsed time: 7977.37s]\n",
            "[Epoch 98/100] [D loss: 0.178668] [G pixel loss: 0.050621, adv loss: 0.3984863758087158] [Elapsed time: 8324.03s]\n",
            "[Epoch 99/100] [D loss: 0.257700] [G pixel loss: 0.040206, adv loss: 0.15486876666545868] [Elapsed time: 8670.25s]\n",
            "/content/drive/MyDrive/pix2pix/trained_model\n",
            "Model saved!\n"
          ]
        }
      ]
    },
    {
      "cell_type": "markdown",
      "source": [
        "### ~125epoch"
      ],
      "metadata": {
        "id": "6lCL775xXY0T"
      }
    },
    {
      "cell_type": "code",
      "source": [
        "# 손실 함수(loss function)\n",
        "criterion_GAN = torch.nn.MSELoss()\n",
        "criterion_pixelwise = torch.nn.L1Loss()\n",
        "\n",
        "criterion_GAN.cuda()\n",
        "criterion_pixelwise.cuda()\n",
        "\n",
        "# 학습률(learning rate) 설정\n",
        "lr = 0.0002\n",
        "\n",
        "# 생성자와 판별자를 위한 최적화 함수\n",
        "optimizer_G = torch.optim.Adam(generator.parameters(), lr=lr, betas=(0.5, 0.999))\n",
        "optimizer_D = torch.optim.Adam(discriminator.parameters(), lr=lr, betas=(0.5, 0.999))"
      ],
      "metadata": {
        "id": "yHkfjkxrPB5H"
      },
      "execution_count": 22,
      "outputs": []
    },
    {
      "cell_type": "code",
      "source": [
        "%cd /content/drive/MyDrive/pix2pix/v2(125e)\n",
        "\n",
        "import time\n",
        "\n",
        "n_epochs = 25 # 학습의 횟수(epoch) 설정\n",
        "sample_interval = 500 # 몇 번의 배치(batch)마다 결과를 출력할 것인지 설정\n",
        "\n",
        "# 변환된 이미지와 정답 이미지 사이의 L1 픽셀 단위(pixel-wise) 손실 가중치(weight) 파라미터\n",
        "lambda_pixel = 100\n",
        "\n",
        "start_time = time.time()\n",
        "\n",
        "for epoch in range(n_epochs):\n",
        "    for i, batch in enumerate(train_dataloader):\n",
        "        # 모델의 입력(input) 데이터 불러오기\n",
        "        real_A = batch[\"B\"].cuda()\n",
        "        real_B = batch[\"A\"].cuda()\n",
        "\n",
        "        # 진짜(real) 이미지와 가짜(fake) 이미지에 대한 정답 레이블 생성 (너바와 높이를 16씩 나눈 크기)\n",
        "        real = torch.cuda.FloatTensor(real_A.size(0), 1, 16, 16).fill_(1.0) # 진짜(real): 1\n",
        "        fake = torch.cuda.FloatTensor(real_A.size(0), 1, 16, 16).fill_(0.0) # 가짜(fake): 0\n",
        "\n",
        "        \"\"\" 생성자(generator)를 학습합니다. \"\"\"\n",
        "        optimizer_G.zero_grad()\n",
        "\n",
        "        # 이미지 생성\n",
        "        fake_B = generator(real_A)\n",
        "\n",
        "        # 생성자(generator)의 손실(loss) 값 계산\n",
        "        loss_GAN = criterion_GAN(discriminator(fake_B, real_A), real)\n",
        "\n",
        "        # 픽셀 단위(pixel-wise) L1 손실 값 계산\n",
        "        loss_pixel = criterion_pixelwise(fake_B, real_B) \n",
        "\n",
        "        # 최종적인 손실(loss)\n",
        "        loss_G = loss_GAN + lambda_pixel * loss_pixel\n",
        "\n",
        "        # 생성자(generator) 업데이트\n",
        "        loss_G.backward()\n",
        "        optimizer_G.step()\n",
        "\n",
        "        \"\"\" 판별자(discriminator)를 학습합니다. \"\"\"\n",
        "        optimizer_D.zero_grad()\n",
        "\n",
        "        # 판별자(discriminator)의 손실(loss) 값 계산\n",
        "        loss_real = criterion_GAN(discriminator(real_B, real_A), real) # 조건(condition): real_A\n",
        "        loss_fake = criterion_GAN(discriminator(fake_B.detach(), real_A), fake)\n",
        "        loss_D = (loss_real + loss_fake) / 2\n",
        "\n",
        "        # 판별자(discriminator) 업데이트\n",
        "        loss_D.backward()\n",
        "        optimizer_D.step()\n",
        "\n",
        "        done = (epoch+100) * len(train_dataloader) + i\n",
        "        if done % sample_interval == 0:\n",
        "            imgs = next(iter(val_dataloader)) # 10개의 이미지를 추출해 생성\n",
        "            real_A = imgs[\"B\"].cuda()\n",
        "            real_B = imgs[\"A\"].cuda()\n",
        "            fake_B = generator(real_A)\n",
        "            # real_A: 조건(condition), fake_B: 변환된 이미지(translated image), real_B: 정답 이미지\n",
        "            img_sample = torch.cat((real_A.data, fake_B.data, real_B.data), -2) # 높이(height)를 기준으로 이미지를 연결하기\n",
        "            save_image(img_sample, f\"{done}.png\", nrow=5, normalize=True)\n",
        "\n",
        "    # 하나의 epoch이 끝날 때마다 로그(log) 출력\n",
        "    wandb.log({\"epoch\": epoch+100, \"D loss\": loss_D.item(), \"G pixel loss\": loss_pixel.item() , \"adv loss\" : loss_GAN.item()})\n",
        "    print(f\"[Epoch {epoch+100}/{n_epochs+100}] [D loss: {loss_D.item():.6f}] [G pixel loss: {loss_pixel.item():.6f}, adv loss: {loss_GAN.item()}] [Elapsed time: {time.time() - start_time:.2f}s]\")\n",
        "\n",
        "%cd /content/drive/MyDrive/pix2pix/trained_model\n",
        "\n",
        "# 모델 파라미터 저장\n",
        "torch.save(generator.state_dict(), \"Pix2Pix_Generator_V2(125e).pt\")\n",
        "torch.save(discriminator.state_dict(), \"Pix2Pix_Discriminator_V2(125e).pt\")\n",
        "print(\"Model saved!\")"
      ],
      "metadata": {
        "colab": {
          "base_uri": "https://localhost:8080/"
        },
        "id": "i5t1jxN2QZyE",
        "outputId": "a2c1a9f9-957b-4319-a27a-f01555a8c1cc"
      },
      "execution_count": 23,
      "outputs": [
        {
          "output_type": "stream",
          "name": "stdout",
          "text": [
            "/content/drive/MyDrive/pix2pix/v2(125e)\n",
            "[Epoch 100/125] [D loss: 0.200195] [G pixel loss: 0.030870, adv loss: 0.353591650724411] [Elapsed time: 348.96s]\n",
            "[Epoch 101/125] [D loss: 0.158823] [G pixel loss: 0.043500, adv loss: 0.3712104260921478] [Elapsed time: 696.57s]\n",
            "[Epoch 102/125] [D loss: 0.236576] [G pixel loss: 0.026994, adv loss: 0.35518741607666016] [Elapsed time: 1043.85s]\n",
            "[Epoch 103/125] [D loss: 0.210483] [G pixel loss: 0.044484, adv loss: 0.36374253034591675] [Elapsed time: 1390.90s]\n",
            "[Epoch 104/125] [D loss: 0.142876] [G pixel loss: 0.058811, adv loss: 0.32495713233947754] [Elapsed time: 1738.48s]\n",
            "[Epoch 105/125] [D loss: 0.125204] [G pixel loss: 0.040799, adv loss: 0.5224893689155579] [Elapsed time: 2085.87s]\n",
            "[Epoch 106/125] [D loss: 0.137717] [G pixel loss: 0.048671, adv loss: 0.45142629742622375] [Elapsed time: 2433.39s]\n",
            "[Epoch 107/125] [D loss: 0.171087] [G pixel loss: 0.041196, adv loss: 0.4095454216003418] [Elapsed time: 2780.29s]\n",
            "[Epoch 108/125] [D loss: 0.235052] [G pixel loss: 0.027883, adv loss: 0.26629507541656494] [Elapsed time: 3127.41s]\n",
            "[Epoch 109/125] [D loss: 0.236674] [G pixel loss: 0.055865, adv loss: 0.22304074466228485] [Elapsed time: 3474.62s]\n",
            "[Epoch 110/125] [D loss: 0.157261] [G pixel loss: 0.034652, adv loss: 0.6573746204376221] [Elapsed time: 3822.37s]\n",
            "[Epoch 111/125] [D loss: 0.181806] [G pixel loss: 0.030866, adv loss: 0.2821413576602936] [Elapsed time: 4169.21s]\n",
            "[Epoch 112/125] [D loss: 0.187650] [G pixel loss: 0.054331, adv loss: 0.6180016398429871] [Elapsed time: 4516.75s]\n",
            "[Epoch 113/125] [D loss: 0.216325] [G pixel loss: 0.066560, adv loss: 0.22418101131916046] [Elapsed time: 4864.19s]\n",
            "[Epoch 114/125] [D loss: 0.183024] [G pixel loss: 0.040963, adv loss: 0.4193667471408844] [Elapsed time: 5211.42s]\n",
            "[Epoch 115/125] [D loss: 0.143505] [G pixel loss: 0.053764, adv loss: 0.46315982937812805] [Elapsed time: 5558.23s]\n",
            "[Epoch 116/125] [D loss: 0.171736] [G pixel loss: 0.029135, adv loss: 0.3661128282546997] [Elapsed time: 5905.85s]\n",
            "[Epoch 117/125] [D loss: 0.167334] [G pixel loss: 0.029287, adv loss: 0.39652198553085327] [Elapsed time: 6252.91s]\n",
            "[Epoch 118/125] [D loss: 0.253498] [G pixel loss: 0.037852, adv loss: 0.24876008927822113] [Elapsed time: 6600.01s]\n",
            "[Epoch 119/125] [D loss: 0.256353] [G pixel loss: 0.033797, adv loss: 0.24793481826782227] [Elapsed time: 6946.86s]\n",
            "[Epoch 120/125] [D loss: 0.245574] [G pixel loss: 0.031685, adv loss: 0.27020761370658875] [Elapsed time: 7294.42s]\n",
            "[Epoch 121/125] [D loss: 0.226512] [G pixel loss: 0.049684, adv loss: 0.25518956780433655] [Elapsed time: 7641.36s]\n",
            "[Epoch 122/125] [D loss: 0.258312] [G pixel loss: 0.041679, adv loss: 0.8861370086669922] [Elapsed time: 7988.33s]\n",
            "[Epoch 123/125] [D loss: 0.148341] [G pixel loss: 0.043365, adv loss: 0.6567409038543701] [Elapsed time: 8334.88s]\n",
            "[Epoch 124/125] [D loss: 0.182836] [G pixel loss: 0.041011, adv loss: 0.7536061406135559] [Elapsed time: 8681.93s]\n",
            "/content/drive/MyDrive/pix2pix/trained_model\n",
            "Model saved!\n"
          ]
        }
      ]
    }
  ]
}
