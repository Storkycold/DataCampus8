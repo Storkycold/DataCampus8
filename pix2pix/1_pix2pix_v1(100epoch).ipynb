{
  "nbformat": 4,
  "nbformat_minor": 0,
  "metadata": {
    "colab": {
      "name": "1.pix2pix_v1(100epoch).ipynb",
      "provenance": [],
      "collapsed_sections": [
        "asCiDqVAuMZI"
      ]
    },
    "kernelspec": {
      "name": "python3",
      "display_name": "Python 3"
    },
    "language_info": {
      "name": "python"
    },
    "accelerator": "GPU",
    "gpuClass": "standard"
  },
  "cells": [
    {
      "cell_type": "markdown",
      "source": [
        "# pix2pix 기성 데이터로 1차 학습\n",
        "\n",
        "[![Open In Colab](https://colab.research.google.com/assets/colab-badge.svg)](https://colab.research.google.com/drive/1F4WTOHnsuxkshx-WLlvB4U2JKqBlqO_c)\n",
        "\n",
        "스케치 데이터가 잘 구성돼 있는 kaggle의 'anime-sketch-colorization-pair' 데이터셋을 활용함\n",
        "\n",
        "pix2pix 코드는 https://arxiv.org/abs/1611.07004 (논문)과 해당 논문의 https://github.com/phillipi/pix2pix (깃코드)를 바탕으로 하였으며\n",
        "\n",
        "다음 깃코드와 article을 활용해 수정하였음\n",
        "1. https://github.com/ndb796/Deep-Learning-Paper-Review-and-Practice/blob/master/code_practices/Pix2Pix_for_Facades.ipynb \n",
        "2. https://github.com/junyanz/pytorch-CycleGAN-and-pix2pix\n",
        "3. https://wandb.ai/cayush/CycleGAN&pix2pix/reports/Image-to-Image-Translation-Using-CycleGAN-and-Pix2Pix--VmlldzoxMDQ5MTky\n",
        "4. https://machinelearningmastery.com/author/jasonb/ \n",
        "\n",
        "런타임 끊김 방지를 위해 f12 개발자 도구에 밑에 코드 넣고 enter\n",
        "\n",
        "function ClickConnect(){\n",
        "console.log(\"Working\"); \n",
        "document.querySelector(\"colab-toolbar-button\").click() \n",
        "}setInterval(ClickConnect, 360000)\n"
      ],
      "metadata": {
        "id": "ht9t0-ts7sVx"
      }
    },
    {
      "cell_type": "markdown",
      "source": [
        "# 0. 구글 드라이브 마운트하기\n",
        "\n",
        "이미지의 경우 깨질 수 있어 같은 구글 드라이브 사용을 추천함."
      ],
      "metadata": {
        "id": "hGf71a2mU4wL"
      }
    },
    {
      "cell_type": "markdown",
      "source": [
        "### 코랩 계정과 같은 구글 계정의 경우"
      ],
      "metadata": {
        "id": "86tULCTFuE3N"
      }
    },
    {
      "cell_type": "code",
      "source": [
        "from google.colab import drive\n",
        "drive.mount('/content/drive')"
      ],
      "metadata": {
        "colab": {
          "base_uri": "https://localhost:8080/"
        },
        "id": "ukxQqasTdv6w",
        "outputId": "cf6daede-af24-429a-f8ff-96921c009085"
      },
      "execution_count": null,
      "outputs": [
        {
          "output_type": "stream",
          "name": "stdout",
          "text": [
            "Mounted at /content/drive\n"
          ]
        }
      ]
    },
    {
      "cell_type": "markdown",
      "source": [
        "### 코랩 계정과 다른 구글 계정의 경우"
      ],
      "metadata": {
        "id": "asCiDqVAuMZI"
      }
    },
    {
      "cell_type": "code",
      "source": [
        "!sudo add-apt-repository -y ppa:alessandro-strada/ppa 2>&1 > /dev/null\n",
        "!sudo apt-get update -qq 2>&1 > /dev/null\n",
        "!sudo apt -y install -qq google-drive-ocamlfuse 2>&1 > /dev/null\n",
        "!google-drive-ocamlfuse\n",
        "\n",
        "## 나오는 링크 눌러서 로그인"
      ],
      "metadata": {
        "colab": {
          "base_uri": "https://localhost:8080/"
        },
        "id": "tkE0WNy6U3Uv",
        "outputId": "2c0f7f89-b027-412f-c9f7-705ee720b4c6"
      },
      "execution_count": null,
      "outputs": [
        {
          "output_type": "stream",
          "name": "stdout",
          "text": [
            "\n",
            "WARNING: apt does not have a stable CLI interface. Use with caution in scripts.\n",
            "\n",
            "debconf: unable to initialize frontend: Dialog\n",
            "debconf: (No usable dialog-like program is installed, so the dialog based frontend cannot be used. at /usr/share/perl5/Debconf/FrontEnd/Dialog.pm line 76, <> line 1.)\n",
            "debconf: falling back to frontend: Readline\n",
            "debconf: unable to initialize frontend: Readline\n",
            "debconf: (This frontend requires a controlling tty.)\n",
            "debconf: falling back to frontend: Teletype\n",
            "dpkg-preconfigure: unable to re-open stdin: \n",
            "/usr/bin/xdg-open: 851: /usr/bin/xdg-open: www-browser: not found\n",
            "/usr/bin/xdg-open: 851: /usr/bin/xdg-open: links2: not found\n",
            "/usr/bin/xdg-open: 851: /usr/bin/xdg-open: elinks: not found\n",
            "/usr/bin/xdg-open: 851: /usr/bin/xdg-open: links: not found\n",
            "/usr/bin/xdg-open: 851: /usr/bin/xdg-open: lynx: not found\n",
            "/usr/bin/xdg-open: 851: /usr/bin/xdg-open: w3m: not found\n",
            "xdg-open: no method available for opening 'https://accounts.google.com/o/oauth2/auth?client_id=564921029129.apps.googleusercontent.com&redirect_uri=https%3A%2F%2Fgd-ocaml-auth.appspot.com%2Foauth2callback&scope=https%3A%2F%2Fwww.googleapis.com%2Fauth%2Fdrive&response_type=code&access_type=offline&approval_prompt=force&state=QPgh-8nIoy8mGCAg5laAY2%2FttNtCT93sonOq23aRkY4'\n",
            "/bin/sh: 1: firefox: not found\n",
            "/bin/sh: 1: google-chrome: not found\n",
            "/bin/sh: 1: chromium-browser: not found\n",
            "/bin/sh: 1: open: not found\n",
            "Cannot retrieve auth tokens.\n",
            "Failure(\"Error opening URL:https://accounts.google.com/o/oauth2/auth?client_id=564921029129.apps.googleusercontent.com&redirect_uri=https%3A%2F%2Fgd-ocaml-auth.appspot.com%2Foauth2callback&scope=https%3A%2F%2Fwww.googleapis.com%2Fauth%2Fdrive&response_type=code&access_type=offline&approval_prompt=force&state=QPgh-8nIoy8mGCAg5laAY2%2FttNtCT93sonOq23aRkY4\")\n"
          ]
        }
      ]
    },
    {
      "cell_type": "code",
      "source": [
        "!sudo apt-get install -qq w3m # to act as web browser \n",
        "!xdg-settings set default-web-browser w3m.desktop # to set default browser\n",
        "%cd /content\n",
        "!mkdir drive\n",
        "%cd drive\n",
        "!mkdir MyDrive\n",
        "%cd ..\n",
        "%cd ..\n",
        "!google-drive-ocamlfuse /content/drive/MyDrive"
      ],
      "metadata": {
        "colab": {
          "base_uri": "https://localhost:8080/"
        },
        "id": "NiJTrSnEU-Qi",
        "outputId": "7fa77e6e-e653-44cd-ef0c-f9f1cefd3015"
      },
      "execution_count": null,
      "outputs": [
        {
          "output_type": "stream",
          "name": "stdout",
          "text": [
            "debconf: unable to initialize frontend: Dialog\n",
            "debconf: (No usable dialog-like program is installed, so the dialog based frontend cannot be used. at /usr/share/perl5/Debconf/FrontEnd/Dialog.pm line 76, <> line 2.)\n",
            "debconf: falling back to frontend: Readline\n",
            "debconf: unable to initialize frontend: Readline\n",
            "debconf: (This frontend requires a controlling tty.)\n",
            "debconf: falling back to frontend: Teletype\n",
            "dpkg-preconfigure: unable to re-open stdin: \n",
            "Selecting previously unselected package libgpm2:amd64.\n",
            "(Reading database ... \r(Reading database ... 5%\r(Reading database ... 10%\r(Reading database ... 15%\r(Reading database ... 20%\r(Reading database ... 25%\r(Reading database ... 30%\r(Reading database ... 35%\r(Reading database ... 40%\r(Reading database ... 45%\r(Reading database ... 50%\r(Reading database ... 55%\r(Reading database ... 60%\r(Reading database ... 65%\r(Reading database ... 70%\r(Reading database ... 75%\r(Reading database ... 80%\r(Reading database ... 85%\r(Reading database ... 90%\r(Reading database ... 95%\r(Reading database ... 100%\r(Reading database ... 155681 files and directories currently installed.)\n",
            "Preparing to unpack .../libgpm2_1.20.7-5_amd64.deb ...\n",
            "Unpacking libgpm2:amd64 (1.20.7-5) ...\n",
            "Selecting previously unselected package w3m.\n",
            "Preparing to unpack .../w3m_0.5.3-36build1_amd64.deb ...\n",
            "Unpacking w3m (0.5.3-36build1) ...\n",
            "Setting up libgpm2:amd64 (1.20.7-5) ...\n",
            "Setting up w3m (0.5.3-36build1) ...\n",
            "Processing triggers for mime-support (3.60ubuntu1) ...\n",
            "Processing triggers for libc-bin (2.27-3ubuntu1.5) ...\n",
            "Processing triggers for man-db (2.8.3-2ubuntu0.1) ...\n",
            "/content\n",
            "/content/drive\n",
            "/content\n",
            "/\n",
            "Access token retrieved correctly.\n"
          ]
        }
      ]
    },
    {
      "cell_type": "code",
      "source": [
        "%cd /content/drive/MyDrive/pix2pix"
      ],
      "metadata": {
        "colab": {
          "base_uri": "https://localhost:8080/"
        },
        "id": "JuUeaOJLSuY0",
        "outputId": "73ed759c-1daf-4d9e-c49d-65122363e463"
      },
      "execution_count": null,
      "outputs": [
        {
          "output_type": "stream",
          "name": "stdout",
          "text": [
            "/content/drive/MyDrive/pix2pix\n"
          ]
        }
      ]
    },
    {
      "cell_type": "markdown",
      "source": [
        "# 1. W&B 사용하기 위해 로그인하기"
      ],
      "metadata": {
        "id": "WJiiDbc_3x6s"
      }
    },
    {
      "cell_type": "code",
      "source": [
        "%cd /content/drive/MyDrive/pix2pix"
      ],
      "metadata": {
        "colab": {
          "base_uri": "https://localhost:8080/"
        },
        "id": "CXgvPMZ1ea6u",
        "outputId": "54962f62-5a50-4ee1-fd1f-8d2f3a01ef20"
      },
      "execution_count": null,
      "outputs": [
        {
          "output_type": "stream",
          "name": "stdout",
          "text": [
            "/content/drive/MyDrive/pix2pix\n"
          ]
        }
      ]
    },
    {
      "cell_type": "code",
      "source": [
        "!pip install wandb"
      ],
      "metadata": {
        "id": "NTJajUhw35Gv",
        "colab": {
          "base_uri": "https://localhost:8080/"
        },
        "outputId": "e9e14a06-a2b2-428e-c224-f749bf1e6b71"
      },
      "execution_count": null,
      "outputs": [
        {
          "output_type": "stream",
          "name": "stdout",
          "text": [
            "Looking in indexes: https://pypi.org/simple, https://us-python.pkg.dev/colab-wheels/public/simple/\n",
            "Collecting wandb\n",
            "  Downloading wandb-0.13.1-py2.py3-none-any.whl (1.8 MB)\n",
            "\u001b[K     |████████████████████████████████| 1.8 MB 18.5 MB/s \n",
            "\u001b[?25hCollecting pathtools\n",
            "  Downloading pathtools-0.1.2.tar.gz (11 kB)\n",
            "Collecting docker-pycreds>=0.4.0\n",
            "  Downloading docker_pycreds-0.4.0-py2.py3-none-any.whl (9.0 kB)\n",
            "Requirement already satisfied: requests<3,>=2.0.0 in /usr/local/lib/python3.7/dist-packages (from wandb) (2.23.0)\n",
            "Collecting sentry-sdk>=1.0.0\n",
            "  Downloading sentry_sdk-1.9.5-py2.py3-none-any.whl (157 kB)\n",
            "\u001b[K     |████████████████████████████████| 157 kB 67.8 MB/s \n",
            "\u001b[?25hRequirement already satisfied: psutil>=5.0.0 in /usr/local/lib/python3.7/dist-packages (from wandb) (5.4.8)\n",
            "Collecting setproctitle\n",
            "  Downloading setproctitle-1.3.2-cp37-cp37m-manylinux_2_5_x86_64.manylinux1_x86_64.manylinux_2_17_x86_64.manylinux2014_x86_64.whl (30 kB)\n",
            "Requirement already satisfied: six>=1.13.0 in /usr/local/lib/python3.7/dist-packages (from wandb) (1.15.0)\n",
            "Requirement already satisfied: promise<3,>=2.0 in /usr/local/lib/python3.7/dist-packages (from wandb) (2.3)\n",
            "Requirement already satisfied: protobuf<4.0dev,>=3.12.0 in /usr/local/lib/python3.7/dist-packages (from wandb) (3.17.3)\n",
            "Requirement already satisfied: PyYAML in /usr/local/lib/python3.7/dist-packages (from wandb) (3.13)\n",
            "Requirement already satisfied: setuptools in /usr/local/lib/python3.7/dist-packages (from wandb) (57.4.0)\n",
            "Collecting shortuuid>=0.5.0\n",
            "  Downloading shortuuid-1.0.9-py3-none-any.whl (9.4 kB)\n",
            "Collecting GitPython>=1.0.0\n",
            "  Downloading GitPython-3.1.27-py3-none-any.whl (181 kB)\n",
            "\u001b[K     |████████████████████████████████| 181 kB 73.2 MB/s \n",
            "\u001b[?25hRequirement already satisfied: Click!=8.0.0,>=7.0 in /usr/local/lib/python3.7/dist-packages (from wandb) (7.1.2)\n",
            "Collecting gitdb<5,>=4.0.1\n",
            "  Downloading gitdb-4.0.9-py3-none-any.whl (63 kB)\n",
            "\u001b[K     |████████████████████████████████| 63 kB 2.2 MB/s \n",
            "\u001b[?25hRequirement already satisfied: typing-extensions>=3.7.4.3 in /usr/local/lib/python3.7/dist-packages (from GitPython>=1.0.0->wandb) (4.1.1)\n",
            "Collecting smmap<6,>=3.0.1\n",
            "  Downloading smmap-5.0.0-py3-none-any.whl (24 kB)\n",
            "Requirement already satisfied: idna<3,>=2.5 in /usr/local/lib/python3.7/dist-packages (from requests<3,>=2.0.0->wandb) (2.10)\n",
            "Requirement already satisfied: certifi>=2017.4.17 in /usr/local/lib/python3.7/dist-packages (from requests<3,>=2.0.0->wandb) (2022.6.15)\n",
            "Requirement already satisfied: chardet<4,>=3.0.2 in /usr/local/lib/python3.7/dist-packages (from requests<3,>=2.0.0->wandb) (3.0.4)\n",
            "Requirement already satisfied: urllib3!=1.25.0,!=1.25.1,<1.26,>=1.21.1 in /usr/local/lib/python3.7/dist-packages (from requests<3,>=2.0.0->wandb) (1.24.3)\n",
            "Collecting sentry-sdk>=1.0.0\n",
            "  Downloading sentry_sdk-1.9.4-py2.py3-none-any.whl (157 kB)\n",
            "\u001b[K     |████████████████████████████████| 157 kB 61.6 MB/s \n",
            "\u001b[?25h  Downloading sentry_sdk-1.9.3-py2.py3-none-any.whl (157 kB)\n",
            "\u001b[K     |████████████████████████████████| 157 kB 77.6 MB/s \n",
            "\u001b[?25h  Downloading sentry_sdk-1.9.2-py2.py3-none-any.whl (157 kB)\n",
            "\u001b[K     |████████████████████████████████| 157 kB 69.1 MB/s \n",
            "\u001b[?25h  Downloading sentry_sdk-1.9.1-py2.py3-none-any.whl (157 kB)\n",
            "\u001b[K     |████████████████████████████████| 157 kB 74.3 MB/s \n",
            "\u001b[?25h  Downloading sentry_sdk-1.9.0-py2.py3-none-any.whl (156 kB)\n",
            "\u001b[K     |████████████████████████████████| 156 kB 76.4 MB/s \n",
            "\u001b[?25hBuilding wheels for collected packages: pathtools\n",
            "  Building wheel for pathtools (setup.py) ... \u001b[?25l\u001b[?25hdone\n",
            "  Created wheel for pathtools: filename=pathtools-0.1.2-py3-none-any.whl size=8806 sha256=16c52a78b38cbf471a83e0d8652a6e90a695b9cda6b759bf4e92161fd2714976\n",
            "  Stored in directory: /root/.cache/pip/wheels/3e/31/09/fa59cef12cdcfecc627b3d24273699f390e71828921b2cbba2\n",
            "Successfully built pathtools\n",
            "Installing collected packages: smmap, gitdb, shortuuid, setproctitle, sentry-sdk, pathtools, GitPython, docker-pycreds, wandb\n",
            "Successfully installed GitPython-3.1.27 docker-pycreds-0.4.0 gitdb-4.0.9 pathtools-0.1.2 sentry-sdk-1.9.0 setproctitle-1.3.2 shortuuid-1.0.9 smmap-5.0.0 wandb-0.13.1\n"
          ]
        }
      ]
    },
    {
      "cell_type": "code",
      "source": [
        "import wandb\n",
        "!wandb login  #api 사용해 로그인 필요"
      ],
      "metadata": {
        "id": "r1DuaP_V362A",
        "colab": {
          "base_uri": "https://localhost:8080/"
        },
        "outputId": "922d4717-5ada-4add-918a-1a2c153dbfc3"
      },
      "execution_count": null,
      "outputs": [
        {
          "output_type": "stream",
          "name": "stdout",
          "text": [
            "\u001b[34m\u001b[1mwandb\u001b[0m: Logging into wandb.ai. (Learn how to deploy a W&B server locally: https://wandb.me/wandb-server)\n",
            "\u001b[34m\u001b[1mwandb\u001b[0m: You can find your API key in your browser here: https://wandb.ai/authorize\n",
            "\u001b[34m\u001b[1mwandb\u001b[0m: Paste an API key from your profile and hit enter, or press ctrl+c to quit: \n",
            "\u001b[34m\u001b[1mwandb\u001b[0m: Appending key for api.wandb.ai to your netrc file: /root/.netrc\n"
          ]
        }
      ]
    },
    {
      "cell_type": "code",
      "source": [
        "wandb.init(project=\"coloring-page\")  #wandb web 서버와 연결(첫 작성 시 프로젝트 생성)"
      ],
      "metadata": {
        "id": "a7voKHof38Mx",
        "colab": {
          "base_uri": "https://localhost:8080/",
          "height": 109
        },
        "outputId": "fa3de57e-5c0f-4724-c6b3-0360a556add0"
      },
      "execution_count": null,
      "outputs": [
        {
          "output_type": "stream",
          "name": "stderr",
          "text": [
            "\u001b[34m\u001b[1mwandb\u001b[0m: Currently logged in as: \u001b[33mmj22\u001b[0m. Use \u001b[1m`wandb login --relogin`\u001b[0m to force relogin\n"
          ]
        },
        {
          "output_type": "display_data",
          "data": {
            "text/plain": [
              "<IPython.core.display.HTML object>"
            ],
            "text/html": [
              "Tracking run with wandb version 0.13.1"
            ]
          },
          "metadata": {}
        },
        {
          "output_type": "display_data",
          "data": {
            "text/plain": [
              "<IPython.core.display.HTML object>"
            ],
            "text/html": [
              "Run data is saved locally in <code>/content/drive/MyDrive/pix2pix/wandb/run-20220819_033904-3km0nc3x</code>"
            ]
          },
          "metadata": {}
        },
        {
          "output_type": "display_data",
          "data": {
            "text/plain": [
              "<IPython.core.display.HTML object>"
            ],
            "text/html": [
              "Syncing run <strong><a href=\"https://wandb.ai/mj22/coloring-page/runs/3km0nc3x\" target=\"_blank\">clean-lion-3</a></strong> to <a href=\"https://wandb.ai/mj22/coloring-page\" target=\"_blank\">Weights & Biases</a> (<a href=\"https://wandb.me/run\" target=\"_blank\">docs</a>)<br/>"
            ]
          },
          "metadata": {}
        },
        {
          "output_type": "execute_result",
          "data": {
            "text/html": [
              "<button onClick=\"this.nextSibling.style.display='block';this.style.display='none';\">Display W&B run</button><iframe src=\"https://wandb.ai/mj22/coloring-page/runs/3km0nc3x?jupyter=true\" style=\"border:none;width:100%;height:420px;display:none;\"></iframe>"
            ],
            "text/plain": [
              "<wandb.sdk.wandb_run.Run at 0x7f922b85a750>"
            ]
          },
          "metadata": {},
          "execution_count": 5
        }
      ]
    },
    {
      "cell_type": "markdown",
      "source": [
        "# 2. 필요한 라이브러리 불러오기\n"
      ],
      "metadata": {
        "id": "344TjkMUydnl"
      }
    },
    {
      "cell_type": "code",
      "source": [
        "import os\n",
        "import glob\n",
        "import numpy as np\n",
        "import matplotlib.pyplot as plt\n",
        "from PIL import Image\n",
        "\n",
        "import torch\n",
        "import torch.nn as nn\n",
        "\n",
        "from torch.utils.data import Dataset\n",
        "from torch.utils.data import DataLoader\n",
        "import torchvision.transforms as transforms\n",
        "from torchvision.utils import save_image"
      ],
      "metadata": {
        "id": "BwP4w2MzyxqZ"
      },
      "execution_count": null,
      "outputs": []
    },
    {
      "cell_type": "markdown",
      "source": [
        "# 3. 데이터셋 불러오기\n",
        "\n",
        "https://www.kaggle.com/datasets/ktaebum/anime-sketch-colorization-pair [캐글]애니(컬러)-스케치 데이터를 다운받아 압축을 풀음.\n",
        "\n",
        "용량이 너무 커서 우선 val폴더에 있는 3545개의 paired data를 사용하며, 압축해 로컬 구글 드라이브 /content/drive/MyDrive/data 에 업로드해 사용함.\n",
        "\n",
        "사용할 때에는 colab 노트북에서 압축을 풀어 구글 드라이브의 저장용량에 무리가 가지 않도록 함."
      ],
      "metadata": {
        "id": "tvx2tgGLy6JF"
      }
    },
    {
      "cell_type": "markdown",
      "source": [
        "### kaggle에서 처음 다운 받는 경우"
      ],
      "metadata": {
        "id": "MXOzIXyQRgqD"
      }
    },
    {
      "cell_type": "code",
      "source": [
        "#@markdown #**kaggle login**\n",
        "#@markdown ---\n",
        "KAGGLE_USERNAME = \"#@param {type:\"string\"}\"\n",
        "KAGGLE_KEY = \"#@param {type:\"string\"}\"\n",
        "\n",
        "\n",
        "!pip install -q kaggle\n",
        "\n",
        "import os\n",
        "\n",
        "os.environ['KAGGLE_USERNAME'] = KAGGLE_USERNAME\n",
        "os.environ['KAGGLE_KEY'] = KAGGLE_KEY\n",
        "\n",
        "!kaggle -h"
      ],
      "metadata": {
        "id": "s45h4trJ0OS7"
      },
      "execution_count": null,
      "outputs": []
    },
    {
      "cell_type": "code",
      "source": [
        "kaggle datasets download -d ktaebum/anime-sketch-colorization-pair"
      ],
      "metadata": {
        "id": "kjN-PoYc0Of9"
      },
      "execution_count": null,
      "outputs": []
    },
    {
      "cell_type": "code",
      "source": [
        "!unzip '/content/anime-sketch-colorization-pair.zip' -d './'"
      ],
      "metadata": {
        "id": "kbjF5NDw0Oin"
      },
      "execution_count": null,
      "outputs": []
    },
    {
      "cell_type": "markdown",
      "source": [
        "### 사전에 구글 드라이브에 압축파일을 올려놓은 경우"
      ],
      "metadata": {
        "id": "kcgrJi3lSSzU"
      }
    },
    {
      "cell_type": "code",
      "source": [
        "%cd /content/"
      ],
      "metadata": {
        "colab": {
          "base_uri": "https://localhost:8080/"
        },
        "id": "BIpvUZMOL7JW",
        "outputId": "2e577936-ee46-470d-80b1-d59fbdd2032f"
      },
      "execution_count": null,
      "outputs": [
        {
          "output_type": "stream",
          "name": "stdout",
          "text": [
            "/content\n"
          ]
        }
      ]
    },
    {
      "cell_type": "code",
      "source": [
        "!unzip '/content/drive/MyDrive/data/val-20220819T031031Z-001.zip' -d '/content/'"
      ],
      "metadata": {
        "id": "DKHRTzx0LUv2"
      },
      "execution_count": null,
      "outputs": []
    },
    {
      "cell_type": "markdown",
      "source": [
        "# 4. 사용 데이터셋 확인하기"
      ],
      "metadata": {
        "id": "HVk70xJU0jjc"
      }
    },
    {
      "cell_type": "code",
      "source": [
        "print(\"학습 데이터셋 A와 B의 개수:\", len(next(os.walk('/content/val'))[2]))"
      ],
      "metadata": {
        "id": "yZ2TkyeW0ocY",
        "colab": {
          "base_uri": "https://localhost:8080/"
        },
        "outputId": "f11d064f-a280-431a-83ba-260d8910dbdb"
      },
      "execution_count": null,
      "outputs": [
        {
          "output_type": "stream",
          "name": "stdout",
          "text": [
            "학습 데이터셋 A와 B의 개수: 3545\n"
          ]
        }
      ]
    },
    {
      "cell_type": "code",
      "source": [
        "image = Image.open('/content/val/1000113.png')\n",
        "print(\"이미지 크기:\", image.size)\n",
        "\n",
        "plt.imshow(image)\n",
        "plt.show()"
      ],
      "metadata": {
        "id": "DH6z8PMn0rBC",
        "colab": {
          "base_uri": "https://localhost:8080/",
          "height": 237
        },
        "outputId": "5b632cc1-79ea-482b-a1eb-d3a018a1538b"
      },
      "execution_count": null,
      "outputs": [
        {
          "output_type": "stream",
          "name": "stdout",
          "text": [
            "이미지 크기: (1024, 512)\n"
          ]
        },
        {
          "output_type": "display_data",
          "data": {
            "text/plain": [
              "<Figure size 432x288 with 1 Axes>"
            ],
            "image/png": "[encoded data removed]"
          },
          "metadata": {
            "needs_background": "light"
          }
        }
      ]
    },
    {
      "cell_type": "markdown",
      "source": [
        "# 5. 데이터셋 클래스 정의"
      ],
      "metadata": {
        "id": "I7c70hyq04MC"
      }
    },
    {
      "cell_type": "code",
      "source": [
        "%cd /content/val\n",
        "\n",
        "class ImageDataset(Dataset):\n",
        "    def __init__(self, root, transforms_=None, mode=\"train\"):\n",
        "        self.transform = transforms_\n",
        "\n",
        "        self.files = sorted(glob.glob(os.path.join(root, \"/content/val\") + \"/*.png\")) \n",
        "\n",
        "    def __getitem__(self, index):\n",
        "        img = Image.open(self.files[index % len(self.files)])\n",
        "        w, h = img.size\n",
        "        img_A = img.crop((w / 2, 0, w, h)) # 이미지의 오른쪽 절반(A: sketch image)\n",
        "        img_B = img.crop((0, 0, w / 2, h)) # 이미지의 왼쪽 절반(B: colored illustration image)       \n",
        "\n",
        "        img_A = self.transform(img_A)\n",
        "        img_B = self.transform(img_B)\n",
        "\n",
        "        return {\"A\": img_A, \"B\": img_B}\n",
        "\n",
        "    def __len__(self):\n",
        "        return len(self.files)"
      ],
      "metadata": {
        "id": "IAvCfBXX08Ge",
        "colab": {
          "base_uri": "https://localhost:8080/"
        },
        "outputId": "604152a0-c66f-44f2-c67c-8a74ca3ecda0"
      },
      "execution_count": null,
      "outputs": [
        {
          "output_type": "stream",
          "name": "stdout",
          "text": [
            "/content/val\n"
          ]
        }
      ]
    },
    {
      "cell_type": "code",
      "source": [
        "transforms_ = transforms.Compose([\n",
        "    transforms.Resize((256, 256), Image.BICUBIC),\n",
        "    transforms.ToTensor(),\n",
        "    transforms.Normalize((0.5, 0.5, 0.5), (0.5, 0.5, 0.5))\n",
        "])\n",
        "\n",
        "train_dataset = ImageDataset(\"data\", transforms_=transforms_)  \n",
        "val_dataset = ImageDataset(\"data\", transforms_=transforms_)\n",
        "\n",
        "train_dataloader = DataLoader(train_dataset, batch_size=10, shuffle=True, num_workers=4)\n",
        "val_dataloader = DataLoader(train_dataset, batch_size=10, shuffle=True, num_workers=4)"
      ],
      "metadata": {
        "id": "tISGr58V1WwE",
        "colab": {
          "base_uri": "https://localhost:8080/"
        },
        "outputId": "b5c864aa-858d-4c3d-c6ab-d93fa83046fe"
      },
      "execution_count": null,
      "outputs": [
        {
          "output_type": "stream",
          "name": "stderr",
          "text": [
            "/usr/local/lib/python3.7/dist-packages/torchvision/transforms/transforms.py:333: UserWarning: Argument 'interpolation' of type int is deprecated since 0.13 and will be removed in 0.15. Please use InterpolationMode enum.\n",
            "  \"Argument 'interpolation' of type int is deprecated since 0.13 and will be removed in 0.15. \"\n",
            "/usr/local/lib/python3.7/dist-packages/torch/utils/data/dataloader.py:566: UserWarning: This DataLoader will create 4 worker processes in total. Our suggested max number of worker in current system is 2, which is smaller than what this DataLoader is going to create. Please be aware that excessive worker creation might get DataLoader running slow or even freeze, lower the worker number to avoid potential slowness/freeze if necessary.\n",
            "  cpuset_checked))\n"
          ]
        }
      ]
    },
    {
      "cell_type": "markdown",
      "source": [
        "# 6. 생성자 및 판별자 모델 정의"
      ],
      "metadata": {
        "id": "4xgZ_MZG1g3z"
      }
    },
    {
      "cell_type": "code",
      "source": [
        "# U-Net 아키텍처의 다운 샘플링(Down Sampling) 모듈\n",
        "class UNetDown(nn.Module):\n",
        "    def __init__(self, in_channels, out_channels, normalize=True, dropout=0.0):\n",
        "        super(UNetDown, self).__init__()\n",
        "        # 너비와 높이가 2배씩 감소\n",
        "        layers = [nn.Conv2d(in_channels, out_channels, kernel_size=4, stride=2, padding=1, bias=False)]\n",
        "        if normalize:\n",
        "            layers.append(nn.InstanceNorm2d(out_channels))\n",
        "        layers.append(nn.LeakyReLU(0.2))\n",
        "        if dropout:\n",
        "            layers.append(nn.Dropout(dropout))\n",
        "        self.model = nn.Sequential(*layers)\n",
        "\n",
        "    def forward(self, x):\n",
        "        return self.model(x)\n",
        "\n",
        "\n",
        "# U-Net 아키텍처의 업 샘플링(Up Sampling) 모듈: Skip Connection 사용\n",
        "class UNetUp(nn.Module):\n",
        "    def __init__(self, in_channels, out_channels, dropout=0.0):\n",
        "        super(UNetUp, self).__init__()\n",
        "        # 너비와 높이가 2배씩 증가\n",
        "        layers = [nn.ConvTranspose2d(in_channels, out_channels, kernel_size=4, stride=2, padding=1, bias=False)]\n",
        "        layers.append(nn.InstanceNorm2d(out_channels))\n",
        "        layers.append(nn.ReLU(inplace=True))\n",
        "        if dropout:\n",
        "            layers.append(nn.Dropout(dropout))\n",
        "        self.model = nn.Sequential(*layers)\n",
        "\n",
        "    def forward(self, x, skip_input):\n",
        "        x = self.model(x)\n",
        "        x = torch.cat((x, skip_input), 1) # 채널 레벨에서 합치기(concatenation)\n",
        "\n",
        "        return x\n",
        "\n",
        "\n",
        "# U-Net 생성자(Generator) 아키텍처\n",
        "class GeneratorUNet(nn.Module):\n",
        "    def __init__(self, in_channels=3, out_channels=3):\n",
        "        super(GeneratorUNet, self).__init__()\n",
        "\n",
        "        self.down1 = UNetDown(in_channels, 64, normalize=False) # 출력: [64 X 128 X 128]\n",
        "        self.down2 = UNetDown(64, 128) # 출력: [128 X 64 X 64]\n",
        "        self.down3 = UNetDown(128, 256) # 출력: [256 X 32 X 32]\n",
        "        self.down4 = UNetDown(256, 512, dropout=0.5) # 출력: [512 X 16 X 16]\n",
        "        self.down5 = UNetDown(512, 512, dropout=0.5) # 출력: [512 X 8 X 8]\n",
        "        self.down6 = UNetDown(512, 512, dropout=0.5) # 출력: [512 X 4 X 4]\n",
        "        self.down7 = UNetDown(512, 512, dropout=0.5) # 출력: [512 X 2 X 2]\n",
        "        self.down8 = UNetDown(512, 512, normalize=False, dropout=0.5) # 출력: [512 X 1 X 1]\n",
        "\n",
        "        # Skip Connection 사용(출력 채널의 크기 X 2 == 다음 입력 채널의 크기)\n",
        "        self.up1 = UNetUp(512, 512, dropout=0.5) # 출력: [1024 X 2 X 2]\n",
        "        self.up2 = UNetUp(1024, 512, dropout=0.5) # 출력: [1024 X 4 X 4]\n",
        "        self.up3 = UNetUp(1024, 512, dropout=0.5) # 출력: [1024 X 8 X 8]\n",
        "        self.up4 = UNetUp(1024, 512, dropout=0.5) # 출력: [1024 X 16 X 16]\n",
        "        self.up5 = UNetUp(1024, 256) # 출력: [512 X 32 X 32]\n",
        "        self.up6 = UNetUp(512, 128) # 출력: [256 X 64 X 64]\n",
        "        self.up7 = UNetUp(256, 64) # 출력: [128 X 128 X 128]\n",
        "\n",
        "        self.final = nn.Sequential(\n",
        "            nn.Upsample(scale_factor=2), # 출력: [128 X 256 X 256]\n",
        "            nn.ZeroPad2d((1, 0, 1, 0)),\n",
        "            nn.Conv2d(128, out_channels, kernel_size=4, padding=1), # 출력: [3 X 256 X 256]\n",
        "            nn.Tanh(),\n",
        "        )\n",
        "\n",
        "    def forward(self, x):\n",
        "        # 인코더부터 디코더까지 순전파하는 U-Net 생성자(Generator)\n",
        "        d1 = self.down1(x)\n",
        "        d2 = self.down2(d1)\n",
        "        d3 = self.down3(d2)\n",
        "        d4 = self.down4(d3)\n",
        "        d5 = self.down5(d4)\n",
        "        d6 = self.down6(d5)\n",
        "        d7 = self.down7(d6)\n",
        "        d8 = self.down8(d7)\n",
        "        u1 = self.up1(d8, d7)\n",
        "        u2 = self.up2(u1, d6)\n",
        "        u3 = self.up3(u2, d5)\n",
        "        u4 = self.up4(u3, d4)\n",
        "        u5 = self.up5(u4, d3)\n",
        "        u6 = self.up6(u5, d2)\n",
        "        u7 = self.up7(u6, d1)\n",
        "\n",
        "        return self.final(u7)\n",
        "\n",
        "\n",
        "# U-Net 판별자(Discriminator) 아키텍처\n",
        "class Discriminator(nn.Module):\n",
        "    def __init__(self, in_channels=3):\n",
        "        super(Discriminator, self).__init__()\n",
        "\n",
        "        def discriminator_block(in_channels, out_channels, normalization=True):\n",
        "            # 너비와 높이가 2배씩 감소\n",
        "            layers = [nn.Conv2d(in_channels, out_channels, kernel_size=4, stride=2, padding=1)]\n",
        "            if normalization:\n",
        "                layers.append(nn.InstanceNorm2d(out_channels))\n",
        "            layers.append(nn.LeakyReLU(0.2, inplace=True))\n",
        "            return layers\n",
        "\n",
        "        self.model = nn.Sequential(\n",
        "            # 두 개의 이미지(실제/변환된 이미지, 조건 이미지)를 입력 받으므로 입력 채널의 크기는 2배\n",
        "            *discriminator_block(in_channels * 2, 64, normalization=False), # 출력: [64 X 128 X 128]\n",
        "            *discriminator_block(64, 128), # 출력: [128 X 64 X 64]\n",
        "            *discriminator_block(128, 256), # 출력: [256 X 32 X 32]\n",
        "            *discriminator_block(256, 512), # 출력: [512 X 16 X 16]\n",
        "            nn.ZeroPad2d((1, 0, 1, 0)),\n",
        "            nn.Conv2d(512, 1, kernel_size=4, padding=1, bias=False) # 출력: [1 X 16 X 16]\n",
        "        )\n",
        "\n",
        "    # img_A: 실제/변환된 이미지, img_B: 조건(condition)\n",
        "    def forward(self, img_A, img_B):\n",
        "        # 이미지 두 개를 채널 레벨에서 연결하여(concatenate) 입력 데이터 생성\n",
        "        img_input = torch.cat((img_A, img_B), 1)\n",
        "        return self.model(img_input)"
      ],
      "metadata": {
        "id": "W9eSWydR1jgN"
      },
      "execution_count": null,
      "outputs": []
    },
    {
      "cell_type": "markdown",
      "source": [
        "# 7. 모델 학습 및 샘플링 + 모델저장\n",
        "\n",
        "colab 노트북의 경우 런타임 끊김을 방지하더라도 할당된 gpu 런타임 이상을 사용할 수 없음. 런타임이 종료될 경우 그동안 돌아간 모델이 날아갈 수 있어 25epoch씩 나눠 실행함.\n",
        "\n",
        "본 데이터셋의 경우 25epoch를 돌릴 때마다 약 1시간이 소요됨.\n",
        "각자의 노트북 gpu 사양 및 구동환경에 맞춰 한 셀에서 수행할 epoch를 수정가능\n"
      ],
      "metadata": {
        "id": "66i4xJTO1pFs"
      }
    },
    {
      "cell_type": "code",
      "source": [
        "def weights_init_normal(m):\n",
        "    classname = m.__class__.__name__\n",
        "    if classname.find(\"Conv\") != -1:\n",
        "        torch.nn.init.normal_(m.weight.data, 0.0, 0.02)\n",
        "    elif classname.find(\"BatchNorm2d\") != -1:\n",
        "        torch.nn.init.normal_(m.weight.data, 1.0, 0.02)\n",
        "        torch.nn.init.constant_(m.bias.data, 0.0)\n",
        "\n",
        "\n",
        "# 생성자(generator)와 판별자(discriminator) 초기화\n",
        "generator = GeneratorUNet()\n",
        "discriminator = Discriminator()\n",
        "\n",
        "generator.cuda()\n",
        "discriminator.cuda()\n",
        "\n",
        "# 가중치(weights) 초기화\n",
        "generator.apply(weights_init_normal)\n",
        "discriminator.apply(weights_init_normal)\n",
        "\n",
        "# 손실 함수(loss function)\n",
        "criterion_GAN = torch.nn.MSELoss()\n",
        "criterion_pixelwise = torch.nn.L1Loss()\n",
        "\n",
        "criterion_GAN.cuda()\n",
        "criterion_pixelwise.cuda()\n",
        "\n",
        "# 학습률(learning rate) 설정\n",
        "lr = 0.0002\n",
        "\n",
        "# 생성자와 판별자를 위한 최적화 함수\n",
        "optimizer_G = torch.optim.Adam(generator.parameters(), lr=lr, betas=(0.5, 0.999))\n",
        "optimizer_D = torch.optim.Adam(discriminator.parameters(), lr=lr, betas=(0.5, 0.999))"
      ],
      "metadata": {
        "id": "5H_j0W281txD"
      },
      "execution_count": null,
      "outputs": []
    },
    {
      "cell_type": "code",
      "source": [
        "%cd /content/drive/MyDrive/pix2pix/v1(25e)\n",
        "\n",
        "import time\n",
        "\n",
        "n_epochs = 25 # 학습의 횟수(epoch) 설정\n",
        "sample_interval = 500 # 몇 번의 배치(batch)마다 결과를 출력할 것인지 설정\n",
        "\n",
        "# 변환된 이미지와 정답 이미지 사이의 L1 픽셀 단위(pixel-wise) 손실 가중치(weight) 파라미터\n",
        "lambda_pixel = 100\n",
        "\n",
        "start_time = time.time()\n",
        "\n",
        "for epoch in range(n_epochs):\n",
        "    for i, batch in enumerate(train_dataloader):\n",
        "        # 모델의 입력(input) 데이터 불러오기\n",
        "        real_A = batch[\"B\"].cuda()\n",
        "        real_B = batch[\"A\"].cuda()\n",
        "\n",
        "        # 진짜(real) 이미지와 가짜(fake) 이미지에 대한 정답 레이블 생성 (너바와 높이를 16씩 나눈 크기)\n",
        "        real = torch.cuda.FloatTensor(real_A.size(0), 1, 16, 16).fill_(1.0) # 진짜(real): 1\n",
        "        fake = torch.cuda.FloatTensor(real_A.size(0), 1, 16, 16).fill_(0.0) # 가짜(fake): 0\n",
        "\n",
        "        \"\"\" 생성자(generator)를 학습합니다. \"\"\"\n",
        "        optimizer_G.zero_grad()\n",
        "\n",
        "        # 이미지 생성\n",
        "        fake_B = generator(real_A)\n",
        "\n",
        "        # 생성자(generator)의 손실(loss) 값 계산\n",
        "        loss_GAN = criterion_GAN(discriminator(fake_B, real_A), real)\n",
        "\n",
        "        # 픽셀 단위(pixel-wise) L1 손실 값 계산\n",
        "        loss_pixel = criterion_pixelwise(fake_B, real_B) \n",
        "\n",
        "        # 최종적인 손실(loss)\n",
        "        loss_G = loss_GAN + lambda_pixel * loss_pixel\n",
        "\n",
        "        # 생성자(generator) 업데이트\n",
        "        loss_G.backward()\n",
        "        optimizer_G.step()\n",
        "\n",
        "        \"\"\" 판별자(discriminator)를 학습합니다. \"\"\"\n",
        "        optimizer_D.zero_grad()\n",
        "\n",
        "        # 판별자(discriminator)의 손실(loss) 값 계산\n",
        "        loss_real = criterion_GAN(discriminator(real_B, real_A), real) # 조건(condition): real_A\n",
        "        loss_fake = criterion_GAN(discriminator(fake_B.detach(), real_A), fake)\n",
        "        loss_D = (loss_real + loss_fake) / 2\n",
        "\n",
        "        # 판별자(discriminator) 업데이트\n",
        "        loss_D.backward()\n",
        "        optimizer_D.step()\n",
        "\n",
        "        done = epoch * len(train_dataloader) + i\n",
        "        if done % sample_interval == 0:\n",
        "            imgs = next(iter(val_dataloader)) # 10개의 이미지를 추출해 생성\n",
        "            real_A = imgs[\"B\"].cuda()\n",
        "            real_B = imgs[\"A\"].cuda()\n",
        "            fake_B = generator(real_A)\n",
        "            # real_A: 조건(condition), fake_B: 변환된 이미지(translated image), real_B: 정답 이미지\n",
        "            img_sample = torch.cat((real_A.data, fake_B.data, real_B.data), -2) # 높이(height)를 기준으로 이미지를 연결하기\n",
        "            save_image(img_sample, f\"{done}.png\", nrow=5, normalize=True)\n",
        "\n",
        "    # 하나의 epoch이 끝날 때마다 로그(log) 출력 및 W&B에 기록\n",
        "    wandb.log({\"epoch\": epoch, \"D loss\": loss_D.item(), \"G pixel loss\": loss_pixel.item() , \"adv loss\" : loss_GAN.item()})\n",
        "    print(f\"[Epoch {epoch}/{n_epochs}] [D loss: {loss_D.item():.6f}] [G pixel loss: {loss_pixel.item():.6f}, adv loss: {loss_GAN.item()}] [Elapsed time: {time.time() - start_time:.2f}s]\")\n",
        "\n",
        "\n",
        "\n",
        "# 모델 파라미터 저장\n",
        "%cd /content/drive/MyDrive/pix2pix/trained_model\n",
        "torch.save(generator.state_dict(), \"Pix2Pix_Generator_V1(25e).pt\")\n",
        "torch.save(discriminator.state_dict(), \"Pix2Pix_Discriminator_V1(25e).pt\")\n",
        "print(\"Model saved!\")\n",
        "\n"
      ],
      "metadata": {
        "id": "QEUj4vrj1wkB",
        "colab": {
          "base_uri": "https://localhost:8080/"
        },
        "outputId": "ed5f4e27-eb4f-488d-ec3d-0d3a5954285b"
      },
      "execution_count": null,
      "outputs": [
        {
          "output_type": "stream",
          "name": "stdout",
          "text": [
            "/content/drive/MyDrive/pix2pix/v1(25e)\n"
          ]
        },
        {
          "output_type": "stream",
          "name": "stderr",
          "text": [
            "/usr/local/lib/python3.7/dist-packages/torch/utils/data/dataloader.py:566: UserWarning: This DataLoader will create 4 worker processes in total. Our suggested max number of worker in current system is 2, which is smaller than what this DataLoader is going to create. Please be aware that excessive worker creation might get DataLoader running slow or even freeze, lower the worker number to avoid potential slowness/freeze if necessary.\n",
            "  cpuset_checked))\n"
          ]
        },
        {
          "output_type": "stream",
          "name": "stdout",
          "text": [
            "[Epoch 0/25] [D loss: 0.206595] [G pixel loss: 0.058376, adv loss: 0.3245409429073334] [Elapsed time: 139.31s]\n",
            "[Epoch 1/25] [D loss: 0.207007] [G pixel loss: 0.047807, adv loss: 0.49781760573387146] [Elapsed time: 283.15s]\n",
            "[Epoch 2/25] [D loss: 0.198296] [G pixel loss: 0.041695, adv loss: 0.3877752721309662] [Elapsed time: 428.45s]\n",
            "[Epoch 3/25] [D loss: 0.238441] [G pixel loss: 0.039293, adv loss: 0.39839011430740356] [Elapsed time: 572.70s]\n",
            "[Epoch 4/25] [D loss: 0.243874] [G pixel loss: 0.032618, adv loss: 0.2061014175415039] [Elapsed time: 718.44s]\n",
            "[Epoch 5/25] [D loss: 0.194431] [G pixel loss: 0.036985, adv loss: 0.38121992349624634] [Elapsed time: 863.85s]\n",
            "[Epoch 6/25] [D loss: 0.248238] [G pixel loss: 0.033371, adv loss: 0.5324808955192566] [Elapsed time: 1008.00s]\n",
            "[Epoch 7/25] [D loss: 0.266824] [G pixel loss: 0.023078, adv loss: 0.4667045772075653] [Elapsed time: 1153.55s]\n",
            "[Epoch 8/25] [D loss: 0.227140] [G pixel loss: 0.022891, adv loss: 0.30687424540519714] [Elapsed time: 1298.89s]\n",
            "[Epoch 9/25] [D loss: 0.653737] [G pixel loss: 0.037458, adv loss: 0.03683040663599968] [Elapsed time: 1444.21s]\n",
            "[Epoch 10/25] [D loss: 0.171993] [G pixel loss: 0.027109, adv loss: 0.38677358627319336] [Elapsed time: 1588.39s]\n",
            "[Epoch 11/25] [D loss: 0.183498] [G pixel loss: 0.028600, adv loss: 0.48844432830810547] [Elapsed time: 1734.64s]\n",
            "[Epoch 12/25] [D loss: 0.165638] [G pixel loss: 0.037967, adv loss: 0.5754996538162231] [Elapsed time: 1879.99s]\n",
            "[Epoch 13/25] [D loss: 0.134718] [G pixel loss: 0.033527, adv loss: 0.46941787004470825] [Elapsed time: 2024.18s]\n",
            "[Epoch 14/25] [D loss: 0.195571] [G pixel loss: 0.027533, adv loss: 0.3201253116130829] [Elapsed time: 2170.02s]\n",
            "[Epoch 15/25] [D loss: 0.235055] [G pixel loss: 0.045928, adv loss: 0.3074193000793457] [Elapsed time: 2315.30s]\n",
            "[Epoch 16/25] [D loss: 0.307547] [G pixel loss: 0.032492, adv loss: 0.09300069510936737] [Elapsed time: 2460.62s]\n",
            "[Epoch 17/25] [D loss: 0.181253] [G pixel loss: 0.045379, adv loss: 0.2941579818725586] [Elapsed time: 2604.74s]\n",
            "[Epoch 18/25] [D loss: 0.203335] [G pixel loss: 0.028885, adv loss: 0.2727166414260864] [Elapsed time: 2750.18s]\n",
            "[Epoch 19/25] [D loss: 0.182710] [G pixel loss: 0.029134, adv loss: 0.3402412533760071] [Elapsed time: 2895.46s]\n",
            "[Epoch 20/25] [D loss: 0.356243] [G pixel loss: 0.030254, adv loss: 0.21784546971321106] [Elapsed time: 3039.79s]\n",
            "[Epoch 21/25] [D loss: 0.194763] [G pixel loss: 0.033795, adv loss: 0.49172893166542053] [Elapsed time: 3185.27s]\n",
            "[Epoch 22/25] [D loss: 0.197404] [G pixel loss: 0.031409, adv loss: 0.2214471399784088] [Elapsed time: 3330.73s]\n",
            "[Epoch 23/25] [D loss: 0.175613] [G pixel loss: 0.025967, adv loss: 0.4123341739177704] [Elapsed time: 3476.07s]\n",
            "[Epoch 24/25] [D loss: 0.183591] [G pixel loss: 0.036089, adv loss: 0.27544403076171875] [Elapsed time: 3620.47s]\n",
            "/content/drive/MyDrive/pix2pix/trained_model\n",
            "Model saved!\n"
          ]
        }
      ]
    },
    {
      "cell_type": "markdown",
      "source": [
        "# 8. 같은 데이터로 추가학습\n",
        "\n",
        "생성자 및 판별자 모델 정의(6번)까지 셀 실행하고 진행\n",
        "\n",
        "모델 불러와 추가학습"
      ],
      "metadata": {
        "id": "G3B0JBCk2D6X"
      }
    },
    {
      "cell_type": "markdown",
      "source": [
        "### ~50epoch"
      ],
      "metadata": {
        "id": "28fhI0RPrd41"
      }
    },
    {
      "cell_type": "code",
      "source": [
        "%cd /content/drive/MyDrive/pix2pix/trained_model\n",
        "\n",
        "# 모델 불러오기\n",
        "generator = GeneratorUNet()\n",
        "discriminator = Discriminator()\n",
        "\n",
        "generator.cuda()\n",
        "discriminator.cuda()\n",
        "\n",
        "generator.load_state_dict(torch.load(\"Pix2Pix_Generator_V1(25e).pt\"))\n",
        "discriminator.load_state_dict(torch.load(\"Pix2Pix_Discriminator_V1(25e).pt\"))\n",
        "\n",
        "generator.eval();\n",
        "discriminator.eval();\n",
        "\n",
        "# 손실 함수(loss function)\n",
        "criterion_GAN = torch.nn.MSELoss()\n",
        "criterion_pixelwise = torch.nn.L1Loss()\n",
        "\n",
        "criterion_GAN.cuda()\n",
        "criterion_pixelwise.cuda()\n",
        "\n",
        "# 학습률(learning rate) 설정\n",
        "lr = 0.0002\n",
        "\n",
        "# 생성자와 판별자를 위한 최적화 함수\n",
        "optimizer_G = torch.optim.Adam(generator.parameters(), lr=lr, betas=(0.5, 0.999))\n",
        "optimizer_D = torch.optim.Adam(discriminator.parameters(), lr=lr, betas=(0.5, 0.999))"
      ],
      "metadata": {
        "id": "Kv1_vKXd2NO-",
        "colab": {
          "base_uri": "https://localhost:8080/"
        },
        "outputId": "0f475e0d-1088-40ec-c750-2deb20e674d5"
      },
      "execution_count": null,
      "outputs": [
        {
          "output_type": "stream",
          "name": "stdout",
          "text": [
            "/content/drive/MyDrive/pix2pix/trained_model\n"
          ]
        }
      ]
    },
    {
      "cell_type": "code",
      "source": [
        "%cd /content/drive/MyDrive/pix2pix/v1(50e)\n",
        "\n",
        "import time\n",
        "\n",
        "n_epochs = 25 # 학습의 횟수(epoch) 설정\n",
        "sample_interval = 500 # 몇 번의 배치(batch)마다 결과를 출력할 것인지 설정\n",
        "\n",
        "# 변환된 이미지와 정답 이미지 사이의 L1 픽셀 단위(pixel-wise) 손실 가중치(weight) 파라미터\n",
        "lambda_pixel = 100\n",
        "\n",
        "start_time = time.time()\n",
        "\n",
        "for epoch in range(n_epochs):\n",
        "    for i, batch in enumerate(train_dataloader):\n",
        "        # 모델의 입력(input) 데이터 불러오기\n",
        "        real_A = batch[\"B\"].cuda()\n",
        "        real_B = batch[\"A\"].cuda()\n",
        "\n",
        "        # 진짜(real) 이미지와 가짜(fake) 이미지에 대한 정답 레이블 생성 (너바와 높이를 16씩 나눈 크기)\n",
        "        real = torch.cuda.FloatTensor(real_A.size(0), 1, 16, 16).fill_(1.0) # 진짜(real): 1\n",
        "        fake = torch.cuda.FloatTensor(real_A.size(0), 1, 16, 16).fill_(0.0) # 가짜(fake): 0\n",
        "\n",
        "        \"\"\" 생성자(generator)를 학습합니다. \"\"\"\n",
        "        optimizer_G.zero_grad()\n",
        "\n",
        "        # 이미지 생성\n",
        "        fake_B = generator(real_A)\n",
        "\n",
        "        # 생성자(generator)의 손실(loss) 값 계산\n",
        "        loss_GAN = criterion_GAN(discriminator(fake_B, real_A), real)\n",
        "\n",
        "        # 픽셀 단위(pixel-wise) L1 손실 값 계산\n",
        "        loss_pixel = criterion_pixelwise(fake_B, real_B) \n",
        "\n",
        "        # 최종적인 손실(loss)\n",
        "        loss_G = loss_GAN + lambda_pixel * loss_pixel\n",
        "\n",
        "        # 생성자(generator) 업데이트\n",
        "        loss_G.backward()\n",
        "        optimizer_G.step()\n",
        "\n",
        "        \"\"\" 판별자(discriminator)를 학습합니다. \"\"\"\n",
        "        optimizer_D.zero_grad()\n",
        "\n",
        "        # 판별자(discriminator)의 손실(loss) 값 계산\n",
        "        loss_real = criterion_GAN(discriminator(real_B, real_A), real) # 조건(condition): real_A\n",
        "        loss_fake = criterion_GAN(discriminator(fake_B.detach(), real_A), fake)\n",
        "        loss_D = (loss_real + loss_fake) / 2\n",
        "\n",
        "        # 판별자(discriminator) 업데이트\n",
        "        loss_D.backward()\n",
        "        optimizer_D.step()\n",
        "\n",
        "        done = (epoch+25) * len(train_dataloader) + i\n",
        "        if done % sample_interval == 0:\n",
        "            imgs = next(iter(val_dataloader)) # 10개의 이미지를 추출해 생성\n",
        "            real_A = imgs[\"B\"].cuda()\n",
        "            real_B = imgs[\"A\"].cuda()\n",
        "            fake_B = generator(real_A)\n",
        "            # real_A: 조건(condition), fake_B: 변환된 이미지(translated image), real_B: 정답 이미지\n",
        "            img_sample = torch.cat((real_A.data, fake_B.data, real_B.data), -2) # 높이(height)를 기준으로 이미지를 연결하기\n",
        "            save_image(img_sample, f\"{done}.png\", nrow=5, normalize=True)\n",
        "\n",
        "    # 하나의 epoch이 끝날 때마다 로그(log) 출력\n",
        "    wandb.log({\"epoch\": epoch+25, \"D loss\": loss_D.item(), \"G pixel loss\": loss_pixel.item() , \"adv loss\" : loss_GAN.item()})\n",
        "    print(f\"[Epoch {epoch+25}/{n_epochs+25}] [D loss: {loss_D.item():.6f}] [G pixel loss: {loss_pixel.item():.6f}, adv loss: {loss_GAN.item()}] [Elapsed time: {time.time() - start_time:.2f}s]\")\n",
        "\n",
        "%cd /content/drive/MyDrive/pix2pix/trained_model\n",
        "\n",
        "# 모델 파라미터 저장\n",
        "torch.save(generator.state_dict(), \"Pix2Pix_Generator_V1(50e).pt\")\n",
        "torch.save(discriminator.state_dict(), \"Pix2Pix_Discriminator_V1(50e).pt\")\n",
        "print(\"Model saved!\")"
      ],
      "metadata": {
        "id": "oVrYjeV92zFD",
        "colab": {
          "base_uri": "https://localhost:8080/"
        },
        "outputId": "53759c75-3e75-49e1-e233-ad6ecafc1dcc"
      },
      "execution_count": null,
      "outputs": [
        {
          "output_type": "stream",
          "name": "stdout",
          "text": [
            "/content/drive/MyDrive/pix2pix/v1(50e)\n",
            "[Epoch 25/50] [D loss: 0.324931] [G pixel loss: 0.022123, adv loss: 0.7617630362510681] [Elapsed time: 142.28s]\n",
            "[Epoch 26/50] [D loss: 0.199738] [G pixel loss: 0.046073, adv loss: 0.27891460061073303] [Elapsed time: 287.46s]\n",
            "[Epoch 27/50] [D loss: 0.447237] [G pixel loss: 0.024864, adv loss: 0.9122495651245117] [Elapsed time: 432.06s]\n",
            "[Epoch 28/50] [D loss: 0.181513] [G pixel loss: 0.027035, adv loss: 0.40665102005004883] [Elapsed time: 577.76s]\n",
            "[Epoch 29/50] [D loss: 0.248707] [G pixel loss: 0.025669, adv loss: 0.2773643434047699] [Elapsed time: 723.40s]\n",
            "[Epoch 30/50] [D loss: 0.196692] [G pixel loss: 0.026620, adv loss: 0.48789307475090027] [Elapsed time: 869.94s]\n",
            "[Epoch 31/50] [D loss: 0.190513] [G pixel loss: 0.027872, adv loss: 0.24120484292507172] [Elapsed time: 1014.54s]\n",
            "[Epoch 32/50] [D loss: 0.232718] [G pixel loss: 0.025320, adv loss: 0.2333695888519287] [Elapsed time: 1160.21s]\n",
            "[Epoch 33/50] [D loss: 0.229576] [G pixel loss: 0.026532, adv loss: 0.43322330713272095] [Elapsed time: 1305.74s]\n",
            "[Epoch 34/50] [D loss: 0.213913] [G pixel loss: 0.036056, adv loss: 0.2993520200252533] [Elapsed time: 1450.33s]\n",
            "[Epoch 35/50] [D loss: 0.246200] [G pixel loss: 0.018456, adv loss: 0.2995527684688568] [Elapsed time: 1595.88s]\n",
            "[Epoch 36/50] [D loss: 0.249866] [G pixel loss: 0.025074, adv loss: 0.2605021595954895] [Elapsed time: 1741.99s]\n",
            "[Epoch 37/50] [D loss: 0.267970] [G pixel loss: 0.017008, adv loss: 0.43758589029312134] [Elapsed time: 1886.67s]\n",
            "[Epoch 38/50] [D loss: 0.287081] [G pixel loss: 0.024765, adv loss: 0.10526642948389053] [Elapsed time: 2033.34s]\n",
            "[Epoch 39/50] [D loss: 0.234271] [G pixel loss: 0.024687, adv loss: 0.21414656937122345] [Elapsed time: 2178.71s]\n",
            "[Epoch 40/50] [D loss: 0.257924] [G pixel loss: 0.030997, adv loss: 0.36571383476257324] [Elapsed time: 2324.74s]\n",
            "[Epoch 41/50] [D loss: 0.262987] [G pixel loss: 0.025227, adv loss: 0.10267682373523712] [Elapsed time: 2469.33s]\n",
            "[Epoch 42/50] [D loss: 0.203763] [G pixel loss: 0.025498, adv loss: 0.22837162017822266] [Elapsed time: 2614.70s]\n",
            "[Epoch 43/50] [D loss: 0.216627] [G pixel loss: 0.022752, adv loss: 0.3062276542186737] [Elapsed time: 2760.37s]\n",
            "[Epoch 44/50] [D loss: 0.256482] [G pixel loss: 0.017811, adv loss: 0.30680450797080994] [Elapsed time: 2905.08s]\n",
            "[Epoch 45/50] [D loss: 0.235836] [G pixel loss: 0.022364, adv loss: 0.22221913933753967] [Elapsed time: 3050.75s]\n",
            "[Epoch 46/50] [D loss: 0.243787] [G pixel loss: 0.027651, adv loss: 0.23330362141132355] [Elapsed time: 3196.37s]\n",
            "[Epoch 47/50] [D loss: 0.310341] [G pixel loss: 0.023263, adv loss: 0.8419005274772644] [Elapsed time: 3341.94s]\n",
            "[Epoch 48/50] [D loss: 0.181039] [G pixel loss: 0.026089, adv loss: 0.28953224420547485] [Elapsed time: 3486.47s]\n",
            "[Epoch 49/50] [D loss: 0.220072] [G pixel loss: 0.015323, adv loss: 0.2708558142185211] [Elapsed time: 3632.55s]\n",
            "/content/drive/MyDrive/pix2pix/trained_model\n",
            "Model saved!\n"
          ]
        }
      ]
    },
    {
      "cell_type": "markdown",
      "source": [
        "### ~75epoch"
      ],
      "metadata": {
        "id": "Scp4wc5Jri-x"
      }
    },
    {
      "cell_type": "code",
      "source": [
        "%cd /content/drive/MyDrive/pix2pix/trained_model\n",
        "\n",
        "# 모델 불러오기\n",
        "generator = GeneratorUNet()\n",
        "discriminator = Discriminator()\n",
        "\n",
        "generator.cuda()\n",
        "discriminator.cuda()\n",
        "\n",
        "generator.load_state_dict(torch.load(\"Pix2Pix_Generator_V1(50e).pt\"))\n",
        "discriminator.load_state_dict(torch.load(\"Pix2Pix_Discriminator_V1(50e).pt\"))\n",
        "\n",
        "generator.eval();\n",
        "discriminator.eval();\n",
        "\n",
        "# 손실 함수(loss function)\n",
        "criterion_GAN = torch.nn.MSELoss()\n",
        "criterion_pixelwise = torch.nn.L1Loss()\n",
        "\n",
        "criterion_GAN.cuda()\n",
        "criterion_pixelwise.cuda()\n",
        "\n",
        "# 학습률(learning rate) 설정\n",
        "lr = 0.0002\n",
        "\n",
        "# 생성자와 판별자를 위한 최적화 함수\n",
        "optimizer_G = torch.optim.Adam(generator.parameters(), lr=lr, betas=(0.5, 0.999))\n",
        "optimizer_D = torch.optim.Adam(discriminator.parameters(), lr=lr, betas=(0.5, 0.999))"
      ],
      "metadata": {
        "colab": {
          "base_uri": "https://localhost:8080/"
        },
        "id": "dq4Tz5V7oECo",
        "outputId": "7b7b8ef0-85e1-4265-92ae-508c2cd304f3"
      },
      "execution_count": null,
      "outputs": [
        {
          "output_type": "stream",
          "name": "stdout",
          "text": [
            "/content/drive/MyDrive/pix2pix/trained_model\n"
          ]
        }
      ]
    },
    {
      "cell_type": "code",
      "source": [
        "%cd /content/drive/MyDrive/pix2pix/v1(75e)\n",
        "\n",
        "import time\n",
        "\n",
        "n_epochs = 25 # 학습의 횟수(epoch) 설정\n",
        "sample_interval = 500 # 몇 번의 배치(batch)마다 결과를 출력할 것인지 설정\n",
        "\n",
        "# 변환된 이미지와 정답 이미지 사이의 L1 픽셀 단위(pixel-wise) 손실 가중치(weight) 파라미터\n",
        "lambda_pixel = 100\n",
        "\n",
        "start_time = time.time()\n",
        "\n",
        "for epoch in range(n_epochs):\n",
        "    for i, batch in enumerate(train_dataloader):\n",
        "        # 모델의 입력(input) 데이터 불러오기\n",
        "        real_A = batch[\"B\"].cuda()\n",
        "        real_B = batch[\"A\"].cuda()\n",
        "\n",
        "        # 진짜(real) 이미지와 가짜(fake) 이미지에 대한 정답 레이블 생성 (너바와 높이를 16씩 나눈 크기)\n",
        "        real = torch.cuda.FloatTensor(real_A.size(0), 1, 16, 16).fill_(1.0) # 진짜(real): 1\n",
        "        fake = torch.cuda.FloatTensor(real_A.size(0), 1, 16, 16).fill_(0.0) # 가짜(fake): 0\n",
        "\n",
        "        \"\"\" 생성자(generator)를 학습합니다. \"\"\"\n",
        "        optimizer_G.zero_grad()\n",
        "\n",
        "        # 이미지 생성\n",
        "        fake_B = generator(real_A)\n",
        "\n",
        "        # 생성자(generator)의 손실(loss) 값 계산\n",
        "        loss_GAN = criterion_GAN(discriminator(fake_B, real_A), real)\n",
        "\n",
        "        # 픽셀 단위(pixel-wise) L1 손실 값 계산\n",
        "        loss_pixel = criterion_pixelwise(fake_B, real_B) \n",
        "\n",
        "        # 최종적인 손실(loss)\n",
        "        loss_G = loss_GAN + lambda_pixel * loss_pixel\n",
        "\n",
        "        # 생성자(generator) 업데이트\n",
        "        loss_G.backward()\n",
        "        optimizer_G.step()\n",
        "\n",
        "        \"\"\" 판별자(discriminator)를 학습합니다. \"\"\"\n",
        "        optimizer_D.zero_grad()\n",
        "\n",
        "        # 판별자(discriminator)의 손실(loss) 값 계산\n",
        "        loss_real = criterion_GAN(discriminator(real_B, real_A), real) # 조건(condition): real_A\n",
        "        loss_fake = criterion_GAN(discriminator(fake_B.detach(), real_A), fake)\n",
        "        loss_D = (loss_real + loss_fake) / 2\n",
        "\n",
        "        # 판별자(discriminator) 업데이트\n",
        "        loss_D.backward()\n",
        "        optimizer_D.step()\n",
        "\n",
        "        done = (epoch+50) * len(train_dataloader) + i\n",
        "        if done % sample_interval == 0:\n",
        "            imgs = next(iter(val_dataloader)) # 10개의 이미지를 추출해 생성\n",
        "            real_A = imgs[\"B\"].cuda()\n",
        "            real_B = imgs[\"A\"].cuda()\n",
        "            fake_B = generator(real_A)\n",
        "            # real_A: 조건(condition), fake_B: 변환된 이미지(translated image), real_B: 정답 이미지\n",
        "            img_sample = torch.cat((real_A.data, fake_B.data, real_B.data), -2) # 높이(height)를 기준으로 이미지를 연결하기\n",
        "            save_image(img_sample, f\"{done}.png\", nrow=5, normalize=True)\n",
        "\n",
        "    # 하나의 epoch이 끝날 때마다 로그(log) 출력\n",
        "    wandb.log({\"epoch\": epoch+50, \"D loss\": loss_D.item(), \"G pixel loss\": loss_pixel.item() , \"adv loss\" : loss_GAN.item()})\n",
        "    print(f\"[Epoch {epoch+50}/{n_epochs+50}] [D loss: {loss_D.item():.6f}] [G pixel loss: {loss_pixel.item():.6f}, adv loss: {loss_GAN.item()}] [Elapsed time: {time.time() - start_time:.2f}s]\")\n",
        "\n",
        "%cd /content/drive/MyDrive/pix2pix/trained_model\n",
        "\n",
        "# 모델 파라미터 저장\n",
        "torch.save(generator.state_dict(), \"Pix2Pix_Generator_V1(75e).pt\")\n",
        "torch.save(discriminator.state_dict(), \"Pix2Pix_Discriminator_V1(75e).pt\")\n",
        "print(\"Model saved!\")"
      ],
      "metadata": {
        "colab": {
          "base_uri": "https://localhost:8080/"
        },
        "id": "Np9eCyi0qz0g",
        "outputId": "db524b20-6992-4bf8-d576-8e71895b9a1f"
      },
      "execution_count": null,
      "outputs": [
        {
          "output_type": "stream",
          "name": "stdout",
          "text": [
            "/content/drive/MyDrive/pix2pix/v1(75e)\n",
            "[Epoch 50/75] [D loss: 0.201935] [G pixel loss: 0.020780, adv loss: 0.2233169823884964] [Elapsed time: 137.40s]\n",
            "[Epoch 51/75] [D loss: 0.245270] [G pixel loss: 0.014309, adv loss: 0.34879618883132935] [Elapsed time: 279.21s]\n",
            "[Epoch 52/75] [D loss: 0.163291] [G pixel loss: 0.034908, adv loss: 0.44457682967185974] [Elapsed time: 424.16s]\n",
            "[Epoch 53/75] [D loss: 0.208336] [G pixel loss: 0.016121, adv loss: 0.26329338550567627] [Elapsed time: 569.65s]\n",
            "[Epoch 54/75] [D loss: 0.247770] [G pixel loss: 0.020476, adv loss: 0.2257016897201538] [Elapsed time: 715.31s]\n",
            "[Epoch 55/75] [D loss: 0.206678] [G pixel loss: 0.021524, adv loss: 0.3788467347621918] [Elapsed time: 859.95s]\n",
            "[Epoch 56/75] [D loss: 0.161133] [G pixel loss: 0.022289, adv loss: 0.321333646774292] [Elapsed time: 1006.07s]\n",
            "[Epoch 57/75] [D loss: 0.215631] [G pixel loss: 0.015156, adv loss: 0.22882592678070068] [Elapsed time: 1152.52s]\n",
            "[Epoch 58/75] [D loss: 0.251541] [G pixel loss: 0.022200, adv loss: 0.24863334000110626] [Elapsed time: 1297.11s]\n",
            "[Epoch 59/75] [D loss: 0.278263] [G pixel loss: 0.022418, adv loss: 0.09088875353336334] [Elapsed time: 1442.89s]\n",
            "[Epoch 60/75] [D loss: 0.241772] [G pixel loss: 0.017059, adv loss: 0.4361191689968109] [Elapsed time: 1588.99s]\n",
            "[Epoch 61/75] [D loss: 0.198880] [G pixel loss: 0.018300, adv loss: 0.341869980096817] [Elapsed time: 1735.25s]\n",
            "[Epoch 62/75] [D loss: 0.313831] [G pixel loss: 0.017389, adv loss: 0.67280513048172] [Elapsed time: 1879.67s]\n",
            "[Epoch 63/75] [D loss: 0.196760] [G pixel loss: 0.017698, adv loss: 0.40044650435447693] [Elapsed time: 2025.26s]\n",
            "[Epoch 64/75] [D loss: 0.196736] [G pixel loss: 0.015126, adv loss: 0.27172765135765076] [Elapsed time: 2171.35s]\n",
            "[Epoch 65/75] [D loss: 0.216745] [G pixel loss: 0.015318, adv loss: 0.3477136492729187] [Elapsed time: 2315.84s]\n",
            "[Epoch 66/75] [D loss: 0.225267] [G pixel loss: 0.023996, adv loss: 0.2950357496738434] [Elapsed time: 2461.96s]\n",
            "[Epoch 67/75] [D loss: 0.221375] [G pixel loss: 0.018570, adv loss: 0.25513383746147156] [Elapsed time: 2607.54s]\n",
            "[Epoch 68/75] [D loss: 0.240883] [G pixel loss: 0.024106, adv loss: 0.1750539392232895] [Elapsed time: 2752.02s]\n",
            "[Epoch 69/75] [D loss: 0.190436] [G pixel loss: 0.019475, adv loss: 0.33584558963775635] [Elapsed time: 2897.49s]\n",
            "[Epoch 70/75] [D loss: 0.238034] [G pixel loss: 0.022308, adv loss: 0.15364623069763184] [Elapsed time: 3043.05s]\n",
            "[Epoch 71/75] [D loss: 0.210578] [G pixel loss: 0.019091, adv loss: 0.5638167858123779] [Elapsed time: 3188.46s]\n",
            "[Epoch 72/75] [D loss: 0.209468] [G pixel loss: 0.025244, adv loss: 0.8249816298484802] [Elapsed time: 3332.96s]\n",
            "[Epoch 73/75] [D loss: 0.274575] [G pixel loss: 0.017512, adv loss: 0.1237034797668457] [Elapsed time: 3478.68s]\n",
            "[Epoch 74/75] [D loss: 0.176535] [G pixel loss: 0.022466, adv loss: 0.36766013503074646] [Elapsed time: 3624.49s]\n",
            "/content/drive/MyDrive/pix2pix/trained_model\n",
            "Model saved!\n"
          ]
        }
      ]
    },
    {
      "cell_type": "markdown",
      "source": [
        "## ~100epoch "
      ],
      "metadata": {
        "id": "VqdpaBYk2JMO"
      }
    },
    {
      "cell_type": "code",
      "source": [
        "%cd /content/drive/MyDrive/pix2pix/trained_model\n",
        "\n",
        "# 모델 불러오기\n",
        "generator = GeneratorUNet()\n",
        "discriminator = Discriminator()\n",
        "\n",
        "generator.cuda()\n",
        "discriminator.cuda()\n",
        "\n",
        "generator.load_state_dict(torch.load(\"Pix2Pix_Generator_V1(75e).pt\"))\n",
        "discriminator.load_state_dict(torch.load(\"Pix2Pix_Discriminator_V1(75e).pt\"))\n",
        "\n",
        "generator.eval();\n",
        "discriminator.eval();\n",
        "\n",
        "# 손실 함수(loss function)\n",
        "criterion_GAN = torch.nn.MSELoss()\n",
        "criterion_pixelwise = torch.nn.L1Loss()\n",
        "\n",
        "criterion_GAN.cuda()\n",
        "criterion_pixelwise.cuda()\n",
        "\n",
        "# 학습률(learning rate) 설정\n",
        "lr = 0.0002\n",
        "\n",
        "# 생성자와 판별자를 위한 최적화 함수\n",
        "optimizer_G = torch.optim.Adam(generator.parameters(), lr=lr, betas=(0.5, 0.999))\n",
        "optimizer_D = torch.optim.Adam(discriminator.parameters(), lr=lr, betas=(0.5, 0.999))"
      ],
      "metadata": {
        "colab": {
          "base_uri": "https://localhost:8080/"
        },
        "id": "f6DjljFczDKW",
        "outputId": "57f8f6e4-78c0-410f-d0ce-6e30b1a07d19"
      },
      "execution_count": null,
      "outputs": [
        {
          "output_type": "stream",
          "name": "stdout",
          "text": [
            "/content/drive/MyDrive/pix2pix/trained_model\n"
          ]
        }
      ]
    },
    {
      "cell_type": "code",
      "source": [
        "%cd /content/drive/MyDrive/pix2pix/v1(100e)\n",
        "\n",
        "import time\n",
        "\n",
        "n_epochs = 25 # 학습의 횟수(epoch) 설정\n",
        "sample_interval = 500 # 몇 번의 배치(batch)마다 결과를 출력할 것인지 설정\n",
        "\n",
        "# 변환된 이미지와 정답 이미지 사이의 L1 픽셀 단위(pixel-wise) 손실 가중치(weight) 파라미터\n",
        "lambda_pixel = 100\n",
        "\n",
        "start_time = time.time()\n",
        "\n",
        "for epoch in range(n_epochs):\n",
        "    for i, batch in enumerate(train_dataloader):\n",
        "        # 모델의 입력(input) 데이터 불러오기\n",
        "        real_A = batch[\"B\"].cuda()\n",
        "        real_B = batch[\"A\"].cuda()\n",
        "\n",
        "        # 진짜(real) 이미지와 가짜(fake) 이미지에 대한 정답 레이블 생성 (너바와 높이를 16씩 나눈 크기)\n",
        "        real = torch.cuda.FloatTensor(real_A.size(0), 1, 16, 16).fill_(1.0) # 진짜(real): 1\n",
        "        fake = torch.cuda.FloatTensor(real_A.size(0), 1, 16, 16).fill_(0.0) # 가짜(fake): 0\n",
        "\n",
        "        \"\"\" 생성자(generator)를 학습합니다. \"\"\"\n",
        "        optimizer_G.zero_grad()\n",
        "\n",
        "        # 이미지 생성\n",
        "        fake_B = generator(real_A)\n",
        "\n",
        "        # 생성자(generator)의 손실(loss) 값 계산\n",
        "        loss_GAN = criterion_GAN(discriminator(fake_B, real_A), real)\n",
        "\n",
        "        # 픽셀 단위(pixel-wise) L1 손실 값 계산\n",
        "        loss_pixel = criterion_pixelwise(fake_B, real_B) \n",
        "\n",
        "        # 최종적인 손실(loss)\n",
        "        loss_G = loss_GAN + lambda_pixel * loss_pixel\n",
        "\n",
        "        # 생성자(generator) 업데이트\n",
        "        loss_G.backward()\n",
        "        optimizer_G.step()\n",
        "\n",
        "        \"\"\" 판별자(discriminator)를 학습합니다. \"\"\"\n",
        "        optimizer_D.zero_grad()\n",
        "\n",
        "        # 판별자(discriminator)의 손실(loss) 값 계산\n",
        "        loss_real = criterion_GAN(discriminator(real_B, real_A), real) # 조건(condition): real_A\n",
        "        loss_fake = criterion_GAN(discriminator(fake_B.detach(), real_A), fake)\n",
        "        loss_D = (loss_real + loss_fake) / 2\n",
        "\n",
        "        # 판별자(discriminator) 업데이트\n",
        "        loss_D.backward()\n",
        "        optimizer_D.step()\n",
        "\n",
        "        done = (epoch+75) * len(train_dataloader) + i\n",
        "        if done % sample_interval == 0:\n",
        "            imgs = next(iter(val_dataloader)) # 10개의 이미지를 추출해 생성\n",
        "            real_A = imgs[\"B\"].cuda()\n",
        "            real_B = imgs[\"A\"].cuda()\n",
        "            fake_B = generator(real_A)\n",
        "            # real_A: 조건(condition), fake_B: 변환된 이미지(translated image), real_B: 정답 이미지\n",
        "            img_sample = torch.cat((real_A.data, fake_B.data, real_B.data), -2) # 높이(height)를 기준으로 이미지를 연결하기\n",
        "            save_image(img_sample, f\"{done}.png\", nrow=5, normalize=True)\n",
        "\n",
        "    # 하나의 epoch이 끝날 때마다 로그(log) 출력\n",
        "    wandb.log({\"epoch\": epoch+75, \"D loss\": loss_D.item(), \"G pixel loss\": loss_pixel.item() , \"adv loss\" : loss_GAN.item()})\n",
        "    print(f\"[Epoch {epoch+75}/{n_epochs+75}] [D loss: {loss_D.item():.6f}] [G pixel loss: {loss_pixel.item():.6f}, adv loss: {loss_GAN.item()}] [Elapsed time: {time.time() - start_time:.2f}s]\")\n",
        "\n",
        "%cd /content/drive/MyDrive/pix2pix/trained_model\n",
        "\n",
        "# 모델 파라미터 저장\n",
        "torch.save(generator.state_dict(), \"Pix2Pix_Generator_V1(100e).pt\")\n",
        "torch.save(discriminator.state_dict(), \"Pix2Pix_Discriminator_V1(100e).pt\")\n",
        "print(\"Model saved!\")"
      ],
      "metadata": {
        "colab": {
          "base_uri": "https://localhost:8080/"
        },
        "id": "VRBHttqf0bDX",
        "outputId": "c5e2780e-c03f-4178-d1dc-600989e454e1"
      },
      "execution_count": null,
      "outputs": [
        {
          "output_type": "stream",
          "name": "stdout",
          "text": [
            "/content/drive/MyDrive/pix2pix/v1(100e)\n",
            "[Epoch 75/100] [D loss: 0.191752] [G pixel loss: 0.020446, adv loss: 0.34612637758255005] [Elapsed time: 139.82s]\n",
            "[Epoch 76/100] [D loss: 0.239074] [G pixel loss: 0.019532, adv loss: 0.12467532604932785] [Elapsed time: 284.55s]\n",
            "[Epoch 77/100] [D loss: 0.185376] [G pixel loss: 0.019972, adv loss: 0.4469554126262665] [Elapsed time: 430.32s]\n",
            "[Epoch 78/100] [D loss: 0.194631] [G pixel loss: 0.018606, adv loss: 0.30172258615493774] [Elapsed time: 575.99s]\n",
            "[Epoch 79/100] [D loss: 0.272770] [G pixel loss: 0.018436, adv loss: 0.5255028605461121] [Elapsed time: 720.63s]\n",
            "[Epoch 80/100] [D loss: 0.194626] [G pixel loss: 0.017379, adv loss: 0.2978973090648651] [Elapsed time: 866.23s]\n",
            "[Epoch 81/100] [D loss: 0.203082] [G pixel loss: 0.021269, adv loss: 0.3331761956214905] [Elapsed time: 1012.51s]\n",
            "[Epoch 82/100] [D loss: 0.250774] [G pixel loss: 0.014521, adv loss: 0.23894277215003967] [Elapsed time: 1157.20s]\n",
            "[Epoch 83/100] [D loss: 0.230135] [G pixel loss: 0.011572, adv loss: 0.3099614679813385] [Elapsed time: 1302.87s]\n",
            "[Epoch 84/100] [D loss: 0.202515] [G pixel loss: 0.015900, adv loss: 0.2539582848548889] [Elapsed time: 1449.38s]\n",
            "[Epoch 85/100] [D loss: 0.230485] [G pixel loss: 0.017614, adv loss: 0.4665159285068512] [Elapsed time: 1594.94s]\n",
            "[Epoch 86/100] [D loss: 0.238007] [G pixel loss: 0.017600, adv loss: 0.24118672311306] [Elapsed time: 1739.41s]\n",
            "[Epoch 87/100] [D loss: 0.215959] [G pixel loss: 0.015556, adv loss: 0.3355019986629486] [Elapsed time: 1885.46s]\n",
            "[Epoch 88/100] [D loss: 0.221629] [G pixel loss: 0.014143, adv loss: 0.18241475522518158] [Elapsed time: 2031.15s]\n",
            "[Epoch 89/100] [D loss: 0.254093] [G pixel loss: 0.020177, adv loss: 0.23583011329174042] [Elapsed time: 2175.70s]\n",
            "[Epoch 90/100] [D loss: 0.250914] [G pixel loss: 0.016560, adv loss: 0.2580714821815491] [Elapsed time: 2321.39s]\n",
            "[Epoch 91/100] [D loss: 0.252184] [G pixel loss: 0.013216, adv loss: 0.2185962200164795] [Elapsed time: 2467.18s]\n",
            "[Epoch 92/100] [D loss: 0.248850] [G pixel loss: 0.018861, adv loss: 0.23931793868541718] [Elapsed time: 2612.84s]\n",
            "[Epoch 93/100] [D loss: 0.282575] [G pixel loss: 0.025312, adv loss: 0.31416967511177063] [Elapsed time: 2757.11s]\n",
            "[Epoch 94/100] [D loss: 0.225199] [G pixel loss: 0.016018, adv loss: 0.34050509333610535] [Elapsed time: 2902.69s]\n",
            "[Epoch 95/100] [D loss: 0.158664] [G pixel loss: 0.024844, adv loss: 0.4683367908000946] [Elapsed time: 3048.29s]\n",
            "[Epoch 96/100] [D loss: 0.186943] [G pixel loss: 0.015345, adv loss: 0.2708147466182709] [Elapsed time: 3192.77s]\n",
            "[Epoch 97/100] [D loss: 0.204422] [G pixel loss: 0.017179, adv loss: 0.3085567355155945] [Elapsed time: 3338.50s]\n",
            "[Epoch 98/100] [D loss: 0.263966] [G pixel loss: 0.014628, adv loss: 0.13871435821056366] [Elapsed time: 3484.44s]\n",
            "[Epoch 99/100] [D loss: 0.256347] [G pixel loss: 0.017940, adv loss: 0.13116250932216644] [Elapsed time: 3629.11s]\n",
            "/content/drive/MyDrive/pix2pix/trained_model\n",
            "Model saved!\n"
          ]
        }
      ]
    },
    {
      "cell_type": "markdown",
      "source": [
        "# 9. 모델 사용하기\n",
        "\n",
        "참조한 코드 https://github.com/suhoy901/ImageTranslation/blob/master/Pix2Pix/1.%20Pix2Pix_train.ipynb"
      ],
      "metadata": {
        "id": "p13iWWaE3OCF"
      }
    },
    {
      "cell_type": "code",
      "source": [
        "from __future__ import print_function\n",
        "import argparse\n",
        "\n",
        "from torch.autograd import Variable\n",
        "\n",
        "import PIL.Image\n",
        "import PIL.ImageTk\n",
        "import cv2\n",
        "from google.colab.patches import cv2_imshow\n",
        "from IPython.display import Image\n",
        "\n",
        "\n",
        "def is_image_file(filename):\n",
        "    return any(filename.endswith(extension) for extension in [\".png\", \".jpg\", \".jpeg\"])\n",
        "\n",
        "\n",
        "def load_img(filepath):\n",
        "    img = PIL.Image.open(filepath).convert('RGB')\n",
        "    img = img.resize((256, 256))\n",
        "    return img\n",
        "\n",
        "\n",
        "def save_img(image_tensor, filename):\n",
        "    image_numpy = image_tensor.float().numpy()\n",
        "    image_numpy = (np.transpose(image_numpy, (1, 2, 0)) + 1) / 2.0 * 255.0\n",
        "    image_numpy = image_numpy.astype(np.uint8)\n",
        "    image_pil = Image.fromarray(image_numpy)\n",
        "    image_pil.save(filename)\n",
        "    print(\"Image saved as {}\".format(filename))\n",
        "\n",
        "\n",
        "parser = argparse.ArgumentParser()\n",
        "parser.add_argument('--dataset', required=False, default='illustration', help='illustration')\n",
        "parser.add_argument('--model', required=False, type=str, default='Pix2Pix_Generator_V1(1).pt', help='model file to use')\n",
        "parser.add_argument('--cuda', action='store_true', default=True, help='use cuda')\n",
        "params = parser.parse_args([])\n",
        "print(params)"
      ],
      "metadata": {
        "id": "xLnR1Xed3XWn",
        "colab": {
          "base_uri": "https://localhost:8080/"
        },
        "outputId": "725597b2-9fce-47b0-84af-dff59d5373b4"
      },
      "execution_count": null,
      "outputs": [
        {
          "output_type": "stream",
          "name": "stdout",
          "text": [
            "Namespace(cuda=True, dataset='illustration', model='Pix2Pix_Generator_V1(1).pt')\n"
          ]
        }
      ]
    },
    {
      "cell_type": "code",
      "source": [
        "#@markdown #**이미지 파일 하나만 넣을 때**\n",
        "#@markdown ---\n",
        "target_imagefile = \"/content/drive/MyDrive/data/photo/\\u110C\\u1161\\u1103\\u1169\\u11BC\\u110E\\u1161 \\u1109\\u1161\\u110C\\u1175\\u11AB1.jpg\\u110B\\u1174 \\u1109\\u1161\\u1107\\u1169\\u11AB\"#@param {type:\"string\"} \n",
        "\n",
        "imgs = load_img(target_imagefile) #인풋 이미지 경로 넣기\n",
        "imgs = transforms_(imgs)\n",
        "\n",
        "input = Variable(imgs).view(1,-1,256,256)\n",
        "input_img = input.data[0]\n",
        "\n",
        "if params.cuda:\n",
        "    generator = generator.cuda()\n",
        "    input = input.cuda()\n",
        "\n",
        "out = generator(input)\n",
        "out = out.cpu()\n",
        "out_img = out.data[0]\n",
        "save_image(out_img, \"result.png\", nrow=1, normalize=True)\n",
        "\n",
        "Image('result.png')"
      ],
      "metadata": {
        "id": "dFsLajfw3e83",
        "colab": {
          "base_uri": "https://localhost:8080/",
          "height": 273
        },
        "outputId": "8049a942-895d-4d9a-bee4-d7e05b05df91"
      },
      "execution_count": null,
      "outputs": [
        {
          "output_type": "execute_result",
          "data": {
            "image/png": "[encoded data removed]",
            "text/plain": [
              "<IPython.core.display.Image object>"
            ]
          },
          "metadata": {},
          "execution_count": 35
        }
      ]
    }
  ]
}